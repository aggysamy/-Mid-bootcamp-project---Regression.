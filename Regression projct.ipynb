{
 "cells": [
  {
   "cell_type": "markdown",
   "id": "e10747bb",
   "metadata": {},
   "source": [
    "Mid-Project \n",
    "Regression"
   ]
  },
  {
   "cell_type": "markdown",
   "id": "136da566",
   "metadata": {},
   "source": [
    "# Import Libralies"
   ]
  },
  {
   "cell_type": "code",
   "execution_count": 38,
   "id": "de9b3828",
   "metadata": {},
   "outputs": [],
   "source": [
    "#Import the necessary libraries\n",
    "import numpy as np\n",
    "import pandas as pd\n",
    "import datetime\n",
    "pd.set_option('display.max_columns', None)\n",
    "\n",
    "\n",
    "import matplotlib.pyplot as plt\n",
    "import seaborn as sns\n",
    "%matplotlib inline\n",
    "import warnings\n",
    "warnings.filterwarnings('ignore')"
   ]
  },
  {
   "cell_type": "code",
   "execution_count": 39,
   "id": "cf048f2d",
   "metadata": {},
   "outputs": [],
   "source": [
    "data = pd.read_excel('regression_data.xls')"
   ]
  },
  {
   "cell_type": "markdown",
   "id": "b76e05bf",
   "metadata": {},
   "source": [
    "# 2. Reading data"
   ]
  },
  {
   "cell_type": "code",
   "execution_count": 40,
   "id": "c123e315",
   "metadata": {},
   "outputs": [
    {
     "data": {
      "text/html": [
       "<div>\n",
       "<style scoped>\n",
       "    .dataframe tbody tr th:only-of-type {\n",
       "        vertical-align: middle;\n",
       "    }\n",
       "\n",
       "    .dataframe tbody tr th {\n",
       "        vertical-align: top;\n",
       "    }\n",
       "\n",
       "    .dataframe thead th {\n",
       "        text-align: right;\n",
       "    }\n",
       "</style>\n",
       "<table border=\"1\" class=\"dataframe\">\n",
       "  <thead>\n",
       "    <tr style=\"text-align: right;\">\n",
       "      <th></th>\n",
       "      <th>id</th>\n",
       "      <th>date</th>\n",
       "      <th>bedrooms</th>\n",
       "      <th>bathrooms</th>\n",
       "      <th>sqft_living</th>\n",
       "      <th>sqft_lot</th>\n",
       "      <th>floors</th>\n",
       "      <th>waterfront</th>\n",
       "      <th>view</th>\n",
       "      <th>condition</th>\n",
       "      <th>grade</th>\n",
       "      <th>sqft_above</th>\n",
       "      <th>sqft_basement</th>\n",
       "      <th>yr_built</th>\n",
       "      <th>yr_renovated</th>\n",
       "      <th>zipcode</th>\n",
       "      <th>lat</th>\n",
       "      <th>long</th>\n",
       "      <th>sqft_living15</th>\n",
       "      <th>sqft_lot15</th>\n",
       "      <th>price</th>\n",
       "    </tr>\n",
       "  </thead>\n",
       "  <tbody>\n",
       "    <tr>\n",
       "      <th>0</th>\n",
       "      <td>7129300520</td>\n",
       "      <td>2014-10-13</td>\n",
       "      <td>3</td>\n",
       "      <td>1.00</td>\n",
       "      <td>1180</td>\n",
       "      <td>5650</td>\n",
       "      <td>1.0</td>\n",
       "      <td>0</td>\n",
       "      <td>0</td>\n",
       "      <td>3</td>\n",
       "      <td>7</td>\n",
       "      <td>1180</td>\n",
       "      <td>0</td>\n",
       "      <td>1955</td>\n",
       "      <td>0</td>\n",
       "      <td>98178</td>\n",
       "      <td>47.5112</td>\n",
       "      <td>-122.257</td>\n",
       "      <td>1340</td>\n",
       "      <td>5650</td>\n",
       "      <td>221900</td>\n",
       "    </tr>\n",
       "    <tr>\n",
       "      <th>1</th>\n",
       "      <td>6414100192</td>\n",
       "      <td>2014-12-09</td>\n",
       "      <td>3</td>\n",
       "      <td>2.25</td>\n",
       "      <td>2570</td>\n",
       "      <td>7242</td>\n",
       "      <td>2.0</td>\n",
       "      <td>0</td>\n",
       "      <td>0</td>\n",
       "      <td>3</td>\n",
       "      <td>7</td>\n",
       "      <td>2170</td>\n",
       "      <td>400</td>\n",
       "      <td>1951</td>\n",
       "      <td>1991</td>\n",
       "      <td>98125</td>\n",
       "      <td>47.7210</td>\n",
       "      <td>-122.319</td>\n",
       "      <td>1690</td>\n",
       "      <td>7639</td>\n",
       "      <td>538000</td>\n",
       "    </tr>\n",
       "    <tr>\n",
       "      <th>2</th>\n",
       "      <td>5631500400</td>\n",
       "      <td>2015-02-25</td>\n",
       "      <td>2</td>\n",
       "      <td>1.00</td>\n",
       "      <td>770</td>\n",
       "      <td>10000</td>\n",
       "      <td>1.0</td>\n",
       "      <td>0</td>\n",
       "      <td>0</td>\n",
       "      <td>3</td>\n",
       "      <td>6</td>\n",
       "      <td>770</td>\n",
       "      <td>0</td>\n",
       "      <td>1933</td>\n",
       "      <td>0</td>\n",
       "      <td>98028</td>\n",
       "      <td>47.7379</td>\n",
       "      <td>-122.233</td>\n",
       "      <td>2720</td>\n",
       "      <td>8062</td>\n",
       "      <td>180000</td>\n",
       "    </tr>\n",
       "    <tr>\n",
       "      <th>3</th>\n",
       "      <td>2487200875</td>\n",
       "      <td>2014-12-09</td>\n",
       "      <td>4</td>\n",
       "      <td>3.00</td>\n",
       "      <td>1960</td>\n",
       "      <td>5000</td>\n",
       "      <td>1.0</td>\n",
       "      <td>0</td>\n",
       "      <td>0</td>\n",
       "      <td>5</td>\n",
       "      <td>7</td>\n",
       "      <td>1050</td>\n",
       "      <td>910</td>\n",
       "      <td>1965</td>\n",
       "      <td>0</td>\n",
       "      <td>98136</td>\n",
       "      <td>47.5208</td>\n",
       "      <td>-122.393</td>\n",
       "      <td>1360</td>\n",
       "      <td>5000</td>\n",
       "      <td>604000</td>\n",
       "    </tr>\n",
       "    <tr>\n",
       "      <th>4</th>\n",
       "      <td>1954400510</td>\n",
       "      <td>2015-02-18</td>\n",
       "      <td>3</td>\n",
       "      <td>2.00</td>\n",
       "      <td>1680</td>\n",
       "      <td>8080</td>\n",
       "      <td>1.0</td>\n",
       "      <td>0</td>\n",
       "      <td>0</td>\n",
       "      <td>3</td>\n",
       "      <td>8</td>\n",
       "      <td>1680</td>\n",
       "      <td>0</td>\n",
       "      <td>1987</td>\n",
       "      <td>0</td>\n",
       "      <td>98074</td>\n",
       "      <td>47.6168</td>\n",
       "      <td>-122.045</td>\n",
       "      <td>1800</td>\n",
       "      <td>7503</td>\n",
       "      <td>510000</td>\n",
       "    </tr>\n",
       "    <tr>\n",
       "      <th>...</th>\n",
       "      <td>...</td>\n",
       "      <td>...</td>\n",
       "      <td>...</td>\n",
       "      <td>...</td>\n",
       "      <td>...</td>\n",
       "      <td>...</td>\n",
       "      <td>...</td>\n",
       "      <td>...</td>\n",
       "      <td>...</td>\n",
       "      <td>...</td>\n",
       "      <td>...</td>\n",
       "      <td>...</td>\n",
       "      <td>...</td>\n",
       "      <td>...</td>\n",
       "      <td>...</td>\n",
       "      <td>...</td>\n",
       "      <td>...</td>\n",
       "      <td>...</td>\n",
       "      <td>...</td>\n",
       "      <td>...</td>\n",
       "      <td>...</td>\n",
       "    </tr>\n",
       "    <tr>\n",
       "      <th>21592</th>\n",
       "      <td>263000018</td>\n",
       "      <td>2014-05-21</td>\n",
       "      <td>3</td>\n",
       "      <td>2.50</td>\n",
       "      <td>1530</td>\n",
       "      <td>1131</td>\n",
       "      <td>3.0</td>\n",
       "      <td>0</td>\n",
       "      <td>0</td>\n",
       "      <td>3</td>\n",
       "      <td>8</td>\n",
       "      <td>1530</td>\n",
       "      <td>0</td>\n",
       "      <td>2009</td>\n",
       "      <td>0</td>\n",
       "      <td>98103</td>\n",
       "      <td>47.6993</td>\n",
       "      <td>-122.346</td>\n",
       "      <td>1530</td>\n",
       "      <td>1509</td>\n",
       "      <td>360000</td>\n",
       "    </tr>\n",
       "    <tr>\n",
       "      <th>21593</th>\n",
       "      <td>6600060120</td>\n",
       "      <td>2015-02-23</td>\n",
       "      <td>4</td>\n",
       "      <td>2.50</td>\n",
       "      <td>2310</td>\n",
       "      <td>5813</td>\n",
       "      <td>2.0</td>\n",
       "      <td>0</td>\n",
       "      <td>0</td>\n",
       "      <td>3</td>\n",
       "      <td>8</td>\n",
       "      <td>2310</td>\n",
       "      <td>0</td>\n",
       "      <td>2014</td>\n",
       "      <td>0</td>\n",
       "      <td>98146</td>\n",
       "      <td>47.5107</td>\n",
       "      <td>-122.362</td>\n",
       "      <td>1830</td>\n",
       "      <td>7200</td>\n",
       "      <td>400000</td>\n",
       "    </tr>\n",
       "    <tr>\n",
       "      <th>21594</th>\n",
       "      <td>1523300141</td>\n",
       "      <td>2014-06-23</td>\n",
       "      <td>2</td>\n",
       "      <td>0.75</td>\n",
       "      <td>1020</td>\n",
       "      <td>1350</td>\n",
       "      <td>2.0</td>\n",
       "      <td>0</td>\n",
       "      <td>0</td>\n",
       "      <td>3</td>\n",
       "      <td>7</td>\n",
       "      <td>1020</td>\n",
       "      <td>0</td>\n",
       "      <td>2009</td>\n",
       "      <td>0</td>\n",
       "      <td>98144</td>\n",
       "      <td>47.5944</td>\n",
       "      <td>-122.299</td>\n",
       "      <td>1020</td>\n",
       "      <td>2007</td>\n",
       "      <td>402101</td>\n",
       "    </tr>\n",
       "    <tr>\n",
       "      <th>21595</th>\n",
       "      <td>291310100</td>\n",
       "      <td>2015-01-16</td>\n",
       "      <td>3</td>\n",
       "      <td>2.50</td>\n",
       "      <td>1600</td>\n",
       "      <td>2388</td>\n",
       "      <td>2.0</td>\n",
       "      <td>0</td>\n",
       "      <td>0</td>\n",
       "      <td>3</td>\n",
       "      <td>8</td>\n",
       "      <td>1600</td>\n",
       "      <td>0</td>\n",
       "      <td>2004</td>\n",
       "      <td>0</td>\n",
       "      <td>98027</td>\n",
       "      <td>47.5345</td>\n",
       "      <td>-122.069</td>\n",
       "      <td>1410</td>\n",
       "      <td>1287</td>\n",
       "      <td>400000</td>\n",
       "    </tr>\n",
       "    <tr>\n",
       "      <th>21596</th>\n",
       "      <td>1523300157</td>\n",
       "      <td>2014-10-15</td>\n",
       "      <td>2</td>\n",
       "      <td>0.75</td>\n",
       "      <td>1020</td>\n",
       "      <td>1076</td>\n",
       "      <td>2.0</td>\n",
       "      <td>0</td>\n",
       "      <td>0</td>\n",
       "      <td>3</td>\n",
       "      <td>7</td>\n",
       "      <td>1020</td>\n",
       "      <td>0</td>\n",
       "      <td>2008</td>\n",
       "      <td>0</td>\n",
       "      <td>98144</td>\n",
       "      <td>47.5941</td>\n",
       "      <td>-122.299</td>\n",
       "      <td>1020</td>\n",
       "      <td>1357</td>\n",
       "      <td>325000</td>\n",
       "    </tr>\n",
       "  </tbody>\n",
       "</table>\n",
       "<p>21597 rows × 21 columns</p>\n",
       "</div>"
      ],
      "text/plain": [
       "               id       date  bedrooms  bathrooms  sqft_living  sqft_lot  \\\n",
       "0      7129300520 2014-10-13         3       1.00         1180      5650   \n",
       "1      6414100192 2014-12-09         3       2.25         2570      7242   \n",
       "2      5631500400 2015-02-25         2       1.00          770     10000   \n",
       "3      2487200875 2014-12-09         4       3.00         1960      5000   \n",
       "4      1954400510 2015-02-18         3       2.00         1680      8080   \n",
       "...           ...        ...       ...        ...          ...       ...   \n",
       "21592   263000018 2014-05-21         3       2.50         1530      1131   \n",
       "21593  6600060120 2015-02-23         4       2.50         2310      5813   \n",
       "21594  1523300141 2014-06-23         2       0.75         1020      1350   \n",
       "21595   291310100 2015-01-16         3       2.50         1600      2388   \n",
       "21596  1523300157 2014-10-15         2       0.75         1020      1076   \n",
       "\n",
       "       floors  waterfront  view  condition  grade  sqft_above  sqft_basement  \\\n",
       "0         1.0           0     0          3      7        1180              0   \n",
       "1         2.0           0     0          3      7        2170            400   \n",
       "2         1.0           0     0          3      6         770              0   \n",
       "3         1.0           0     0          5      7        1050            910   \n",
       "4         1.0           0     0          3      8        1680              0   \n",
       "...       ...         ...   ...        ...    ...         ...            ...   \n",
       "21592     3.0           0     0          3      8        1530              0   \n",
       "21593     2.0           0     0          3      8        2310              0   \n",
       "21594     2.0           0     0          3      7        1020              0   \n",
       "21595     2.0           0     0          3      8        1600              0   \n",
       "21596     2.0           0     0          3      7        1020              0   \n",
       "\n",
       "       yr_built  yr_renovated  zipcode      lat     long  sqft_living15  \\\n",
       "0          1955             0    98178  47.5112 -122.257           1340   \n",
       "1          1951          1991    98125  47.7210 -122.319           1690   \n",
       "2          1933             0    98028  47.7379 -122.233           2720   \n",
       "3          1965             0    98136  47.5208 -122.393           1360   \n",
       "4          1987             0    98074  47.6168 -122.045           1800   \n",
       "...         ...           ...      ...      ...      ...            ...   \n",
       "21592      2009             0    98103  47.6993 -122.346           1530   \n",
       "21593      2014             0    98146  47.5107 -122.362           1830   \n",
       "21594      2009             0    98144  47.5944 -122.299           1020   \n",
       "21595      2004             0    98027  47.5345 -122.069           1410   \n",
       "21596      2008             0    98144  47.5941 -122.299           1020   \n",
       "\n",
       "       sqft_lot15   price  \n",
       "0            5650  221900  \n",
       "1            7639  538000  \n",
       "2            8062  180000  \n",
       "3            5000  604000  \n",
       "4            7503  510000  \n",
       "...           ...     ...  \n",
       "21592        1509  360000  \n",
       "21593        7200  400000  \n",
       "21594        2007  402101  \n",
       "21595        1287  400000  \n",
       "21596        1357  325000  \n",
       "\n",
       "[21597 rows x 21 columns]"
      ]
     },
     "execution_count": 40,
     "metadata": {},
     "output_type": "execute_result"
    }
   ],
   "source": [
    "data"
   ]
  },
  {
   "cell_type": "markdown",
   "id": "e04d69ef",
   "metadata": {},
   "source": [
    "# 2. EDA | Explore the data"
   ]
  },
  {
   "cell_type": "code",
   "execution_count": 41,
   "id": "5b793b9a",
   "metadata": {},
   "outputs": [
    {
     "name": "stdout",
     "output_type": "stream",
     "text": [
      "<class 'pandas.core.frame.DataFrame'>\n",
      "RangeIndex: 21597 entries, 0 to 21596\n",
      "Data columns (total 21 columns):\n",
      " #   Column         Non-Null Count  Dtype         \n",
      "---  ------         --------------  -----         \n",
      " 0   id             21597 non-null  int64         \n",
      " 1   date           21597 non-null  datetime64[ns]\n",
      " 2   bedrooms       21597 non-null  int64         \n",
      " 3   bathrooms      21597 non-null  float64       \n",
      " 4   sqft_living    21597 non-null  int64         \n",
      " 5   sqft_lot       21597 non-null  int64         \n",
      " 6   floors         21597 non-null  float64       \n",
      " 7   waterfront     21597 non-null  int64         \n",
      " 8   view           21597 non-null  int64         \n",
      " 9   condition      21597 non-null  int64         \n",
      " 10  grade          21597 non-null  int64         \n",
      " 11  sqft_above     21597 non-null  int64         \n",
      " 12  sqft_basement  21597 non-null  int64         \n",
      " 13  yr_built       21597 non-null  int64         \n",
      " 14  yr_renovated   21597 non-null  int64         \n",
      " 15  zipcode        21597 non-null  int64         \n",
      " 16  lat            21597 non-null  float64       \n",
      " 17  long           21597 non-null  float64       \n",
      " 18  sqft_living15  21597 non-null  int64         \n",
      " 19  sqft_lot15     21597 non-null  int64         \n",
      " 20  price          21597 non-null  int64         \n",
      "dtypes: datetime64[ns](1), float64(4), int64(16)\n",
      "memory usage: 3.5 MB\n"
     ]
    }
   ],
   "source": [
    "data.info()"
   ]
  },
  {
   "cell_type": "code",
   "execution_count": 42,
   "id": "75fcc89e",
   "metadata": {},
   "outputs": [
    {
     "data": {
      "text/html": [
       "<div>\n",
       "<style scoped>\n",
       "    .dataframe tbody tr th:only-of-type {\n",
       "        vertical-align: middle;\n",
       "    }\n",
       "\n",
       "    .dataframe tbody tr th {\n",
       "        vertical-align: top;\n",
       "    }\n",
       "\n",
       "    .dataframe thead th {\n",
       "        text-align: right;\n",
       "    }\n",
       "</style>\n",
       "<table border=\"1\" class=\"dataframe\">\n",
       "  <thead>\n",
       "    <tr style=\"text-align: right;\">\n",
       "      <th></th>\n",
       "      <th>id</th>\n",
       "      <th>date</th>\n",
       "      <th>bedrooms</th>\n",
       "      <th>bathrooms</th>\n",
       "      <th>sqft_living</th>\n",
       "      <th>sqft_lot</th>\n",
       "      <th>floors</th>\n",
       "      <th>waterfront</th>\n",
       "      <th>view</th>\n",
       "      <th>condition</th>\n",
       "      <th>grade</th>\n",
       "      <th>sqft_above</th>\n",
       "      <th>sqft_basement</th>\n",
       "      <th>yr_built</th>\n",
       "      <th>yr_renovated</th>\n",
       "      <th>zipcode</th>\n",
       "      <th>lat</th>\n",
       "      <th>long</th>\n",
       "      <th>sqft_living15</th>\n",
       "      <th>sqft_lot15</th>\n",
       "      <th>price</th>\n",
       "    </tr>\n",
       "  </thead>\n",
       "  <tbody>\n",
       "    <tr>\n",
       "      <th>0</th>\n",
       "      <td>7129300520</td>\n",
       "      <td>2014-10-13</td>\n",
       "      <td>3</td>\n",
       "      <td>1.00</td>\n",
       "      <td>1180</td>\n",
       "      <td>5650</td>\n",
       "      <td>1.0</td>\n",
       "      <td>0</td>\n",
       "      <td>0</td>\n",
       "      <td>3</td>\n",
       "      <td>7</td>\n",
       "      <td>1180</td>\n",
       "      <td>0</td>\n",
       "      <td>1955</td>\n",
       "      <td>0</td>\n",
       "      <td>98178</td>\n",
       "      <td>47.5112</td>\n",
       "      <td>-122.257</td>\n",
       "      <td>1340</td>\n",
       "      <td>5650</td>\n",
       "      <td>221900</td>\n",
       "    </tr>\n",
       "    <tr>\n",
       "      <th>1</th>\n",
       "      <td>6414100192</td>\n",
       "      <td>2014-12-09</td>\n",
       "      <td>3</td>\n",
       "      <td>2.25</td>\n",
       "      <td>2570</td>\n",
       "      <td>7242</td>\n",
       "      <td>2.0</td>\n",
       "      <td>0</td>\n",
       "      <td>0</td>\n",
       "      <td>3</td>\n",
       "      <td>7</td>\n",
       "      <td>2170</td>\n",
       "      <td>400</td>\n",
       "      <td>1951</td>\n",
       "      <td>1991</td>\n",
       "      <td>98125</td>\n",
       "      <td>47.7210</td>\n",
       "      <td>-122.319</td>\n",
       "      <td>1690</td>\n",
       "      <td>7639</td>\n",
       "      <td>538000</td>\n",
       "    </tr>\n",
       "    <tr>\n",
       "      <th>2</th>\n",
       "      <td>5631500400</td>\n",
       "      <td>2015-02-25</td>\n",
       "      <td>2</td>\n",
       "      <td>1.00</td>\n",
       "      <td>770</td>\n",
       "      <td>10000</td>\n",
       "      <td>1.0</td>\n",
       "      <td>0</td>\n",
       "      <td>0</td>\n",
       "      <td>3</td>\n",
       "      <td>6</td>\n",
       "      <td>770</td>\n",
       "      <td>0</td>\n",
       "      <td>1933</td>\n",
       "      <td>0</td>\n",
       "      <td>98028</td>\n",
       "      <td>47.7379</td>\n",
       "      <td>-122.233</td>\n",
       "      <td>2720</td>\n",
       "      <td>8062</td>\n",
       "      <td>180000</td>\n",
       "    </tr>\n",
       "    <tr>\n",
       "      <th>3</th>\n",
       "      <td>2487200875</td>\n",
       "      <td>2014-12-09</td>\n",
       "      <td>4</td>\n",
       "      <td>3.00</td>\n",
       "      <td>1960</td>\n",
       "      <td>5000</td>\n",
       "      <td>1.0</td>\n",
       "      <td>0</td>\n",
       "      <td>0</td>\n",
       "      <td>5</td>\n",
       "      <td>7</td>\n",
       "      <td>1050</td>\n",
       "      <td>910</td>\n",
       "      <td>1965</td>\n",
       "      <td>0</td>\n",
       "      <td>98136</td>\n",
       "      <td>47.5208</td>\n",
       "      <td>-122.393</td>\n",
       "      <td>1360</td>\n",
       "      <td>5000</td>\n",
       "      <td>604000</td>\n",
       "    </tr>\n",
       "    <tr>\n",
       "      <th>4</th>\n",
       "      <td>1954400510</td>\n",
       "      <td>2015-02-18</td>\n",
       "      <td>3</td>\n",
       "      <td>2.00</td>\n",
       "      <td>1680</td>\n",
       "      <td>8080</td>\n",
       "      <td>1.0</td>\n",
       "      <td>0</td>\n",
       "      <td>0</td>\n",
       "      <td>3</td>\n",
       "      <td>8</td>\n",
       "      <td>1680</td>\n",
       "      <td>0</td>\n",
       "      <td>1987</td>\n",
       "      <td>0</td>\n",
       "      <td>98074</td>\n",
       "      <td>47.6168</td>\n",
       "      <td>-122.045</td>\n",
       "      <td>1800</td>\n",
       "      <td>7503</td>\n",
       "      <td>510000</td>\n",
       "    </tr>\n",
       "  </tbody>\n",
       "</table>\n",
       "</div>"
      ],
      "text/plain": [
       "           id       date  bedrooms  bathrooms  sqft_living  sqft_lot  floors  \\\n",
       "0  7129300520 2014-10-13         3       1.00         1180      5650     1.0   \n",
       "1  6414100192 2014-12-09         3       2.25         2570      7242     2.0   \n",
       "2  5631500400 2015-02-25         2       1.00          770     10000     1.0   \n",
       "3  2487200875 2014-12-09         4       3.00         1960      5000     1.0   \n",
       "4  1954400510 2015-02-18         3       2.00         1680      8080     1.0   \n",
       "\n",
       "   waterfront  view  condition  grade  sqft_above  sqft_basement  yr_built  \\\n",
       "0           0     0          3      7        1180              0      1955   \n",
       "1           0     0          3      7        2170            400      1951   \n",
       "2           0     0          3      6         770              0      1933   \n",
       "3           0     0          5      7        1050            910      1965   \n",
       "4           0     0          3      8        1680              0      1987   \n",
       "\n",
       "   yr_renovated  zipcode      lat     long  sqft_living15  sqft_lot15   price  \n",
       "0             0    98178  47.5112 -122.257           1340        5650  221900  \n",
       "1          1991    98125  47.7210 -122.319           1690        7639  538000  \n",
       "2             0    98028  47.7379 -122.233           2720        8062  180000  \n",
       "3             0    98136  47.5208 -122.393           1360        5000  604000  \n",
       "4             0    98074  47.6168 -122.045           1800        7503  510000  "
      ]
     },
     "execution_count": 42,
     "metadata": {},
     "output_type": "execute_result"
    }
   ],
   "source": [
    "data.head()"
   ]
  },
  {
   "cell_type": "code",
   "execution_count": 43,
   "id": "93abbf1b",
   "metadata": {},
   "outputs": [
    {
     "data": {
      "text/plain": [
       "(21597, 21)"
      ]
     },
     "execution_count": 43,
     "metadata": {},
     "output_type": "execute_result"
    }
   ],
   "source": [
    "data.shape"
   ]
  },
  {
   "cell_type": "markdown",
   "id": "01c50b80",
   "metadata": {},
   "source": [
    "Descriptive Statistics\n",
    "Describe the numerical variables"
   ]
  },
  {
   "cell_type": "code",
   "execution_count": 44,
   "id": "f2d3a4a6",
   "metadata": {},
   "outputs": [
    {
     "data": {
      "text/html": [
       "<div>\n",
       "<style scoped>\n",
       "    .dataframe tbody tr th:only-of-type {\n",
       "        vertical-align: middle;\n",
       "    }\n",
       "\n",
       "    .dataframe tbody tr th {\n",
       "        vertical-align: top;\n",
       "    }\n",
       "\n",
       "    .dataframe thead th {\n",
       "        text-align: right;\n",
       "    }\n",
       "</style>\n",
       "<table border=\"1\" class=\"dataframe\">\n",
       "  <thead>\n",
       "    <tr style=\"text-align: right;\">\n",
       "      <th></th>\n",
       "      <th>id</th>\n",
       "      <th>bedrooms</th>\n",
       "      <th>bathrooms</th>\n",
       "      <th>sqft_living</th>\n",
       "      <th>sqft_lot</th>\n",
       "      <th>floors</th>\n",
       "      <th>waterfront</th>\n",
       "      <th>view</th>\n",
       "      <th>condition</th>\n",
       "      <th>grade</th>\n",
       "      <th>sqft_above</th>\n",
       "      <th>sqft_basement</th>\n",
       "      <th>yr_built</th>\n",
       "      <th>yr_renovated</th>\n",
       "      <th>zipcode</th>\n",
       "      <th>lat</th>\n",
       "      <th>long</th>\n",
       "      <th>sqft_living15</th>\n",
       "      <th>sqft_lot15</th>\n",
       "      <th>price</th>\n",
       "    </tr>\n",
       "  </thead>\n",
       "  <tbody>\n",
       "    <tr>\n",
       "      <th>count</th>\n",
       "      <td>2.159700e+04</td>\n",
       "      <td>21597.000000</td>\n",
       "      <td>21597.000000</td>\n",
       "      <td>21597.000000</td>\n",
       "      <td>2.159700e+04</td>\n",
       "      <td>21597.000000</td>\n",
       "      <td>21597.000000</td>\n",
       "      <td>21597.000000</td>\n",
       "      <td>21597.000000</td>\n",
       "      <td>21597.000000</td>\n",
       "      <td>21597.000000</td>\n",
       "      <td>21597.000000</td>\n",
       "      <td>21597.000000</td>\n",
       "      <td>21597.000000</td>\n",
       "      <td>21597.000000</td>\n",
       "      <td>21597.000000</td>\n",
       "      <td>21597.000000</td>\n",
       "      <td>21597.000000</td>\n",
       "      <td>21597.000000</td>\n",
       "      <td>2.159700e+04</td>\n",
       "    </tr>\n",
       "    <tr>\n",
       "      <th>mean</th>\n",
       "      <td>4.580474e+09</td>\n",
       "      <td>3.373200</td>\n",
       "      <td>2.115826</td>\n",
       "      <td>2080.321850</td>\n",
       "      <td>1.509941e+04</td>\n",
       "      <td>1.494096</td>\n",
       "      <td>0.007547</td>\n",
       "      <td>0.234292</td>\n",
       "      <td>3.409825</td>\n",
       "      <td>7.657915</td>\n",
       "      <td>1788.596842</td>\n",
       "      <td>291.725008</td>\n",
       "      <td>1970.999676</td>\n",
       "      <td>84.464787</td>\n",
       "      <td>98077.951845</td>\n",
       "      <td>47.560093</td>\n",
       "      <td>-122.213982</td>\n",
       "      <td>1986.620318</td>\n",
       "      <td>12758.283512</td>\n",
       "      <td>5.402966e+05</td>\n",
       "    </tr>\n",
       "    <tr>\n",
       "      <th>std</th>\n",
       "      <td>2.876736e+09</td>\n",
       "      <td>0.926299</td>\n",
       "      <td>0.768984</td>\n",
       "      <td>918.106125</td>\n",
       "      <td>4.141264e+04</td>\n",
       "      <td>0.539683</td>\n",
       "      <td>0.086549</td>\n",
       "      <td>0.766390</td>\n",
       "      <td>0.650546</td>\n",
       "      <td>1.173200</td>\n",
       "      <td>827.759761</td>\n",
       "      <td>442.667800</td>\n",
       "      <td>29.375234</td>\n",
       "      <td>401.821438</td>\n",
       "      <td>53.513072</td>\n",
       "      <td>0.138552</td>\n",
       "      <td>0.140724</td>\n",
       "      <td>685.230472</td>\n",
       "      <td>27274.441950</td>\n",
       "      <td>3.673681e+05</td>\n",
       "    </tr>\n",
       "    <tr>\n",
       "      <th>min</th>\n",
       "      <td>1.000102e+06</td>\n",
       "      <td>1.000000</td>\n",
       "      <td>0.500000</td>\n",
       "      <td>370.000000</td>\n",
       "      <td>5.200000e+02</td>\n",
       "      <td>1.000000</td>\n",
       "      <td>0.000000</td>\n",
       "      <td>0.000000</td>\n",
       "      <td>1.000000</td>\n",
       "      <td>3.000000</td>\n",
       "      <td>370.000000</td>\n",
       "      <td>0.000000</td>\n",
       "      <td>1900.000000</td>\n",
       "      <td>0.000000</td>\n",
       "      <td>98001.000000</td>\n",
       "      <td>47.155900</td>\n",
       "      <td>-122.519000</td>\n",
       "      <td>399.000000</td>\n",
       "      <td>651.000000</td>\n",
       "      <td>7.800000e+04</td>\n",
       "    </tr>\n",
       "    <tr>\n",
       "      <th>25%</th>\n",
       "      <td>2.123049e+09</td>\n",
       "      <td>3.000000</td>\n",
       "      <td>1.750000</td>\n",
       "      <td>1430.000000</td>\n",
       "      <td>5.040000e+03</td>\n",
       "      <td>1.000000</td>\n",
       "      <td>0.000000</td>\n",
       "      <td>0.000000</td>\n",
       "      <td>3.000000</td>\n",
       "      <td>7.000000</td>\n",
       "      <td>1190.000000</td>\n",
       "      <td>0.000000</td>\n",
       "      <td>1951.000000</td>\n",
       "      <td>0.000000</td>\n",
       "      <td>98033.000000</td>\n",
       "      <td>47.471100</td>\n",
       "      <td>-122.328000</td>\n",
       "      <td>1490.000000</td>\n",
       "      <td>5100.000000</td>\n",
       "      <td>3.220000e+05</td>\n",
       "    </tr>\n",
       "    <tr>\n",
       "      <th>50%</th>\n",
       "      <td>3.904930e+09</td>\n",
       "      <td>3.000000</td>\n",
       "      <td>2.250000</td>\n",
       "      <td>1910.000000</td>\n",
       "      <td>7.618000e+03</td>\n",
       "      <td>1.500000</td>\n",
       "      <td>0.000000</td>\n",
       "      <td>0.000000</td>\n",
       "      <td>3.000000</td>\n",
       "      <td>7.000000</td>\n",
       "      <td>1560.000000</td>\n",
       "      <td>0.000000</td>\n",
       "      <td>1975.000000</td>\n",
       "      <td>0.000000</td>\n",
       "      <td>98065.000000</td>\n",
       "      <td>47.571800</td>\n",
       "      <td>-122.231000</td>\n",
       "      <td>1840.000000</td>\n",
       "      <td>7620.000000</td>\n",
       "      <td>4.500000e+05</td>\n",
       "    </tr>\n",
       "    <tr>\n",
       "      <th>75%</th>\n",
       "      <td>7.308900e+09</td>\n",
       "      <td>4.000000</td>\n",
       "      <td>2.500000</td>\n",
       "      <td>2550.000000</td>\n",
       "      <td>1.068500e+04</td>\n",
       "      <td>2.000000</td>\n",
       "      <td>0.000000</td>\n",
       "      <td>0.000000</td>\n",
       "      <td>4.000000</td>\n",
       "      <td>8.000000</td>\n",
       "      <td>2210.000000</td>\n",
       "      <td>560.000000</td>\n",
       "      <td>1997.000000</td>\n",
       "      <td>0.000000</td>\n",
       "      <td>98118.000000</td>\n",
       "      <td>47.678000</td>\n",
       "      <td>-122.125000</td>\n",
       "      <td>2360.000000</td>\n",
       "      <td>10083.000000</td>\n",
       "      <td>6.450000e+05</td>\n",
       "    </tr>\n",
       "    <tr>\n",
       "      <th>max</th>\n",
       "      <td>9.900000e+09</td>\n",
       "      <td>33.000000</td>\n",
       "      <td>8.000000</td>\n",
       "      <td>13540.000000</td>\n",
       "      <td>1.651359e+06</td>\n",
       "      <td>3.500000</td>\n",
       "      <td>1.000000</td>\n",
       "      <td>4.000000</td>\n",
       "      <td>5.000000</td>\n",
       "      <td>13.000000</td>\n",
       "      <td>9410.000000</td>\n",
       "      <td>4820.000000</td>\n",
       "      <td>2015.000000</td>\n",
       "      <td>2015.000000</td>\n",
       "      <td>98199.000000</td>\n",
       "      <td>47.777600</td>\n",
       "      <td>-121.315000</td>\n",
       "      <td>6210.000000</td>\n",
       "      <td>871200.000000</td>\n",
       "      <td>7.700000e+06</td>\n",
       "    </tr>\n",
       "  </tbody>\n",
       "</table>\n",
       "</div>"
      ],
      "text/plain": [
       "                 id      bedrooms     bathrooms   sqft_living      sqft_lot  \\\n",
       "count  2.159700e+04  21597.000000  21597.000000  21597.000000  2.159700e+04   \n",
       "mean   4.580474e+09      3.373200      2.115826   2080.321850  1.509941e+04   \n",
       "std    2.876736e+09      0.926299      0.768984    918.106125  4.141264e+04   \n",
       "min    1.000102e+06      1.000000      0.500000    370.000000  5.200000e+02   \n",
       "25%    2.123049e+09      3.000000      1.750000   1430.000000  5.040000e+03   \n",
       "50%    3.904930e+09      3.000000      2.250000   1910.000000  7.618000e+03   \n",
       "75%    7.308900e+09      4.000000      2.500000   2550.000000  1.068500e+04   \n",
       "max    9.900000e+09     33.000000      8.000000  13540.000000  1.651359e+06   \n",
       "\n",
       "             floors    waterfront          view     condition         grade  \\\n",
       "count  21597.000000  21597.000000  21597.000000  21597.000000  21597.000000   \n",
       "mean       1.494096      0.007547      0.234292      3.409825      7.657915   \n",
       "std        0.539683      0.086549      0.766390      0.650546      1.173200   \n",
       "min        1.000000      0.000000      0.000000      1.000000      3.000000   \n",
       "25%        1.000000      0.000000      0.000000      3.000000      7.000000   \n",
       "50%        1.500000      0.000000      0.000000      3.000000      7.000000   \n",
       "75%        2.000000      0.000000      0.000000      4.000000      8.000000   \n",
       "max        3.500000      1.000000      4.000000      5.000000     13.000000   \n",
       "\n",
       "         sqft_above  sqft_basement      yr_built  yr_renovated       zipcode  \\\n",
       "count  21597.000000   21597.000000  21597.000000  21597.000000  21597.000000   \n",
       "mean    1788.596842     291.725008   1970.999676     84.464787  98077.951845   \n",
       "std      827.759761     442.667800     29.375234    401.821438     53.513072   \n",
       "min      370.000000       0.000000   1900.000000      0.000000  98001.000000   \n",
       "25%     1190.000000       0.000000   1951.000000      0.000000  98033.000000   \n",
       "50%     1560.000000       0.000000   1975.000000      0.000000  98065.000000   \n",
       "75%     2210.000000     560.000000   1997.000000      0.000000  98118.000000   \n",
       "max     9410.000000    4820.000000   2015.000000   2015.000000  98199.000000   \n",
       "\n",
       "                lat          long  sqft_living15     sqft_lot15         price  \n",
       "count  21597.000000  21597.000000   21597.000000   21597.000000  2.159700e+04  \n",
       "mean      47.560093   -122.213982    1986.620318   12758.283512  5.402966e+05  \n",
       "std        0.138552      0.140724     685.230472   27274.441950  3.673681e+05  \n",
       "min       47.155900   -122.519000     399.000000     651.000000  7.800000e+04  \n",
       "25%       47.471100   -122.328000    1490.000000    5100.000000  3.220000e+05  \n",
       "50%       47.571800   -122.231000    1840.000000    7620.000000  4.500000e+05  \n",
       "75%       47.678000   -122.125000    2360.000000   10083.000000  6.450000e+05  \n",
       "max       47.777600   -121.315000    6210.000000  871200.000000  7.700000e+06  "
      ]
     },
     "execution_count": 44,
     "metadata": {},
     "output_type": "execute_result"
    }
   ],
   "source": [
    "data.describe(include=[np.number])"
   ]
  },
  {
   "cell_type": "code",
   "execution_count": 45,
   "id": "f04cedd6",
   "metadata": {},
   "outputs": [
    {
     "data": {
      "text/plain": [
       "Index(['id', 'date', 'bedrooms', 'bathrooms', 'sqft_living', 'sqft_lot',\n",
       "       'floors', 'waterfront', 'view', 'condition', 'grade', 'sqft_above',\n",
       "       'sqft_basement', 'yr_built', 'yr_renovated', 'zipcode', 'lat', 'long',\n",
       "       'sqft_living15', 'sqft_lot15', 'price'],\n",
       "      dtype='object')"
      ]
     },
     "execution_count": 45,
     "metadata": {},
     "output_type": "execute_result"
    }
   ],
   "source": [
    "data.columns"
   ]
  },
  {
   "cell_type": "markdown",
   "id": "f8b3977a",
   "metadata": {},
   "source": [
    "3. Data Cleaning\n",
    "Check missing values"
   ]
  },
  {
   "cell_type": "code",
   "execution_count": 46,
   "id": "0f5152b8",
   "metadata": {},
   "outputs": [
    {
     "data": {
      "text/plain": [
       "id               0\n",
       "date             0\n",
       "bedrooms         0\n",
       "bathrooms        0\n",
       "sqft_living      0\n",
       "sqft_lot         0\n",
       "floors           0\n",
       "waterfront       0\n",
       "view             0\n",
       "condition        0\n",
       "grade            0\n",
       "sqft_above       0\n",
       "sqft_basement    0\n",
       "yr_built         0\n",
       "yr_renovated     0\n",
       "zipcode          0\n",
       "lat              0\n",
       "long             0\n",
       "sqft_living15    0\n",
       "sqft_lot15       0\n",
       "price            0\n",
       "dtype: int64"
      ]
     },
     "execution_count": 46,
     "metadata": {},
     "output_type": "execute_result"
    }
   ],
   "source": [
    "data.isna().sum()"
   ]
  },
  {
   "cell_type": "markdown",
   "id": "eb04e860",
   "metadata": {},
   "source": [
    "Check for nulls"
   ]
  },
  {
   "cell_type": "code",
   "execution_count": 47,
   "id": "cf32f686",
   "metadata": {},
   "outputs": [
    {
     "data": {
      "text/plain": [
       "id               0\n",
       "date             0\n",
       "bedrooms         0\n",
       "bathrooms        0\n",
       "sqft_living      0\n",
       "sqft_lot         0\n",
       "floors           0\n",
       "waterfront       0\n",
       "view             0\n",
       "condition        0\n",
       "grade            0\n",
       "sqft_above       0\n",
       "sqft_basement    0\n",
       "yr_built         0\n",
       "yr_renovated     0\n",
       "zipcode          0\n",
       "lat              0\n",
       "long             0\n",
       "sqft_living15    0\n",
       "sqft_lot15       0\n",
       "price            0\n",
       "dtype: int64"
      ]
     },
     "execution_count": 47,
     "metadata": {},
     "output_type": "execute_result"
    }
   ],
   "source": [
    "data.isnull().sum()"
   ]
  },
  {
   "cell_type": "markdown",
   "id": "cbb4fb23",
   "metadata": {},
   "source": [
    "Check for duplicates"
   ]
  },
  {
   "cell_type": "code",
   "execution_count": 48,
   "id": "881cef9c",
   "metadata": {},
   "outputs": [
    {
     "data": {
      "text/plain": [
       "0"
      ]
     },
     "execution_count": 48,
     "metadata": {},
     "output_type": "execute_result"
    }
   ],
   "source": [
    "data.duplicated().sum()"
   ]
  },
  {
   "cell_type": "markdown",
   "id": "cf78ecfa",
   "metadata": {},
   "source": [
    "There are no duplicates rows,but one house could be sold multiple times,therefore house can appear more than once in our data."
   ]
  },
  {
   "cell_type": "code",
   "execution_count": 49,
   "id": "65b19182",
   "metadata": {},
   "outputs": [
    {
     "data": {
      "text/plain": [
       "795000620     3\n",
       "8910500150    2\n",
       "7409700215    2\n",
       "1995200200    2\n",
       "9211500620    2\n",
       "             ..\n",
       "3649100387    1\n",
       "2767603649    1\n",
       "1446403617    1\n",
       "5602000275    1\n",
       "1523300157    1\n",
       "Name: id, Length: 21420, dtype: int64"
      ]
     },
     "execution_count": 49,
     "metadata": {},
     "output_type": "execute_result"
    }
   ],
   "source": [
    "# Searching for duplicate ids\n",
    "data['id'].value_counts()"
   ]
  },
  {
   "cell_type": "markdown",
   "id": "34b94ed7",
   "metadata": {},
   "source": [
    "Checking How many repeated houses we have or how many duplicated 'id'"
   ]
  },
  {
   "cell_type": "code",
   "execution_count": 50,
   "id": "98e2d81c",
   "metadata": {},
   "outputs": [
    {
     "data": {
      "text/plain": [
       "176"
      ]
     },
     "execution_count": 50,
     "metadata": {},
     "output_type": "execute_result"
    }
   ],
   "source": [
    "(data['id'].value_counts() >1).sum()"
   ]
  },
  {
   "cell_type": "markdown",
   "id": "69fb96c9",
   "metadata": {},
   "source": [
    "Starting with the id 795000620 that is 3 times repeated"
   ]
  },
  {
   "cell_type": "code",
   "execution_count": 51,
   "id": "dc6598fd",
   "metadata": {},
   "outputs": [
    {
     "data": {
      "text/html": [
       "<div>\n",
       "<style scoped>\n",
       "    .dataframe tbody tr th:only-of-type {\n",
       "        vertical-align: middle;\n",
       "    }\n",
       "\n",
       "    .dataframe tbody tr th {\n",
       "        vertical-align: top;\n",
       "    }\n",
       "\n",
       "    .dataframe thead th {\n",
       "        text-align: right;\n",
       "    }\n",
       "</style>\n",
       "<table border=\"1\" class=\"dataframe\">\n",
       "  <thead>\n",
       "    <tr style=\"text-align: right;\">\n",
       "      <th></th>\n",
       "      <th>id</th>\n",
       "      <th>date</th>\n",
       "      <th>bedrooms</th>\n",
       "      <th>bathrooms</th>\n",
       "      <th>sqft_living</th>\n",
       "      <th>sqft_lot</th>\n",
       "      <th>floors</th>\n",
       "      <th>waterfront</th>\n",
       "      <th>view</th>\n",
       "      <th>condition</th>\n",
       "      <th>grade</th>\n",
       "      <th>sqft_above</th>\n",
       "      <th>sqft_basement</th>\n",
       "      <th>yr_built</th>\n",
       "      <th>yr_renovated</th>\n",
       "      <th>zipcode</th>\n",
       "      <th>lat</th>\n",
       "      <th>long</th>\n",
       "      <th>sqft_living15</th>\n",
       "      <th>sqft_lot15</th>\n",
       "      <th>price</th>\n",
       "    </tr>\n",
       "  </thead>\n",
       "  <tbody>\n",
       "    <tr>\n",
       "      <th>17588</th>\n",
       "      <td>795000620</td>\n",
       "      <td>2014-09-24</td>\n",
       "      <td>3</td>\n",
       "      <td>1.0</td>\n",
       "      <td>1080</td>\n",
       "      <td>6250</td>\n",
       "      <td>1.0</td>\n",
       "      <td>0</td>\n",
       "      <td>0</td>\n",
       "      <td>2</td>\n",
       "      <td>5</td>\n",
       "      <td>1080</td>\n",
       "      <td>0</td>\n",
       "      <td>1950</td>\n",
       "      <td>0</td>\n",
       "      <td>98168</td>\n",
       "      <td>47.5045</td>\n",
       "      <td>-122.33</td>\n",
       "      <td>1070</td>\n",
       "      <td>6250</td>\n",
       "      <td>115000</td>\n",
       "    </tr>\n",
       "    <tr>\n",
       "      <th>17589</th>\n",
       "      <td>795000620</td>\n",
       "      <td>2014-12-15</td>\n",
       "      <td>3</td>\n",
       "      <td>1.0</td>\n",
       "      <td>1080</td>\n",
       "      <td>6250</td>\n",
       "      <td>1.0</td>\n",
       "      <td>0</td>\n",
       "      <td>0</td>\n",
       "      <td>2</td>\n",
       "      <td>5</td>\n",
       "      <td>1080</td>\n",
       "      <td>0</td>\n",
       "      <td>1950</td>\n",
       "      <td>0</td>\n",
       "      <td>98168</td>\n",
       "      <td>47.5045</td>\n",
       "      <td>-122.33</td>\n",
       "      <td>1070</td>\n",
       "      <td>6250</td>\n",
       "      <td>124000</td>\n",
       "    </tr>\n",
       "    <tr>\n",
       "      <th>17590</th>\n",
       "      <td>795000620</td>\n",
       "      <td>2015-03-11</td>\n",
       "      <td>3</td>\n",
       "      <td>1.0</td>\n",
       "      <td>1080</td>\n",
       "      <td>6250</td>\n",
       "      <td>1.0</td>\n",
       "      <td>0</td>\n",
       "      <td>0</td>\n",
       "      <td>2</td>\n",
       "      <td>5</td>\n",
       "      <td>1080</td>\n",
       "      <td>0</td>\n",
       "      <td>1950</td>\n",
       "      <td>0</td>\n",
       "      <td>98168</td>\n",
       "      <td>47.5045</td>\n",
       "      <td>-122.33</td>\n",
       "      <td>1070</td>\n",
       "      <td>6250</td>\n",
       "      <td>157000</td>\n",
       "    </tr>\n",
       "  </tbody>\n",
       "</table>\n",
       "</div>"
      ],
      "text/plain": [
       "              id       date  bedrooms  bathrooms  sqft_living  sqft_lot  \\\n",
       "17588  795000620 2014-09-24         3        1.0         1080      6250   \n",
       "17589  795000620 2014-12-15         3        1.0         1080      6250   \n",
       "17590  795000620 2015-03-11         3        1.0         1080      6250   \n",
       "\n",
       "       floors  waterfront  view  condition  grade  sqft_above  sqft_basement  \\\n",
       "17588     1.0           0     0          2      5        1080              0   \n",
       "17589     1.0           0     0          2      5        1080              0   \n",
       "17590     1.0           0     0          2      5        1080              0   \n",
       "\n",
       "       yr_built  yr_renovated  zipcode      lat    long  sqft_living15  \\\n",
       "17588      1950             0    98168  47.5045 -122.33           1070   \n",
       "17589      1950             0    98168  47.5045 -122.33           1070   \n",
       "17590      1950             0    98168  47.5045 -122.33           1070   \n",
       "\n",
       "       sqft_lot15   price  \n",
       "17588        6250  115000  \n",
       "17589        6250  124000  \n",
       "17590        6250  157000  "
      ]
     },
     "execution_count": 51,
     "metadata": {},
     "output_type": "execute_result"
    }
   ],
   "source": [
    "data[data['id'] == 795000620]"
   ]
  },
  {
   "cell_type": "markdown",
   "id": "3a2a06ee",
   "metadata": {},
   "source": [
    "This house was sold in 3 different dates and with 3 different prices. This is not a problem for our analysis, as we want to predict the price of houses regarding different features such as the year when was sold, so we don't need to drop or modify these rows."
   ]
  },
  {
   "cell_type": "markdown",
   "id": "befc1826",
   "metadata": {},
   "source": [
    "Analysing the categorical columns\n",
    "using a function showing characters of all the categorical columns: bedrooms, bathrooms, floors, waterfront, view, condition, grade and zipcode."
   ]
  },
  {
   "cell_type": "markdown",
   "id": "f8d6e50a",
   "metadata": {},
   "source": [
    "Changing the selected columns to object type\n"
   ]
  },
  {
   "cell_type": "code",
   "execution_count": 52,
   "id": "5718d915",
   "metadata": {},
   "outputs": [],
   "source": [
    "data[['bedrooms', 'bathrooms', 'floors', 'waterfront', 'view', 'condition', 'grade', 'zipcode']] = data[['bedrooms', 'bathrooms', 'floors', 'waterfront', 'view', 'condition','grade','zipcode']]"
   ]
  },
  {
   "cell_type": "markdown",
   "id": "a44cb0fc",
   "metadata": {},
   "source": [
    "Checking the types"
   ]
  },
  {
   "cell_type": "code",
   "execution_count": 53,
   "id": "b5219a4d",
   "metadata": {},
   "outputs": [
    {
     "data": {
      "text/plain": [
       "id                        int64\n",
       "date             datetime64[ns]\n",
       "bedrooms                  int64\n",
       "bathrooms               float64\n",
       "sqft_living               int64\n",
       "sqft_lot                  int64\n",
       "floors                  float64\n",
       "waterfront                int64\n",
       "view                      int64\n",
       "condition                 int64\n",
       "grade                     int64\n",
       "sqft_above                int64\n",
       "sqft_basement             int64\n",
       "yr_built                  int64\n",
       "yr_renovated              int64\n",
       "zipcode                   int64\n",
       "lat                     float64\n",
       "long                    float64\n",
       "sqft_living15             int64\n",
       "sqft_lot15                int64\n",
       "price                     int64\n",
       "dtype: object"
      ]
     },
     "execution_count": 53,
     "metadata": {},
     "output_type": "execute_result"
    }
   ],
   "source": [
    "data.dtypes"
   ]
  },
  {
   "cell_type": "markdown",
   "id": "a5c60ef9",
   "metadata": {},
   "source": [
    "Each categorical column, print: column name, unique values, number of unique values (%)"
   ]
  },
  {
   "cell_type": "code",
   "execution_count": 54,
   "id": "bf4cbfbe",
   "metadata": {},
   "outputs": [],
   "source": [
    "categorical=[column for column in data.columns if (data[column].dtype==object)] \n",
    "for i in categorical:\n",
    "    print ('Column: {}'.format(data[i].name)) \n",
    "    print('Unique values: {}'.format(len(data[i].unique()))) \n",
    "    print(data[i].unique())\n",
    "    print(data[i].value_counts())\n",
    "    print(f\"{round(data[i].value_counts()/sum(data[i].value_counts())*100,2)}\")\n",
    "    print('\\n----------')    "
   ]
  },
  {
   "cell_type": "markdown",
   "id": "49192245",
   "metadata": {},
   "source": [
    "Analyse column bedrooms\n",
    "We see a single property with 33 bedrooms, could be an error, let's check the area of the house."
   ]
  },
  {
   "cell_type": "code",
   "execution_count": 55,
   "id": "fcd7106a",
   "metadata": {},
   "outputs": [
    {
     "data": {
      "text/html": [
       "<div>\n",
       "<style scoped>\n",
       "    .dataframe tbody tr th:only-of-type {\n",
       "        vertical-align: middle;\n",
       "    }\n",
       "\n",
       "    .dataframe tbody tr th {\n",
       "        vertical-align: top;\n",
       "    }\n",
       "\n",
       "    .dataframe thead th {\n",
       "        text-align: right;\n",
       "    }\n",
       "</style>\n",
       "<table border=\"1\" class=\"dataframe\">\n",
       "  <thead>\n",
       "    <tr style=\"text-align: right;\">\n",
       "      <th></th>\n",
       "      <th>id</th>\n",
       "      <th>date</th>\n",
       "      <th>bedrooms</th>\n",
       "      <th>bathrooms</th>\n",
       "      <th>sqft_living</th>\n",
       "      <th>sqft_lot</th>\n",
       "      <th>floors</th>\n",
       "      <th>waterfront</th>\n",
       "      <th>view</th>\n",
       "      <th>condition</th>\n",
       "      <th>grade</th>\n",
       "      <th>sqft_above</th>\n",
       "      <th>sqft_basement</th>\n",
       "      <th>yr_built</th>\n",
       "      <th>yr_renovated</th>\n",
       "      <th>zipcode</th>\n",
       "      <th>lat</th>\n",
       "      <th>long</th>\n",
       "      <th>sqft_living15</th>\n",
       "      <th>sqft_lot15</th>\n",
       "      <th>price</th>\n",
       "    </tr>\n",
       "  </thead>\n",
       "  <tbody>\n",
       "    <tr>\n",
       "      <th>15856</th>\n",
       "      <td>2402100895</td>\n",
       "      <td>2014-06-25</td>\n",
       "      <td>33</td>\n",
       "      <td>1.75</td>\n",
       "      <td>1620</td>\n",
       "      <td>6000</td>\n",
       "      <td>1.0</td>\n",
       "      <td>0</td>\n",
       "      <td>0</td>\n",
       "      <td>5</td>\n",
       "      <td>7</td>\n",
       "      <td>1040</td>\n",
       "      <td>580</td>\n",
       "      <td>1947</td>\n",
       "      <td>0</td>\n",
       "      <td>98103</td>\n",
       "      <td>47.6878</td>\n",
       "      <td>-122.331</td>\n",
       "      <td>1330</td>\n",
       "      <td>4700</td>\n",
       "      <td>640000</td>\n",
       "    </tr>\n",
       "  </tbody>\n",
       "</table>\n",
       "</div>"
      ],
      "text/plain": [
       "               id       date  bedrooms  bathrooms  sqft_living  sqft_lot  \\\n",
       "15856  2402100895 2014-06-25        33       1.75         1620      6000   \n",
       "\n",
       "       floors  waterfront  view  condition  grade  sqft_above  sqft_basement  \\\n",
       "15856     1.0           0     0          5      7        1040            580   \n",
       "\n",
       "       yr_built  yr_renovated  zipcode      lat     long  sqft_living15  \\\n",
       "15856      1947             0    98103  47.6878 -122.331           1330   \n",
       "\n",
       "       sqft_lot15   price  \n",
       "15856        4700  640000  "
      ]
     },
     "execution_count": 55,
     "metadata": {},
     "output_type": "execute_result"
    }
   ],
   "source": [
    "data[data['bedrooms'] == 33]"
   ]
  },
  {
   "cell_type": "markdown",
   "id": "4ec2e6a4",
   "metadata": {},
   "source": [
    "33 bedrooms can be a hostel, in 1 single floor and with around 100 sqm has to be an error because it's physically unlikely. It seems to be a typo and it is actually 3 bedrooms."
   ]
  },
  {
   "cell_type": "markdown",
   "id": "8ad65c56",
   "metadata": {},
   "source": [
    "Correcting an error 33 bedrooms"
   ]
  },
  {
   "cell_type": "code",
   "execution_count": 56,
   "id": "a5d2adb6",
   "metadata": {},
   "outputs": [],
   "source": [
    "data.loc[data['bedrooms'] == 33, 'bedrooms'] = 3"
   ]
  },
  {
   "cell_type": "markdown",
   "id": "b797c714",
   "metadata": {},
   "source": [
    "Checking if the correction was done correctly."
   ]
  },
  {
   "cell_type": "code",
   "execution_count": 57,
   "id": "f4d2b435",
   "metadata": {},
   "outputs": [
    {
     "data": {
      "text/plain": [
       "3     9825\n",
       "4     6882\n",
       "2     2760\n",
       "5     1601\n",
       "6      272\n",
       "1      196\n",
       "7       38\n",
       "8       13\n",
       "9        6\n",
       "10       3\n",
       "11       1\n",
       "Name: bedrooms, dtype: int64"
      ]
     },
     "execution_count": 57,
     "metadata": {},
     "output_type": "execute_result"
    }
   ],
   "source": [
    "data['bedrooms'].value_counts()"
   ]
  },
  {
   "cell_type": "markdown",
   "id": "7fe5c2f9",
   "metadata": {},
   "source": [
    "Property with 11 bedrooms, all the data makes sense. "
   ]
  },
  {
   "cell_type": "code",
   "execution_count": 58,
   "id": "1e5746f4",
   "metadata": {},
   "outputs": [
    {
     "data": {
      "text/html": [
       "<div>\n",
       "<style scoped>\n",
       "    .dataframe tbody tr th:only-of-type {\n",
       "        vertical-align: middle;\n",
       "    }\n",
       "\n",
       "    .dataframe tbody tr th {\n",
       "        vertical-align: top;\n",
       "    }\n",
       "\n",
       "    .dataframe thead th {\n",
       "        text-align: right;\n",
       "    }\n",
       "</style>\n",
       "<table border=\"1\" class=\"dataframe\">\n",
       "  <thead>\n",
       "    <tr style=\"text-align: right;\">\n",
       "      <th></th>\n",
       "      <th>id</th>\n",
       "      <th>date</th>\n",
       "      <th>bedrooms</th>\n",
       "      <th>bathrooms</th>\n",
       "      <th>sqft_living</th>\n",
       "      <th>sqft_lot</th>\n",
       "      <th>floors</th>\n",
       "      <th>waterfront</th>\n",
       "      <th>view</th>\n",
       "      <th>condition</th>\n",
       "      <th>grade</th>\n",
       "      <th>sqft_above</th>\n",
       "      <th>sqft_basement</th>\n",
       "      <th>yr_built</th>\n",
       "      <th>yr_renovated</th>\n",
       "      <th>zipcode</th>\n",
       "      <th>lat</th>\n",
       "      <th>long</th>\n",
       "      <th>sqft_living15</th>\n",
       "      <th>sqft_lot15</th>\n",
       "      <th>price</th>\n",
       "    </tr>\n",
       "  </thead>\n",
       "  <tbody>\n",
       "    <tr>\n",
       "      <th>8748</th>\n",
       "      <td>1773100755</td>\n",
       "      <td>2014-08-21</td>\n",
       "      <td>11</td>\n",
       "      <td>3.0</td>\n",
       "      <td>3000</td>\n",
       "      <td>4960</td>\n",
       "      <td>2.0</td>\n",
       "      <td>0</td>\n",
       "      <td>0</td>\n",
       "      <td>3</td>\n",
       "      <td>7</td>\n",
       "      <td>2400</td>\n",
       "      <td>600</td>\n",
       "      <td>1918</td>\n",
       "      <td>1999</td>\n",
       "      <td>98106</td>\n",
       "      <td>47.556</td>\n",
       "      <td>-122.363</td>\n",
       "      <td>1420</td>\n",
       "      <td>4960</td>\n",
       "      <td>520000</td>\n",
       "    </tr>\n",
       "  </tbody>\n",
       "</table>\n",
       "</div>"
      ],
      "text/plain": [
       "              id       date  bedrooms  bathrooms  sqft_living  sqft_lot  \\\n",
       "8748  1773100755 2014-08-21        11        3.0         3000      4960   \n",
       "\n",
       "      floors  waterfront  view  condition  grade  sqft_above  sqft_basement  \\\n",
       "8748     2.0           0     0          3      7        2400            600   \n",
       "\n",
       "      yr_built  yr_renovated  zipcode     lat     long  sqft_living15  \\\n",
       "8748      1918          1999    98106  47.556 -122.363           1420   \n",
       "\n",
       "      sqft_lot15   price  \n",
       "8748        4960  520000  "
      ]
     },
     "execution_count": 58,
     "metadata": {},
     "output_type": "execute_result"
    }
   ],
   "source": [
    "data[data['bedrooms'] == 11]"
   ]
  },
  {
   "cell_type": "raw",
   "id": "db07d357",
   "metadata": {},
   "source": [
    "Analyse the column bathrooms\n",
    "In the following table, the meaning of the unique values of the column bathrooms are clarified. Doing some research we find out the meaning of 'quarters' bathrooms.\n",
    "\n",
    "Number\tName\tDescription\n",
    "0.25\tQuarter\tOnly a toilet, or only a shower (quite uncommon)\n",
    "0.50\tHalf\tA toilet and a sink\n",
    "0.75\tThree-Quarter\tA toilet, a sink and a shower/tub (not bidet)\n",
    "In order to avoid typo as before, we will check the unique values of bathroomsas well. Properties with 8 bathrooms seems to have enough sqft and floors, so all the data are coherent. All the unique values of the rest of categorical variables make sense as well."
   ]
  },
  {
   "cell_type": "code",
   "execution_count": 59,
   "id": "8b68a5d9",
   "metadata": {},
   "outputs": [
    {
     "data": {
      "text/html": [
       "<div>\n",
       "<style scoped>\n",
       "    .dataframe tbody tr th:only-of-type {\n",
       "        vertical-align: middle;\n",
       "    }\n",
       "\n",
       "    .dataframe tbody tr th {\n",
       "        vertical-align: top;\n",
       "    }\n",
       "\n",
       "    .dataframe thead th {\n",
       "        text-align: right;\n",
       "    }\n",
       "</style>\n",
       "<table border=\"1\" class=\"dataframe\">\n",
       "  <thead>\n",
       "    <tr style=\"text-align: right;\">\n",
       "      <th></th>\n",
       "      <th>id</th>\n",
       "      <th>date</th>\n",
       "      <th>bedrooms</th>\n",
       "      <th>bathrooms</th>\n",
       "      <th>sqft_living</th>\n",
       "      <th>sqft_lot</th>\n",
       "      <th>floors</th>\n",
       "      <th>waterfront</th>\n",
       "      <th>view</th>\n",
       "      <th>condition</th>\n",
       "      <th>grade</th>\n",
       "      <th>sqft_above</th>\n",
       "      <th>sqft_basement</th>\n",
       "      <th>yr_built</th>\n",
       "      <th>yr_renovated</th>\n",
       "      <th>zipcode</th>\n",
       "      <th>lat</th>\n",
       "      <th>long</th>\n",
       "      <th>sqft_living15</th>\n",
       "      <th>sqft_lot15</th>\n",
       "      <th>price</th>\n",
       "    </tr>\n",
       "  </thead>\n",
       "  <tbody>\n",
       "    <tr>\n",
       "      <th>7245</th>\n",
       "      <td>6762700020</td>\n",
       "      <td>2014-10-13</td>\n",
       "      <td>6</td>\n",
       "      <td>8.0</td>\n",
       "      <td>12050</td>\n",
       "      <td>27600</td>\n",
       "      <td>2.5</td>\n",
       "      <td>0</td>\n",
       "      <td>3</td>\n",
       "      <td>4</td>\n",
       "      <td>13</td>\n",
       "      <td>8570</td>\n",
       "      <td>3480</td>\n",
       "      <td>1910</td>\n",
       "      <td>1987</td>\n",
       "      <td>98102</td>\n",
       "      <td>47.6298</td>\n",
       "      <td>-122.323</td>\n",
       "      <td>3940</td>\n",
       "      <td>8800</td>\n",
       "      <td>7700000</td>\n",
       "    </tr>\n",
       "    <tr>\n",
       "      <th>12764</th>\n",
       "      <td>1225069038</td>\n",
       "      <td>2014-05-05</td>\n",
       "      <td>7</td>\n",
       "      <td>8.0</td>\n",
       "      <td>13540</td>\n",
       "      <td>307752</td>\n",
       "      <td>3.0</td>\n",
       "      <td>0</td>\n",
       "      <td>4</td>\n",
       "      <td>3</td>\n",
       "      <td>12</td>\n",
       "      <td>9410</td>\n",
       "      <td>4130</td>\n",
       "      <td>1999</td>\n",
       "      <td>0</td>\n",
       "      <td>98053</td>\n",
       "      <td>47.6675</td>\n",
       "      <td>-121.986</td>\n",
       "      <td>4850</td>\n",
       "      <td>217800</td>\n",
       "      <td>2280000</td>\n",
       "    </tr>\n",
       "  </tbody>\n",
       "</table>\n",
       "</div>"
      ],
      "text/plain": [
       "               id       date  bedrooms  bathrooms  sqft_living  sqft_lot  \\\n",
       "7245   6762700020 2014-10-13         6        8.0        12050     27600   \n",
       "12764  1225069038 2014-05-05         7        8.0        13540    307752   \n",
       "\n",
       "       floors  waterfront  view  condition  grade  sqft_above  sqft_basement  \\\n",
       "7245      2.5           0     3          4     13        8570           3480   \n",
       "12764     3.0           0     4          3     12        9410           4130   \n",
       "\n",
       "       yr_built  yr_renovated  zipcode      lat     long  sqft_living15  \\\n",
       "7245       1910          1987    98102  47.6298 -122.323           3940   \n",
       "12764      1999             0    98053  47.6675 -121.986           4850   \n",
       "\n",
       "       sqft_lot15    price  \n",
       "7245         8800  7700000  \n",
       "12764      217800  2280000  "
      ]
     },
     "execution_count": 59,
     "metadata": {},
     "output_type": "execute_result"
    }
   ],
   "source": [
    "#Let's check the higher unique values of bathrooms too.\n",
    "data[data['bathrooms'] == 8.0]"
   ]
  },
  {
   "cell_type": "raw",
   "id": "d1c6f6f5",
   "metadata": {},
   "source": [
    "Analyse the column condition\n",
    "In the same line, the column condition required a small research and explanation. The values represent the following:\n",
    "\n",
    "1-3: minimum building standards, cabin or inferior structure.\n",
    "4: older, low quality construction.\n",
    "5: low construction costs, small and simple design.\n",
    "6: lowest grade currently meeting building code, low quality materials and simple designs.\n",
    "7: average grade of construction and design.\n",
    "8: just above average in construction and design, better materials.\n",
    "9: better architectural design and quality.\n",
    "10: high quality features, better design, generally larger square footage.\n",
    "11: custom design, higher quality and more luxurious features.\n",
    "12: custom design and excellent builders and materials.\n",
    "13: custom designed and built, mansion level.\n",
    "Analyse the column yr_renovated"
   ]
  },
  {
   "cell_type": "markdown",
   "id": "7f1c3f8c",
   "metadata": {},
   "source": [
    "Analyse the column yr_renovated"
   ]
  },
  {
   "cell_type": "markdown",
   "id": "fba13f1a",
   "metadata": {},
   "source": [
    "#We want to see the percentage of renovated houses"
   ]
  },
  {
   "cell_type": "code",
   "execution_count": 60,
   "id": "f2cd3d1b",
   "metadata": {},
   "outputs": [
    {
     "name": "stdout",
     "output_type": "stream",
     "text": [
      " Percentage of renovated houses = 4.23%\n"
     ]
    }
   ],
   "source": [
    "# We want to see the percentage of renovated houses\n",
    "print(f\" Percentage of renovated houses = {round((data['yr_renovated'] !=0).sum() /sum(data['yr_renovated'].value_counts())*100, 2)}%\")"
   ]
  },
  {
   "cell_type": "code",
   "execution_count": 61,
   "id": "f8c3ea43",
   "metadata": {},
   "outputs": [
    {
     "data": {
      "text/plain": [
       "914"
      ]
     },
     "execution_count": 61,
     "metadata": {},
     "output_type": "execute_result"
    }
   ],
   "source": [
    "(data['yr_renovated'] !=0).sum()"
   ]
  },
  {
   "cell_type": "markdown",
   "id": "116b1fcd",
   "metadata": {},
   "source": [
    "# Dropping irrelevant columns"
   ]
  },
  {
   "cell_type": "markdown",
   "id": "f43387d6",
   "metadata": {},
   "source": [
    "\n",
    "We will drop the columns that we considered not relevant or not good features for the model. This is the case of id, sqft_living and sqft_lot. The square footage of living and lot are old values, as we have the columns sqft_living15and sqft_lot15with more recent data of the same parameter."
   ]
  },
  {
   "cell_type": "code",
   "execution_count": 62,
   "id": "64ba11dc",
   "metadata": {},
   "outputs": [],
   "source": [
    "data=data.drop(columns=['id','sqft_living', 'sqft_lot'], axis=1)"
   ]
  },
  {
   "cell_type": "code",
   "execution_count": 63,
   "id": "405bb8e5",
   "metadata": {},
   "outputs": [
    {
     "data": {
      "text/html": [
       "<div>\n",
       "<style scoped>\n",
       "    .dataframe tbody tr th:only-of-type {\n",
       "        vertical-align: middle;\n",
       "    }\n",
       "\n",
       "    .dataframe tbody tr th {\n",
       "        vertical-align: top;\n",
       "    }\n",
       "\n",
       "    .dataframe thead th {\n",
       "        text-align: right;\n",
       "    }\n",
       "</style>\n",
       "<table border=\"1\" class=\"dataframe\">\n",
       "  <thead>\n",
       "    <tr style=\"text-align: right;\">\n",
       "      <th></th>\n",
       "      <th>date</th>\n",
       "      <th>bedrooms</th>\n",
       "      <th>bathrooms</th>\n",
       "      <th>floors</th>\n",
       "      <th>waterfront</th>\n",
       "      <th>view</th>\n",
       "      <th>condition</th>\n",
       "      <th>grade</th>\n",
       "      <th>sqft_above</th>\n",
       "      <th>sqft_basement</th>\n",
       "      <th>yr_built</th>\n",
       "      <th>yr_renovated</th>\n",
       "      <th>zipcode</th>\n",
       "      <th>lat</th>\n",
       "      <th>long</th>\n",
       "      <th>sqft_living15</th>\n",
       "      <th>sqft_lot15</th>\n",
       "      <th>price</th>\n",
       "    </tr>\n",
       "  </thead>\n",
       "  <tbody>\n",
       "    <tr>\n",
       "      <th>0</th>\n",
       "      <td>2014-10-13</td>\n",
       "      <td>3</td>\n",
       "      <td>1.00</td>\n",
       "      <td>1.0</td>\n",
       "      <td>0</td>\n",
       "      <td>0</td>\n",
       "      <td>3</td>\n",
       "      <td>7</td>\n",
       "      <td>1180</td>\n",
       "      <td>0</td>\n",
       "      <td>1955</td>\n",
       "      <td>0</td>\n",
       "      <td>98178</td>\n",
       "      <td>47.5112</td>\n",
       "      <td>-122.257</td>\n",
       "      <td>1340</td>\n",
       "      <td>5650</td>\n",
       "      <td>221900</td>\n",
       "    </tr>\n",
       "    <tr>\n",
       "      <th>1</th>\n",
       "      <td>2014-12-09</td>\n",
       "      <td>3</td>\n",
       "      <td>2.25</td>\n",
       "      <td>2.0</td>\n",
       "      <td>0</td>\n",
       "      <td>0</td>\n",
       "      <td>3</td>\n",
       "      <td>7</td>\n",
       "      <td>2170</td>\n",
       "      <td>400</td>\n",
       "      <td>1951</td>\n",
       "      <td>1991</td>\n",
       "      <td>98125</td>\n",
       "      <td>47.7210</td>\n",
       "      <td>-122.319</td>\n",
       "      <td>1690</td>\n",
       "      <td>7639</td>\n",
       "      <td>538000</td>\n",
       "    </tr>\n",
       "    <tr>\n",
       "      <th>2</th>\n",
       "      <td>2015-02-25</td>\n",
       "      <td>2</td>\n",
       "      <td>1.00</td>\n",
       "      <td>1.0</td>\n",
       "      <td>0</td>\n",
       "      <td>0</td>\n",
       "      <td>3</td>\n",
       "      <td>6</td>\n",
       "      <td>770</td>\n",
       "      <td>0</td>\n",
       "      <td>1933</td>\n",
       "      <td>0</td>\n",
       "      <td>98028</td>\n",
       "      <td>47.7379</td>\n",
       "      <td>-122.233</td>\n",
       "      <td>2720</td>\n",
       "      <td>8062</td>\n",
       "      <td>180000</td>\n",
       "    </tr>\n",
       "    <tr>\n",
       "      <th>3</th>\n",
       "      <td>2014-12-09</td>\n",
       "      <td>4</td>\n",
       "      <td>3.00</td>\n",
       "      <td>1.0</td>\n",
       "      <td>0</td>\n",
       "      <td>0</td>\n",
       "      <td>5</td>\n",
       "      <td>7</td>\n",
       "      <td>1050</td>\n",
       "      <td>910</td>\n",
       "      <td>1965</td>\n",
       "      <td>0</td>\n",
       "      <td>98136</td>\n",
       "      <td>47.5208</td>\n",
       "      <td>-122.393</td>\n",
       "      <td>1360</td>\n",
       "      <td>5000</td>\n",
       "      <td>604000</td>\n",
       "    </tr>\n",
       "    <tr>\n",
       "      <th>4</th>\n",
       "      <td>2015-02-18</td>\n",
       "      <td>3</td>\n",
       "      <td>2.00</td>\n",
       "      <td>1.0</td>\n",
       "      <td>0</td>\n",
       "      <td>0</td>\n",
       "      <td>3</td>\n",
       "      <td>8</td>\n",
       "      <td>1680</td>\n",
       "      <td>0</td>\n",
       "      <td>1987</td>\n",
       "      <td>0</td>\n",
       "      <td>98074</td>\n",
       "      <td>47.6168</td>\n",
       "      <td>-122.045</td>\n",
       "      <td>1800</td>\n",
       "      <td>7503</td>\n",
       "      <td>510000</td>\n",
       "    </tr>\n",
       "  </tbody>\n",
       "</table>\n",
       "</div>"
      ],
      "text/plain": [
       "        date  bedrooms  bathrooms  floors  waterfront  view  condition  grade  \\\n",
       "0 2014-10-13         3       1.00     1.0           0     0          3      7   \n",
       "1 2014-12-09         3       2.25     2.0           0     0          3      7   \n",
       "2 2015-02-25         2       1.00     1.0           0     0          3      6   \n",
       "3 2014-12-09         4       3.00     1.0           0     0          5      7   \n",
       "4 2015-02-18         3       2.00     1.0           0     0          3      8   \n",
       "\n",
       "   sqft_above  sqft_basement  yr_built  yr_renovated  zipcode      lat  \\\n",
       "0        1180              0      1955             0    98178  47.5112   \n",
       "1        2170            400      1951          1991    98125  47.7210   \n",
       "2         770              0      1933             0    98028  47.7379   \n",
       "3        1050            910      1965             0    98136  47.5208   \n",
       "4        1680              0      1987             0    98074  47.6168   \n",
       "\n",
       "      long  sqft_living15  sqft_lot15   price  \n",
       "0 -122.257           1340        5650  221900  \n",
       "1 -122.319           1690        7639  538000  \n",
       "2 -122.233           2720        8062  180000  \n",
       "3 -122.393           1360        5000  604000  \n",
       "4 -122.045           1800        7503  510000  "
      ]
     },
     "execution_count": 63,
     "metadata": {},
     "output_type": "execute_result"
    }
   ],
   "source": [
    "data.head()"
   ]
  },
  {
   "cell_type": "markdown",
   "id": "3640e26c",
   "metadata": {},
   "source": [
    "# 4. Data Wrangling"
   ]
  },
  {
   "cell_type": "markdown",
   "id": "5fe2e997",
   "metadata": {},
   "source": [
    "We will create a new column with the age of every house, because we consider it's more relevant to our predictions. Then we can drop the columns yr_built and yr_renovated"
   ]
  },
  {
   "cell_type": "code",
   "execution_count": 64,
   "id": "d759ba37",
   "metadata": {},
   "outputs": [],
   "source": [
    "data1 = pd.DataFrame(2015 - data[\"yr_built\"])"
   ]
  },
  {
   "cell_type": "code",
   "execution_count": 65,
   "id": "f58dc9ae",
   "metadata": {},
   "outputs": [],
   "source": [
    "data = pd.concat([data, data1], axis=1)"
   ]
  },
  {
   "cell_type": "code",
   "execution_count": 66,
   "id": "8ec8c028",
   "metadata": {},
   "outputs": [
    {
     "data": {
      "text/html": [
       "<div>\n",
       "<style scoped>\n",
       "    .dataframe tbody tr th:only-of-type {\n",
       "        vertical-align: middle;\n",
       "    }\n",
       "\n",
       "    .dataframe tbody tr th {\n",
       "        vertical-align: top;\n",
       "    }\n",
       "\n",
       "    .dataframe thead th {\n",
       "        text-align: right;\n",
       "    }\n",
       "</style>\n",
       "<table border=\"1\" class=\"dataframe\">\n",
       "  <thead>\n",
       "    <tr style=\"text-align: right;\">\n",
       "      <th></th>\n",
       "      <th>date</th>\n",
       "      <th>bedrooms</th>\n",
       "      <th>bathrooms</th>\n",
       "      <th>floors</th>\n",
       "      <th>waterfront</th>\n",
       "      <th>view</th>\n",
       "      <th>condition</th>\n",
       "      <th>grade</th>\n",
       "      <th>sqft_above</th>\n",
       "      <th>sqft_basement</th>\n",
       "      <th>zipcode</th>\n",
       "      <th>lat</th>\n",
       "      <th>long</th>\n",
       "      <th>sqft_living15</th>\n",
       "      <th>sqft_lot15</th>\n",
       "      <th>price</th>\n",
       "    </tr>\n",
       "  </thead>\n",
       "  <tbody>\n",
       "    <tr>\n",
       "      <th>0</th>\n",
       "      <td>2014-10-13</td>\n",
       "      <td>3</td>\n",
       "      <td>1.00</td>\n",
       "      <td>1.0</td>\n",
       "      <td>0</td>\n",
       "      <td>0</td>\n",
       "      <td>3</td>\n",
       "      <td>7</td>\n",
       "      <td>1180</td>\n",
       "      <td>0</td>\n",
       "      <td>98178</td>\n",
       "      <td>47.5112</td>\n",
       "      <td>-122.257</td>\n",
       "      <td>1340</td>\n",
       "      <td>5650</td>\n",
       "      <td>221900</td>\n",
       "    </tr>\n",
       "    <tr>\n",
       "      <th>1</th>\n",
       "      <td>2014-12-09</td>\n",
       "      <td>3</td>\n",
       "      <td>2.25</td>\n",
       "      <td>2.0</td>\n",
       "      <td>0</td>\n",
       "      <td>0</td>\n",
       "      <td>3</td>\n",
       "      <td>7</td>\n",
       "      <td>2170</td>\n",
       "      <td>400</td>\n",
       "      <td>98125</td>\n",
       "      <td>47.7210</td>\n",
       "      <td>-122.319</td>\n",
       "      <td>1690</td>\n",
       "      <td>7639</td>\n",
       "      <td>538000</td>\n",
       "    </tr>\n",
       "    <tr>\n",
       "      <th>2</th>\n",
       "      <td>2015-02-25</td>\n",
       "      <td>2</td>\n",
       "      <td>1.00</td>\n",
       "      <td>1.0</td>\n",
       "      <td>0</td>\n",
       "      <td>0</td>\n",
       "      <td>3</td>\n",
       "      <td>6</td>\n",
       "      <td>770</td>\n",
       "      <td>0</td>\n",
       "      <td>98028</td>\n",
       "      <td>47.7379</td>\n",
       "      <td>-122.233</td>\n",
       "      <td>2720</td>\n",
       "      <td>8062</td>\n",
       "      <td>180000</td>\n",
       "    </tr>\n",
       "    <tr>\n",
       "      <th>3</th>\n",
       "      <td>2014-12-09</td>\n",
       "      <td>4</td>\n",
       "      <td>3.00</td>\n",
       "      <td>1.0</td>\n",
       "      <td>0</td>\n",
       "      <td>0</td>\n",
       "      <td>5</td>\n",
       "      <td>7</td>\n",
       "      <td>1050</td>\n",
       "      <td>910</td>\n",
       "      <td>98136</td>\n",
       "      <td>47.5208</td>\n",
       "      <td>-122.393</td>\n",
       "      <td>1360</td>\n",
       "      <td>5000</td>\n",
       "      <td>604000</td>\n",
       "    </tr>\n",
       "    <tr>\n",
       "      <th>4</th>\n",
       "      <td>2015-02-18</td>\n",
       "      <td>3</td>\n",
       "      <td>2.00</td>\n",
       "      <td>1.0</td>\n",
       "      <td>0</td>\n",
       "      <td>0</td>\n",
       "      <td>3</td>\n",
       "      <td>8</td>\n",
       "      <td>1680</td>\n",
       "      <td>0</td>\n",
       "      <td>98074</td>\n",
       "      <td>47.6168</td>\n",
       "      <td>-122.045</td>\n",
       "      <td>1800</td>\n",
       "      <td>7503</td>\n",
       "      <td>510000</td>\n",
       "    </tr>\n",
       "  </tbody>\n",
       "</table>\n",
       "</div>"
      ],
      "text/plain": [
       "        date  bedrooms  bathrooms  floors  waterfront  view  condition  grade  \\\n",
       "0 2014-10-13         3       1.00     1.0           0     0          3      7   \n",
       "1 2014-12-09         3       2.25     2.0           0     0          3      7   \n",
       "2 2015-02-25         2       1.00     1.0           0     0          3      6   \n",
       "3 2014-12-09         4       3.00     1.0           0     0          5      7   \n",
       "4 2015-02-18         3       2.00     1.0           0     0          3      8   \n",
       "\n",
       "   sqft_above  sqft_basement  zipcode      lat     long  sqft_living15  \\\n",
       "0        1180              0    98178  47.5112 -122.257           1340   \n",
       "1        2170            400    98125  47.7210 -122.319           1690   \n",
       "2         770              0    98028  47.7379 -122.233           2720   \n",
       "3        1050            910    98136  47.5208 -122.393           1360   \n",
       "4        1680              0    98074  47.6168 -122.045           1800   \n",
       "\n",
       "   sqft_lot15   price  \n",
       "0        5650  221900  \n",
       "1        7639  538000  \n",
       "2        8062  180000  \n",
       "3        5000  604000  \n",
       "4        7503  510000  "
      ]
     },
     "execution_count": 66,
     "metadata": {},
     "output_type": "execute_result"
    }
   ],
   "source": [
    "#drop yr_built and yr_renovated\n",
    "data = data.drop(['yr_built', 'yr_renovated'], axis=1)\n",
    "data.head()"
   ]
  },
  {
   "cell_type": "code",
   "execution_count": 67,
   "id": "903b129a",
   "metadata": {},
   "outputs": [
    {
     "name": "stdout",
     "output_type": "stream",
     "text": [
      "Minimum date:  2014-05-02 00:00:00\n",
      "Maximum date:  2015-05-27 00:00:00\n"
     ]
    }
   ],
   "source": [
    "print('Minimum date: ', data['date'].min())\n",
    "print('Maximum date: ', data['date'].max())"
   ]
  },
  {
   "cell_type": "markdown",
   "id": "270af5c2",
   "metadata": {},
   "source": [
    "Our dataset contains data from houses sold between 2014 and 2015, so we decide to extract the month and quarter (not the year) as they will be more interesting for later analysis."
   ]
  },
  {
   "cell_type": "code",
   "execution_count": 68,
   "id": "ec143ab7",
   "metadata": {},
   "outputs": [],
   "source": [
    "data['month'] = pd.DatetimeIndex(data['date']).month\n",
    "data['quarter'] = pd.DatetimeIndex(data['date']).quarter"
   ]
  },
  {
   "cell_type": "code",
   "execution_count": 69,
   "id": "dc75683b",
   "metadata": {},
   "outputs": [],
   "source": [
    "#Convert month and quarter to object type, so we can include them later in the categorical columns.\n",
    "data[['month', 'quarter']] = data[['month', 'quarter']].astype(object)\n"
   ]
  },
  {
   "cell_type": "markdown",
   "id": "3841f5bb",
   "metadata": {},
   "source": [
    "Now we will change the date column to ordinal, so we can run it within the numerical columns."
   ]
  },
  {
   "cell_type": "code",
   "execution_count": 70,
   "id": "6e622fde",
   "metadata": {},
   "outputs": [
    {
     "data": {
      "text/html": [
       "<div>\n",
       "<style scoped>\n",
       "    .dataframe tbody tr th:only-of-type {\n",
       "        vertical-align: middle;\n",
       "    }\n",
       "\n",
       "    .dataframe tbody tr th {\n",
       "        vertical-align: top;\n",
       "    }\n",
       "\n",
       "    .dataframe thead th {\n",
       "        text-align: right;\n",
       "    }\n",
       "</style>\n",
       "<table border=\"1\" class=\"dataframe\">\n",
       "  <thead>\n",
       "    <tr style=\"text-align: right;\">\n",
       "      <th></th>\n",
       "      <th>date</th>\n",
       "      <th>bedrooms</th>\n",
       "      <th>bathrooms</th>\n",
       "      <th>floors</th>\n",
       "      <th>waterfront</th>\n",
       "      <th>view</th>\n",
       "      <th>condition</th>\n",
       "      <th>grade</th>\n",
       "      <th>sqft_above</th>\n",
       "      <th>sqft_basement</th>\n",
       "      <th>zipcode</th>\n",
       "      <th>lat</th>\n",
       "      <th>long</th>\n",
       "      <th>sqft_living15</th>\n",
       "      <th>sqft_lot15</th>\n",
       "      <th>price</th>\n",
       "      <th>month</th>\n",
       "      <th>quarter</th>\n",
       "    </tr>\n",
       "  </thead>\n",
       "  <tbody>\n",
       "    <tr>\n",
       "      <th>0</th>\n",
       "      <td>735519</td>\n",
       "      <td>3</td>\n",
       "      <td>1.00</td>\n",
       "      <td>1.0</td>\n",
       "      <td>0</td>\n",
       "      <td>0</td>\n",
       "      <td>3</td>\n",
       "      <td>7</td>\n",
       "      <td>1180</td>\n",
       "      <td>0</td>\n",
       "      <td>98178</td>\n",
       "      <td>47.5112</td>\n",
       "      <td>-122.257</td>\n",
       "      <td>1340</td>\n",
       "      <td>5650</td>\n",
       "      <td>221900</td>\n",
       "      <td>10</td>\n",
       "      <td>4</td>\n",
       "    </tr>\n",
       "    <tr>\n",
       "      <th>1</th>\n",
       "      <td>735576</td>\n",
       "      <td>3</td>\n",
       "      <td>2.25</td>\n",
       "      <td>2.0</td>\n",
       "      <td>0</td>\n",
       "      <td>0</td>\n",
       "      <td>3</td>\n",
       "      <td>7</td>\n",
       "      <td>2170</td>\n",
       "      <td>400</td>\n",
       "      <td>98125</td>\n",
       "      <td>47.7210</td>\n",
       "      <td>-122.319</td>\n",
       "      <td>1690</td>\n",
       "      <td>7639</td>\n",
       "      <td>538000</td>\n",
       "      <td>12</td>\n",
       "      <td>4</td>\n",
       "    </tr>\n",
       "    <tr>\n",
       "      <th>2</th>\n",
       "      <td>735654</td>\n",
       "      <td>2</td>\n",
       "      <td>1.00</td>\n",
       "      <td>1.0</td>\n",
       "      <td>0</td>\n",
       "      <td>0</td>\n",
       "      <td>3</td>\n",
       "      <td>6</td>\n",
       "      <td>770</td>\n",
       "      <td>0</td>\n",
       "      <td>98028</td>\n",
       "      <td>47.7379</td>\n",
       "      <td>-122.233</td>\n",
       "      <td>2720</td>\n",
       "      <td>8062</td>\n",
       "      <td>180000</td>\n",
       "      <td>2</td>\n",
       "      <td>1</td>\n",
       "    </tr>\n",
       "    <tr>\n",
       "      <th>3</th>\n",
       "      <td>735576</td>\n",
       "      <td>4</td>\n",
       "      <td>3.00</td>\n",
       "      <td>1.0</td>\n",
       "      <td>0</td>\n",
       "      <td>0</td>\n",
       "      <td>5</td>\n",
       "      <td>7</td>\n",
       "      <td>1050</td>\n",
       "      <td>910</td>\n",
       "      <td>98136</td>\n",
       "      <td>47.5208</td>\n",
       "      <td>-122.393</td>\n",
       "      <td>1360</td>\n",
       "      <td>5000</td>\n",
       "      <td>604000</td>\n",
       "      <td>12</td>\n",
       "      <td>4</td>\n",
       "    </tr>\n",
       "    <tr>\n",
       "      <th>4</th>\n",
       "      <td>735647</td>\n",
       "      <td>3</td>\n",
       "      <td>2.00</td>\n",
       "      <td>1.0</td>\n",
       "      <td>0</td>\n",
       "      <td>0</td>\n",
       "      <td>3</td>\n",
       "      <td>8</td>\n",
       "      <td>1680</td>\n",
       "      <td>0</td>\n",
       "      <td>98074</td>\n",
       "      <td>47.6168</td>\n",
       "      <td>-122.045</td>\n",
       "      <td>1800</td>\n",
       "      <td>7503</td>\n",
       "      <td>510000</td>\n",
       "      <td>2</td>\n",
       "      <td>1</td>\n",
       "    </tr>\n",
       "  </tbody>\n",
       "</table>\n",
       "</div>"
      ],
      "text/plain": [
       "     date  bedrooms  bathrooms  floors  waterfront  view  condition  grade  \\\n",
       "0  735519         3       1.00     1.0           0     0          3      7   \n",
       "1  735576         3       2.25     2.0           0     0          3      7   \n",
       "2  735654         2       1.00     1.0           0     0          3      6   \n",
       "3  735576         4       3.00     1.0           0     0          5      7   \n",
       "4  735647         3       2.00     1.0           0     0          3      8   \n",
       "\n",
       "   sqft_above  sqft_basement  zipcode      lat     long  sqft_living15  \\\n",
       "0        1180              0    98178  47.5112 -122.257           1340   \n",
       "1        2170            400    98125  47.7210 -122.319           1690   \n",
       "2         770              0    98028  47.7379 -122.233           2720   \n",
       "3        1050            910    98136  47.5208 -122.393           1360   \n",
       "4        1680              0    98074  47.6168 -122.045           1800   \n",
       "\n",
       "   sqft_lot15   price month quarter  \n",
       "0        5650  221900    10       4  \n",
       "1        7639  538000    12       4  \n",
       "2        8062  180000     2       1  \n",
       "3        5000  604000    12       4  \n",
       "4        7503  510000     2       1  "
      ]
     },
     "execution_count": 70,
     "metadata": {},
     "output_type": "execute_result"
    }
   ],
   "source": [
    "data['date']=data['date'].apply(lambda x: x.toordinal())\n",
    "data.head()\n"
   ]
  },
  {
   "cell_type": "code",
   "execution_count": 71,
   "id": "65c4bb4b",
   "metadata": {},
   "outputs": [
    {
     "data": {
      "text/plain": [
       "date               int64\n",
       "bedrooms           int64\n",
       "bathrooms        float64\n",
       "floors           float64\n",
       "waterfront         int64\n",
       "view               int64\n",
       "condition          int64\n",
       "grade              int64\n",
       "sqft_above         int64\n",
       "sqft_basement      int64\n",
       "zipcode            int64\n",
       "lat              float64\n",
       "long             float64\n",
       "sqft_living15      int64\n",
       "sqft_lot15         int64\n",
       "price              int64\n",
       "month             object\n",
       "quarter           object\n",
       "dtype: object"
      ]
     },
     "execution_count": 71,
     "metadata": {},
     "output_type": "execute_result"
    }
   ],
   "source": [
    "#Check that the type change is done\n",
    "data.dtypes"
   ]
  },
  {
   "cell_type": "markdown",
   "id": "587017b7",
   "metadata": {},
   "source": [
    "Analyse the numerical columns"
   ]
  },
  {
   "cell_type": "code",
   "execution_count": 72,
   "id": "fa6d2136",
   "metadata": {},
   "outputs": [
    {
     "data": {
      "text/html": [
       "<div>\n",
       "<style scoped>\n",
       "    .dataframe tbody tr th:only-of-type {\n",
       "        vertical-align: middle;\n",
       "    }\n",
       "\n",
       "    .dataframe tbody tr th {\n",
       "        vertical-align: top;\n",
       "    }\n",
       "\n",
       "    .dataframe thead th {\n",
       "        text-align: right;\n",
       "    }\n",
       "</style>\n",
       "<table border=\"1\" class=\"dataframe\">\n",
       "  <thead>\n",
       "    <tr style=\"text-align: right;\">\n",
       "      <th></th>\n",
       "      <th>date</th>\n",
       "      <th>bedrooms</th>\n",
       "      <th>bathrooms</th>\n",
       "      <th>floors</th>\n",
       "      <th>waterfront</th>\n",
       "      <th>view</th>\n",
       "      <th>condition</th>\n",
       "      <th>grade</th>\n",
       "      <th>sqft_above</th>\n",
       "      <th>sqft_basement</th>\n",
       "      <th>zipcode</th>\n",
       "      <th>lat</th>\n",
       "      <th>long</th>\n",
       "      <th>sqft_living15</th>\n",
       "      <th>sqft_lot15</th>\n",
       "      <th>price</th>\n",
       "    </tr>\n",
       "  </thead>\n",
       "  <tbody>\n",
       "    <tr>\n",
       "      <th>0</th>\n",
       "      <td>735519</td>\n",
       "      <td>3</td>\n",
       "      <td>1.00</td>\n",
       "      <td>1.0</td>\n",
       "      <td>0</td>\n",
       "      <td>0</td>\n",
       "      <td>3</td>\n",
       "      <td>7</td>\n",
       "      <td>1180</td>\n",
       "      <td>0</td>\n",
       "      <td>98178</td>\n",
       "      <td>47.5112</td>\n",
       "      <td>-122.257</td>\n",
       "      <td>1340</td>\n",
       "      <td>5650</td>\n",
       "      <td>221900</td>\n",
       "    </tr>\n",
       "    <tr>\n",
       "      <th>1</th>\n",
       "      <td>735576</td>\n",
       "      <td>3</td>\n",
       "      <td>2.25</td>\n",
       "      <td>2.0</td>\n",
       "      <td>0</td>\n",
       "      <td>0</td>\n",
       "      <td>3</td>\n",
       "      <td>7</td>\n",
       "      <td>2170</td>\n",
       "      <td>400</td>\n",
       "      <td>98125</td>\n",
       "      <td>47.7210</td>\n",
       "      <td>-122.319</td>\n",
       "      <td>1690</td>\n",
       "      <td>7639</td>\n",
       "      <td>538000</td>\n",
       "    </tr>\n",
       "    <tr>\n",
       "      <th>2</th>\n",
       "      <td>735654</td>\n",
       "      <td>2</td>\n",
       "      <td>1.00</td>\n",
       "      <td>1.0</td>\n",
       "      <td>0</td>\n",
       "      <td>0</td>\n",
       "      <td>3</td>\n",
       "      <td>6</td>\n",
       "      <td>770</td>\n",
       "      <td>0</td>\n",
       "      <td>98028</td>\n",
       "      <td>47.7379</td>\n",
       "      <td>-122.233</td>\n",
       "      <td>2720</td>\n",
       "      <td>8062</td>\n",
       "      <td>180000</td>\n",
       "    </tr>\n",
       "    <tr>\n",
       "      <th>3</th>\n",
       "      <td>735576</td>\n",
       "      <td>4</td>\n",
       "      <td>3.00</td>\n",
       "      <td>1.0</td>\n",
       "      <td>0</td>\n",
       "      <td>0</td>\n",
       "      <td>5</td>\n",
       "      <td>7</td>\n",
       "      <td>1050</td>\n",
       "      <td>910</td>\n",
       "      <td>98136</td>\n",
       "      <td>47.5208</td>\n",
       "      <td>-122.393</td>\n",
       "      <td>1360</td>\n",
       "      <td>5000</td>\n",
       "      <td>604000</td>\n",
       "    </tr>\n",
       "    <tr>\n",
       "      <th>4</th>\n",
       "      <td>735647</td>\n",
       "      <td>3</td>\n",
       "      <td>2.00</td>\n",
       "      <td>1.0</td>\n",
       "      <td>0</td>\n",
       "      <td>0</td>\n",
       "      <td>3</td>\n",
       "      <td>8</td>\n",
       "      <td>1680</td>\n",
       "      <td>0</td>\n",
       "      <td>98074</td>\n",
       "      <td>47.6168</td>\n",
       "      <td>-122.045</td>\n",
       "      <td>1800</td>\n",
       "      <td>7503</td>\n",
       "      <td>510000</td>\n",
       "    </tr>\n",
       "    <tr>\n",
       "      <th>...</th>\n",
       "      <td>...</td>\n",
       "      <td>...</td>\n",
       "      <td>...</td>\n",
       "      <td>...</td>\n",
       "      <td>...</td>\n",
       "      <td>...</td>\n",
       "      <td>...</td>\n",
       "      <td>...</td>\n",
       "      <td>...</td>\n",
       "      <td>...</td>\n",
       "      <td>...</td>\n",
       "      <td>...</td>\n",
       "      <td>...</td>\n",
       "      <td>...</td>\n",
       "      <td>...</td>\n",
       "      <td>...</td>\n",
       "    </tr>\n",
       "    <tr>\n",
       "      <th>21592</th>\n",
       "      <td>735374</td>\n",
       "      <td>3</td>\n",
       "      <td>2.50</td>\n",
       "      <td>3.0</td>\n",
       "      <td>0</td>\n",
       "      <td>0</td>\n",
       "      <td>3</td>\n",
       "      <td>8</td>\n",
       "      <td>1530</td>\n",
       "      <td>0</td>\n",
       "      <td>98103</td>\n",
       "      <td>47.6993</td>\n",
       "      <td>-122.346</td>\n",
       "      <td>1530</td>\n",
       "      <td>1509</td>\n",
       "      <td>360000</td>\n",
       "    </tr>\n",
       "    <tr>\n",
       "      <th>21593</th>\n",
       "      <td>735652</td>\n",
       "      <td>4</td>\n",
       "      <td>2.50</td>\n",
       "      <td>2.0</td>\n",
       "      <td>0</td>\n",
       "      <td>0</td>\n",
       "      <td>3</td>\n",
       "      <td>8</td>\n",
       "      <td>2310</td>\n",
       "      <td>0</td>\n",
       "      <td>98146</td>\n",
       "      <td>47.5107</td>\n",
       "      <td>-122.362</td>\n",
       "      <td>1830</td>\n",
       "      <td>7200</td>\n",
       "      <td>400000</td>\n",
       "    </tr>\n",
       "    <tr>\n",
       "      <th>21594</th>\n",
       "      <td>735407</td>\n",
       "      <td>2</td>\n",
       "      <td>0.75</td>\n",
       "      <td>2.0</td>\n",
       "      <td>0</td>\n",
       "      <td>0</td>\n",
       "      <td>3</td>\n",
       "      <td>7</td>\n",
       "      <td>1020</td>\n",
       "      <td>0</td>\n",
       "      <td>98144</td>\n",
       "      <td>47.5944</td>\n",
       "      <td>-122.299</td>\n",
       "      <td>1020</td>\n",
       "      <td>2007</td>\n",
       "      <td>402101</td>\n",
       "    </tr>\n",
       "    <tr>\n",
       "      <th>21595</th>\n",
       "      <td>735614</td>\n",
       "      <td>3</td>\n",
       "      <td>2.50</td>\n",
       "      <td>2.0</td>\n",
       "      <td>0</td>\n",
       "      <td>0</td>\n",
       "      <td>3</td>\n",
       "      <td>8</td>\n",
       "      <td>1600</td>\n",
       "      <td>0</td>\n",
       "      <td>98027</td>\n",
       "      <td>47.5345</td>\n",
       "      <td>-122.069</td>\n",
       "      <td>1410</td>\n",
       "      <td>1287</td>\n",
       "      <td>400000</td>\n",
       "    </tr>\n",
       "    <tr>\n",
       "      <th>21596</th>\n",
       "      <td>735521</td>\n",
       "      <td>2</td>\n",
       "      <td>0.75</td>\n",
       "      <td>2.0</td>\n",
       "      <td>0</td>\n",
       "      <td>0</td>\n",
       "      <td>3</td>\n",
       "      <td>7</td>\n",
       "      <td>1020</td>\n",
       "      <td>0</td>\n",
       "      <td>98144</td>\n",
       "      <td>47.5941</td>\n",
       "      <td>-122.299</td>\n",
       "      <td>1020</td>\n",
       "      <td>1357</td>\n",
       "      <td>325000</td>\n",
       "    </tr>\n",
       "  </tbody>\n",
       "</table>\n",
       "<p>21597 rows × 16 columns</p>\n",
       "</div>"
      ],
      "text/plain": [
       "         date  bedrooms  bathrooms  floors  waterfront  view  condition  \\\n",
       "0      735519         3       1.00     1.0           0     0          3   \n",
       "1      735576         3       2.25     2.0           0     0          3   \n",
       "2      735654         2       1.00     1.0           0     0          3   \n",
       "3      735576         4       3.00     1.0           0     0          5   \n",
       "4      735647         3       2.00     1.0           0     0          3   \n",
       "...       ...       ...        ...     ...         ...   ...        ...   \n",
       "21592  735374         3       2.50     3.0           0     0          3   \n",
       "21593  735652         4       2.50     2.0           0     0          3   \n",
       "21594  735407         2       0.75     2.0           0     0          3   \n",
       "21595  735614         3       2.50     2.0           0     0          3   \n",
       "21596  735521         2       0.75     2.0           0     0          3   \n",
       "\n",
       "       grade  sqft_above  sqft_basement  zipcode      lat     long  \\\n",
       "0          7        1180              0    98178  47.5112 -122.257   \n",
       "1          7        2170            400    98125  47.7210 -122.319   \n",
       "2          6         770              0    98028  47.7379 -122.233   \n",
       "3          7        1050            910    98136  47.5208 -122.393   \n",
       "4          8        1680              0    98074  47.6168 -122.045   \n",
       "...      ...         ...            ...      ...      ...      ...   \n",
       "21592      8        1530              0    98103  47.6993 -122.346   \n",
       "21593      8        2310              0    98146  47.5107 -122.362   \n",
       "21594      7        1020              0    98144  47.5944 -122.299   \n",
       "21595      8        1600              0    98027  47.5345 -122.069   \n",
       "21596      7        1020              0    98144  47.5941 -122.299   \n",
       "\n",
       "       sqft_living15  sqft_lot15   price  \n",
       "0               1340        5650  221900  \n",
       "1               1690        7639  538000  \n",
       "2               2720        8062  180000  \n",
       "3               1360        5000  604000  \n",
       "4               1800        7503  510000  \n",
       "...              ...         ...     ...  \n",
       "21592           1530        1509  360000  \n",
       "21593           1830        7200  400000  \n",
       "21594           1020        2007  402101  \n",
       "21595           1410        1287  400000  \n",
       "21596           1020        1357  325000  \n",
       "\n",
       "[21597 rows x 16 columns]"
      ]
     },
     "execution_count": 72,
     "metadata": {},
     "output_type": "execute_result"
    }
   ],
   "source": [
    "#Get all numerical columns in a new dataframe\n",
    "numerical = data._get_numeric_data()\n",
    "numerical\n"
   ]
  },
  {
   "cell_type": "code",
   "execution_count": 73,
   "id": "ec50f6ef",
   "metadata": {},
   "outputs": [
    {
     "data": {
      "text/html": [
       "<div>\n",
       "<style scoped>\n",
       "    .dataframe tbody tr th:only-of-type {\n",
       "        vertical-align: middle;\n",
       "    }\n",
       "\n",
       "    .dataframe tbody tr th {\n",
       "        vertical-align: top;\n",
       "    }\n",
       "\n",
       "    .dataframe thead th {\n",
       "        text-align: right;\n",
       "    }\n",
       "</style>\n",
       "<table border=\"1\" class=\"dataframe\">\n",
       "  <thead>\n",
       "    <tr style=\"text-align: right;\">\n",
       "      <th></th>\n",
       "      <th>date</th>\n",
       "      <th>bedrooms</th>\n",
       "      <th>bathrooms</th>\n",
       "      <th>floors</th>\n",
       "      <th>waterfront</th>\n",
       "      <th>view</th>\n",
       "      <th>condition</th>\n",
       "      <th>grade</th>\n",
       "      <th>sqft_above</th>\n",
       "      <th>sqft_basement</th>\n",
       "      <th>zipcode</th>\n",
       "      <th>lat</th>\n",
       "      <th>long</th>\n",
       "      <th>sqft_living15</th>\n",
       "      <th>sqft_lot15</th>\n",
       "      <th>price</th>\n",
       "    </tr>\n",
       "  </thead>\n",
       "  <tbody>\n",
       "    <tr>\n",
       "      <th>count</th>\n",
       "      <td>21597.000000</td>\n",
       "      <td>21597.000000</td>\n",
       "      <td>21597.000000</td>\n",
       "      <td>21597.000000</td>\n",
       "      <td>21597.000000</td>\n",
       "      <td>21597.000000</td>\n",
       "      <td>21597.000000</td>\n",
       "      <td>21597.000000</td>\n",
       "      <td>21597.000000</td>\n",
       "      <td>21597.000000</td>\n",
       "      <td>21597.000000</td>\n",
       "      <td>21597.000000</td>\n",
       "      <td>21597.000000</td>\n",
       "      <td>21597.000000</td>\n",
       "      <td>21597.000000</td>\n",
       "      <td>2.159700e+04</td>\n",
       "    </tr>\n",
       "    <tr>\n",
       "      <th>mean</th>\n",
       "      <td>735535.180997</td>\n",
       "      <td>3.371811</td>\n",
       "      <td>2.115826</td>\n",
       "      <td>1.494096</td>\n",
       "      <td>0.007547</td>\n",
       "      <td>0.234292</td>\n",
       "      <td>3.409825</td>\n",
       "      <td>7.657915</td>\n",
       "      <td>1788.596842</td>\n",
       "      <td>291.725008</td>\n",
       "      <td>98077.951845</td>\n",
       "      <td>47.560093</td>\n",
       "      <td>-122.213982</td>\n",
       "      <td>1986.620318</td>\n",
       "      <td>12758.283512</td>\n",
       "      <td>5.402966e+05</td>\n",
       "    </tr>\n",
       "    <tr>\n",
       "      <th>std</th>\n",
       "      <td>113.059987</td>\n",
       "      <td>0.904096</td>\n",
       "      <td>0.768984</td>\n",
       "      <td>0.539683</td>\n",
       "      <td>0.086549</td>\n",
       "      <td>0.766390</td>\n",
       "      <td>0.650546</td>\n",
       "      <td>1.173200</td>\n",
       "      <td>827.759761</td>\n",
       "      <td>442.667800</td>\n",
       "      <td>53.513072</td>\n",
       "      <td>0.138552</td>\n",
       "      <td>0.140724</td>\n",
       "      <td>685.230472</td>\n",
       "      <td>27274.441950</td>\n",
       "      <td>3.673681e+05</td>\n",
       "    </tr>\n",
       "    <tr>\n",
       "      <th>min</th>\n",
       "      <td>735355.000000</td>\n",
       "      <td>1.000000</td>\n",
       "      <td>0.500000</td>\n",
       "      <td>1.000000</td>\n",
       "      <td>0.000000</td>\n",
       "      <td>0.000000</td>\n",
       "      <td>1.000000</td>\n",
       "      <td>3.000000</td>\n",
       "      <td>370.000000</td>\n",
       "      <td>0.000000</td>\n",
       "      <td>98001.000000</td>\n",
       "      <td>47.155900</td>\n",
       "      <td>-122.519000</td>\n",
       "      <td>399.000000</td>\n",
       "      <td>651.000000</td>\n",
       "      <td>7.800000e+04</td>\n",
       "    </tr>\n",
       "    <tr>\n",
       "      <th>25%</th>\n",
       "      <td>735436.000000</td>\n",
       "      <td>3.000000</td>\n",
       "      <td>1.750000</td>\n",
       "      <td>1.000000</td>\n",
       "      <td>0.000000</td>\n",
       "      <td>0.000000</td>\n",
       "      <td>3.000000</td>\n",
       "      <td>7.000000</td>\n",
       "      <td>1190.000000</td>\n",
       "      <td>0.000000</td>\n",
       "      <td>98033.000000</td>\n",
       "      <td>47.471100</td>\n",
       "      <td>-122.328000</td>\n",
       "      <td>1490.000000</td>\n",
       "      <td>5100.000000</td>\n",
       "      <td>3.220000e+05</td>\n",
       "    </tr>\n",
       "    <tr>\n",
       "      <th>50%</th>\n",
       "      <td>735522.000000</td>\n",
       "      <td>3.000000</td>\n",
       "      <td>2.250000</td>\n",
       "      <td>1.500000</td>\n",
       "      <td>0.000000</td>\n",
       "      <td>0.000000</td>\n",
       "      <td>3.000000</td>\n",
       "      <td>7.000000</td>\n",
       "      <td>1560.000000</td>\n",
       "      <td>0.000000</td>\n",
       "      <td>98065.000000</td>\n",
       "      <td>47.571800</td>\n",
       "      <td>-122.231000</td>\n",
       "      <td>1840.000000</td>\n",
       "      <td>7620.000000</td>\n",
       "      <td>4.500000e+05</td>\n",
       "    </tr>\n",
       "    <tr>\n",
       "      <th>75%</th>\n",
       "      <td>735646.000000</td>\n",
       "      <td>4.000000</td>\n",
       "      <td>2.500000</td>\n",
       "      <td>2.000000</td>\n",
       "      <td>0.000000</td>\n",
       "      <td>0.000000</td>\n",
       "      <td>4.000000</td>\n",
       "      <td>8.000000</td>\n",
       "      <td>2210.000000</td>\n",
       "      <td>560.000000</td>\n",
       "      <td>98118.000000</td>\n",
       "      <td>47.678000</td>\n",
       "      <td>-122.125000</td>\n",
       "      <td>2360.000000</td>\n",
       "      <td>10083.000000</td>\n",
       "      <td>6.450000e+05</td>\n",
       "    </tr>\n",
       "    <tr>\n",
       "      <th>max</th>\n",
       "      <td>735745.000000</td>\n",
       "      <td>11.000000</td>\n",
       "      <td>8.000000</td>\n",
       "      <td>3.500000</td>\n",
       "      <td>1.000000</td>\n",
       "      <td>4.000000</td>\n",
       "      <td>5.000000</td>\n",
       "      <td>13.000000</td>\n",
       "      <td>9410.000000</td>\n",
       "      <td>4820.000000</td>\n",
       "      <td>98199.000000</td>\n",
       "      <td>47.777600</td>\n",
       "      <td>-121.315000</td>\n",
       "      <td>6210.000000</td>\n",
       "      <td>871200.000000</td>\n",
       "      <td>7.700000e+06</td>\n",
       "    </tr>\n",
       "  </tbody>\n",
       "</table>\n",
       "</div>"
      ],
      "text/plain": [
       "                date      bedrooms     bathrooms        floors    waterfront  \\\n",
       "count   21597.000000  21597.000000  21597.000000  21597.000000  21597.000000   \n",
       "mean   735535.180997      3.371811      2.115826      1.494096      0.007547   \n",
       "std       113.059987      0.904096      0.768984      0.539683      0.086549   \n",
       "min    735355.000000      1.000000      0.500000      1.000000      0.000000   \n",
       "25%    735436.000000      3.000000      1.750000      1.000000      0.000000   \n",
       "50%    735522.000000      3.000000      2.250000      1.500000      0.000000   \n",
       "75%    735646.000000      4.000000      2.500000      2.000000      0.000000   \n",
       "max    735745.000000     11.000000      8.000000      3.500000      1.000000   \n",
       "\n",
       "               view     condition         grade    sqft_above  sqft_basement  \\\n",
       "count  21597.000000  21597.000000  21597.000000  21597.000000   21597.000000   \n",
       "mean       0.234292      3.409825      7.657915   1788.596842     291.725008   \n",
       "std        0.766390      0.650546      1.173200    827.759761     442.667800   \n",
       "min        0.000000      1.000000      3.000000    370.000000       0.000000   \n",
       "25%        0.000000      3.000000      7.000000   1190.000000       0.000000   \n",
       "50%        0.000000      3.000000      7.000000   1560.000000       0.000000   \n",
       "75%        0.000000      4.000000      8.000000   2210.000000     560.000000   \n",
       "max        4.000000      5.000000     13.000000   9410.000000    4820.000000   \n",
       "\n",
       "            zipcode           lat          long  sqft_living15     sqft_lot15  \\\n",
       "count  21597.000000  21597.000000  21597.000000   21597.000000   21597.000000   \n",
       "mean   98077.951845     47.560093   -122.213982    1986.620318   12758.283512   \n",
       "std       53.513072      0.138552      0.140724     685.230472   27274.441950   \n",
       "min    98001.000000     47.155900   -122.519000     399.000000     651.000000   \n",
       "25%    98033.000000     47.471100   -122.328000    1490.000000    5100.000000   \n",
       "50%    98065.000000     47.571800   -122.231000    1840.000000    7620.000000   \n",
       "75%    98118.000000     47.678000   -122.125000    2360.000000   10083.000000   \n",
       "max    98199.000000     47.777600   -121.315000    6210.000000  871200.000000   \n",
       "\n",
       "              price  \n",
       "count  2.159700e+04  \n",
       "mean   5.402966e+05  \n",
       "std    3.673681e+05  \n",
       "min    7.800000e+04  \n",
       "25%    3.220000e+05  \n",
       "50%    4.500000e+05  \n",
       "75%    6.450000e+05  \n",
       "max    7.700000e+06  "
      ]
     },
     "execution_count": 73,
     "metadata": {},
     "output_type": "execute_result"
    }
   ],
   "source": [
    "numerical.describe()"
   ]
  },
  {
   "cell_type": "markdown",
   "id": "43adc2bf",
   "metadata": {},
   "source": [
    "Check the numerical variable normality visually"
   ]
  },
  {
   "cell_type": "markdown",
   "id": "5dda066c",
   "metadata": {},
   "source": [
    "# 5. EDA : Exploratory data analysis"
   ]
  },
  {
   "cell_type": "markdown",
   "id": "cb3e17f6",
   "metadata": {},
   "source": [
    "Check the numerical variable normality visually"
   ]
  },
  {
   "cell_type": "markdown",
   "id": "d4eb8c64",
   "metadata": {},
   "source": [
    "Plot histograms for every numerical column"
   ]
  },
  {
   "cell_type": "markdown",
   "id": "3d45e975",
   "metadata": {},
   "source": [
    "Check the categorical variables visually"
   ]
  },
  {
   "cell_type": "code",
   "execution_count": 136,
   "id": "c71a761e",
   "metadata": {},
   "outputs": [
    {
     "data": {
      "image/png": "[encoded data removed]",
      "text/plain": [
       "<Figure size 432x288 with 1 Axes>"
      ]
     },
     "metadata": {},
     "output_type": "display_data"
    },
    {
     "data": {
      "image/png": "[encoded data removed]",
      "text/plain": [
       "<Figure size 432x288 with 1 Axes>"
      ]
     },
     "metadata": {},
     "output_type": "display_data"
    },
    {
     "data": {
      "image/png": "[encoded data removed]",
      "text/plain": [
       "<Figure size 432x288 with 1 Axes>"
      ]
     },
     "metadata": {},
     "output_type": "display_data"
    },
    {
     "data": {
      "image/png": "[encoded data removed]",
      "text/plain": [
       "<Figure size 432x288 with 1 Axes>"
      ]
     },
     "metadata": {},
     "output_type": "display_data"
    },
    {
     "data": {
      "image/png": "[encoded data removed]",
      "text/plain": [
       "<Figure size 432x288 with 1 Axes>"
      ]
     },
     "metadata": {},
     "output_type": "display_data"
    },
    {
     "data": {
      "image/png": "[encoded data removed]",
      "text/plain": [
       "<Figure size 432x288 with 1 Axes>"
      ]
     },
     "metadata": {},
     "output_type": "display_data"
    },
    {
     "data": {
      "image/png": "[encoded data removed]",
      "text/plain": [
       "<Figure size 432x288 with 1 Axes>"
      ]
     },
     "metadata": {},
     "output_type": "display_data"
    },
    {
     "data": {
      "image/png": "[encoded data removed]",
      "text/plain": [
       "<Figure size 432x288 with 1 Axes>"
      ]
     },
     "metadata": {},
     "output_type": "display_data"
    },
    {
     "data": {
      "image/png": "[encoded data removed]",
      "text/plain": [
       "<Figure size 432x288 with 1 Axes>"
      ]
     },
     "metadata": {},
     "output_type": "display_data"
    },
    {
     "data": {
      "image/png": "[encoded data removed]",
      "text/plain": [
       "<Figure size 432x288 with 1 Axes>"
      ]
     },
     "metadata": {},
     "output_type": "display_data"
    },
    {
     "data": {
      "image/png": "[encoded data removed]",
      "text/plain": [
       "<Figure size 432x288 with 1 Axes>"
      ]
     },
     "metadata": {},
     "output_type": "display_data"
    },
    {
     "data": {
      "image/png": "[encoded data removed]",
      "text/plain": [
       "<Figure size 432x288 with 1 Axes>"
      ]
     },
     "metadata": {},
     "output_type": "display_data"
    },
    {
     "data": {
      "image/png": "[encoded data removed]",
      "text/plain": [
       "<Figure size 432x288 with 1 Axes>"
      ]
     },
     "metadata": {},
     "output_type": "display_data"
    },
    {
     "data": {
      "image/png": "[encoded data removed]",
      "text/plain": [
       "<Figure size 432x288 with 1 Axes>"
      ]
     },
     "metadata": {},
     "output_type": "display_data"
    },
    {
     "data": {
      "image/png": "[encoded data removed]",
      "text/plain": [
       "<Figure size 432x288 with 1 Axes>"
      ]
     },
     "metadata": {},
     "output_type": "display_data"
    },
    {
     "data": {
      "image/png": "[encoded data removed]",
      "text/plain": [
       "<Figure size 432x288 with 1 Axes>"
      ]
     },
     "metadata": {},
     "output_type": "display_data"
    }
   ],
   "source": [
    "for column in numerical:\n",
    "    sns.distplot(numerical[column])\n",
    "    plt.show()"
   ]
  },
  {
   "cell_type": "code",
   "execution_count": 139,
   "id": "4884e332",
   "metadata": {},
   "outputs": [
    {
     "data": {
      "image/png": "[encoded data removed]",
      "text/plain": [
       "<Figure size 1440x1440 with 16 Axes>"
      ]
     },
     "metadata": {},
     "output_type": "display_data"
    }
   ],
   "source": [
    "# Plot histograms for every numerical column\n",
    "plt.figure(figsize=(20,20))\n",
    "for i, column in enumerate(numerical.columns, 1):\n",
    "    plt.subplot(4,4,i)\n",
    "    sns.histplot(numerical[column]);"
   ]
  },
  {
   "cell_type": "code",
   "execution_count": 140,
   "id": "05ab686a",
   "metadata": {},
   "outputs": [],
   "source": [
    "#Barplot for every categorical column\n",
    "for i in categorical:\n",
    "    plt.figure(figsize=(6,6))\n",
    "    plt.bar(df[i].unique(), data[i].value_counts(), color=\"green\")\n",
    "    plt.title(i)\n",
    "    plt.show();"
   ]
  },
  {
   "cell_type": "markdown",
   "id": "4ed04885",
   "metadata": {},
   "source": [
    "Check for multicolinearity"
   ]
  },
  {
   "cell_type": "code",
   "execution_count": null,
   "id": "7188535b",
   "metadata": {},
   "outputs": [],
   "source": [
    "#plot correlation matrix\n",
    "corr_matrix = data.corr()\n",
    "fig, ax = plt.subplots(figsize=(15, 10))\n",
    "ax = sns.heatmap(corr_matrix,\n",
    "                 annot=True,\n",
    "                 linewidths=0.5,\n",
    "                 fmt=\".2f\",\n",
    "                 cmap=\"YlGnBu\");\n",
    "bottom, top = ax.get_ylim()\n",
    "ax.set_ylim(bottom + 0.5, top - 0.5)"
   ]
  },
  {
   "cell_type": "markdown",
   "id": "3042f8e1",
   "metadata": {},
   "source": [
    "# 6. Machine Learning Model"
   ]
  },
  {
   "cell_type": "markdown",
   "id": "0919f6b0",
   "metadata": {},
   "source": [
    "Now we will use the Scikit-Learn library and the workflow as follows, to get a model with a good performance."
   ]
  },
  {
   "cell_type": "markdown",
   "id": "a27e8e64",
   "metadata": {},
   "source": [
    "First Model: Linear Regression"
   ]
  },
  {
   "cell_type": "markdown",
   "id": "f10e4337",
   "metadata": {},
   "source": [
    "Let's train the model now, before applying any pre-processing method."
   ]
  },
  {
   "cell_type": "code",
   "execution_count": 75,
   "id": "7e867471",
   "metadata": {},
   "outputs": [],
   "source": [
    "#import linear-model from scikit-learn and evaluation metrics, and math library\n",
    "from sklearn.linear_model import LinearRegression\n",
    "from sklearn.metrics import mean_squared_error, r2_score\n",
    "from sklearn.metrics import mean_absolute_error as mae\n",
    "import math"
   ]
  },
  {
   "cell_type": "code",
   "execution_count": 76,
   "id": "72f16686",
   "metadata": {},
   "outputs": [],
   "source": [
    "#create a Linear Regression object using the constructor:\n",
    "lm = LinearRegression()"
   ]
  },
  {
   "cell_type": "markdown",
   "id": "39fbe07d",
   "metadata": {},
   "source": [
    "In this case study, we want to build a ML model to predict the prices of properties based on some different features, so our target variable is the price column. The features are the rest of columns of our df, as we have already dropped the irrelevant columns."
   ]
  },
  {
   "cell_type": "code",
   "execution_count": 77,
   "id": "6a201064",
   "metadata": {},
   "outputs": [
    {
     "data": {
      "text/html": [
       "<div>\n",
       "<style scoped>\n",
       "    .dataframe tbody tr th:only-of-type {\n",
       "        vertical-align: middle;\n",
       "    }\n",
       "\n",
       "    .dataframe tbody tr th {\n",
       "        vertical-align: top;\n",
       "    }\n",
       "\n",
       "    .dataframe thead th {\n",
       "        text-align: right;\n",
       "    }\n",
       "</style>\n",
       "<table border=\"1\" class=\"dataframe\">\n",
       "  <thead>\n",
       "    <tr style=\"text-align: right;\">\n",
       "      <th></th>\n",
       "      <th>date</th>\n",
       "      <th>bedrooms</th>\n",
       "      <th>bathrooms</th>\n",
       "      <th>floors</th>\n",
       "      <th>waterfront</th>\n",
       "      <th>view</th>\n",
       "      <th>condition</th>\n",
       "      <th>grade</th>\n",
       "      <th>sqft_above</th>\n",
       "      <th>sqft_basement</th>\n",
       "      <th>zipcode</th>\n",
       "      <th>lat</th>\n",
       "      <th>long</th>\n",
       "      <th>sqft_living15</th>\n",
       "      <th>sqft_lot15</th>\n",
       "      <th>month</th>\n",
       "      <th>quarter</th>\n",
       "    </tr>\n",
       "  </thead>\n",
       "  <tbody>\n",
       "    <tr>\n",
       "      <th>0</th>\n",
       "      <td>735519</td>\n",
       "      <td>3</td>\n",
       "      <td>1.00</td>\n",
       "      <td>1.0</td>\n",
       "      <td>0</td>\n",
       "      <td>0</td>\n",
       "      <td>3</td>\n",
       "      <td>7</td>\n",
       "      <td>1180</td>\n",
       "      <td>0</td>\n",
       "      <td>98178</td>\n",
       "      <td>47.5112</td>\n",
       "      <td>-122.257</td>\n",
       "      <td>1340</td>\n",
       "      <td>5650</td>\n",
       "      <td>10</td>\n",
       "      <td>4</td>\n",
       "    </tr>\n",
       "    <tr>\n",
       "      <th>1</th>\n",
       "      <td>735576</td>\n",
       "      <td>3</td>\n",
       "      <td>2.25</td>\n",
       "      <td>2.0</td>\n",
       "      <td>0</td>\n",
       "      <td>0</td>\n",
       "      <td>3</td>\n",
       "      <td>7</td>\n",
       "      <td>2170</td>\n",
       "      <td>400</td>\n",
       "      <td>98125</td>\n",
       "      <td>47.7210</td>\n",
       "      <td>-122.319</td>\n",
       "      <td>1690</td>\n",
       "      <td>7639</td>\n",
       "      <td>12</td>\n",
       "      <td>4</td>\n",
       "    </tr>\n",
       "    <tr>\n",
       "      <th>2</th>\n",
       "      <td>735654</td>\n",
       "      <td>2</td>\n",
       "      <td>1.00</td>\n",
       "      <td>1.0</td>\n",
       "      <td>0</td>\n",
       "      <td>0</td>\n",
       "      <td>3</td>\n",
       "      <td>6</td>\n",
       "      <td>770</td>\n",
       "      <td>0</td>\n",
       "      <td>98028</td>\n",
       "      <td>47.7379</td>\n",
       "      <td>-122.233</td>\n",
       "      <td>2720</td>\n",
       "      <td>8062</td>\n",
       "      <td>2</td>\n",
       "      <td>1</td>\n",
       "    </tr>\n",
       "    <tr>\n",
       "      <th>3</th>\n",
       "      <td>735576</td>\n",
       "      <td>4</td>\n",
       "      <td>3.00</td>\n",
       "      <td>1.0</td>\n",
       "      <td>0</td>\n",
       "      <td>0</td>\n",
       "      <td>5</td>\n",
       "      <td>7</td>\n",
       "      <td>1050</td>\n",
       "      <td>910</td>\n",
       "      <td>98136</td>\n",
       "      <td>47.5208</td>\n",
       "      <td>-122.393</td>\n",
       "      <td>1360</td>\n",
       "      <td>5000</td>\n",
       "      <td>12</td>\n",
       "      <td>4</td>\n",
       "    </tr>\n",
       "    <tr>\n",
       "      <th>4</th>\n",
       "      <td>735647</td>\n",
       "      <td>3</td>\n",
       "      <td>2.00</td>\n",
       "      <td>1.0</td>\n",
       "      <td>0</td>\n",
       "      <td>0</td>\n",
       "      <td>3</td>\n",
       "      <td>8</td>\n",
       "      <td>1680</td>\n",
       "      <td>0</td>\n",
       "      <td>98074</td>\n",
       "      <td>47.6168</td>\n",
       "      <td>-122.045</td>\n",
       "      <td>1800</td>\n",
       "      <td>7503</td>\n",
       "      <td>2</td>\n",
       "      <td>1</td>\n",
       "    </tr>\n",
       "    <tr>\n",
       "      <th>...</th>\n",
       "      <td>...</td>\n",
       "      <td>...</td>\n",
       "      <td>...</td>\n",
       "      <td>...</td>\n",
       "      <td>...</td>\n",
       "      <td>...</td>\n",
       "      <td>...</td>\n",
       "      <td>...</td>\n",
       "      <td>...</td>\n",
       "      <td>...</td>\n",
       "      <td>...</td>\n",
       "      <td>...</td>\n",
       "      <td>...</td>\n",
       "      <td>...</td>\n",
       "      <td>...</td>\n",
       "      <td>...</td>\n",
       "      <td>...</td>\n",
       "    </tr>\n",
       "    <tr>\n",
       "      <th>21592</th>\n",
       "      <td>735374</td>\n",
       "      <td>3</td>\n",
       "      <td>2.50</td>\n",
       "      <td>3.0</td>\n",
       "      <td>0</td>\n",
       "      <td>0</td>\n",
       "      <td>3</td>\n",
       "      <td>8</td>\n",
       "      <td>1530</td>\n",
       "      <td>0</td>\n",
       "      <td>98103</td>\n",
       "      <td>47.6993</td>\n",
       "      <td>-122.346</td>\n",
       "      <td>1530</td>\n",
       "      <td>1509</td>\n",
       "      <td>5</td>\n",
       "      <td>2</td>\n",
       "    </tr>\n",
       "    <tr>\n",
       "      <th>21593</th>\n",
       "      <td>735652</td>\n",
       "      <td>4</td>\n",
       "      <td>2.50</td>\n",
       "      <td>2.0</td>\n",
       "      <td>0</td>\n",
       "      <td>0</td>\n",
       "      <td>3</td>\n",
       "      <td>8</td>\n",
       "      <td>2310</td>\n",
       "      <td>0</td>\n",
       "      <td>98146</td>\n",
       "      <td>47.5107</td>\n",
       "      <td>-122.362</td>\n",
       "      <td>1830</td>\n",
       "      <td>7200</td>\n",
       "      <td>2</td>\n",
       "      <td>1</td>\n",
       "    </tr>\n",
       "    <tr>\n",
       "      <th>21594</th>\n",
       "      <td>735407</td>\n",
       "      <td>2</td>\n",
       "      <td>0.75</td>\n",
       "      <td>2.0</td>\n",
       "      <td>0</td>\n",
       "      <td>0</td>\n",
       "      <td>3</td>\n",
       "      <td>7</td>\n",
       "      <td>1020</td>\n",
       "      <td>0</td>\n",
       "      <td>98144</td>\n",
       "      <td>47.5944</td>\n",
       "      <td>-122.299</td>\n",
       "      <td>1020</td>\n",
       "      <td>2007</td>\n",
       "      <td>6</td>\n",
       "      <td>2</td>\n",
       "    </tr>\n",
       "    <tr>\n",
       "      <th>21595</th>\n",
       "      <td>735614</td>\n",
       "      <td>3</td>\n",
       "      <td>2.50</td>\n",
       "      <td>2.0</td>\n",
       "      <td>0</td>\n",
       "      <td>0</td>\n",
       "      <td>3</td>\n",
       "      <td>8</td>\n",
       "      <td>1600</td>\n",
       "      <td>0</td>\n",
       "      <td>98027</td>\n",
       "      <td>47.5345</td>\n",
       "      <td>-122.069</td>\n",
       "      <td>1410</td>\n",
       "      <td>1287</td>\n",
       "      <td>1</td>\n",
       "      <td>1</td>\n",
       "    </tr>\n",
       "    <tr>\n",
       "      <th>21596</th>\n",
       "      <td>735521</td>\n",
       "      <td>2</td>\n",
       "      <td>0.75</td>\n",
       "      <td>2.0</td>\n",
       "      <td>0</td>\n",
       "      <td>0</td>\n",
       "      <td>3</td>\n",
       "      <td>7</td>\n",
       "      <td>1020</td>\n",
       "      <td>0</td>\n",
       "      <td>98144</td>\n",
       "      <td>47.5941</td>\n",
       "      <td>-122.299</td>\n",
       "      <td>1020</td>\n",
       "      <td>1357</td>\n",
       "      <td>10</td>\n",
       "      <td>4</td>\n",
       "    </tr>\n",
       "  </tbody>\n",
       "</table>\n",
       "<p>21597 rows × 17 columns</p>\n",
       "</div>"
      ],
      "text/plain": [
       "         date  bedrooms  bathrooms  floors  waterfront  view  condition  \\\n",
       "0      735519         3       1.00     1.0           0     0          3   \n",
       "1      735576         3       2.25     2.0           0     0          3   \n",
       "2      735654         2       1.00     1.0           0     0          3   \n",
       "3      735576         4       3.00     1.0           0     0          5   \n",
       "4      735647         3       2.00     1.0           0     0          3   \n",
       "...       ...       ...        ...     ...         ...   ...        ...   \n",
       "21592  735374         3       2.50     3.0           0     0          3   \n",
       "21593  735652         4       2.50     2.0           0     0          3   \n",
       "21594  735407         2       0.75     2.0           0     0          3   \n",
       "21595  735614         3       2.50     2.0           0     0          3   \n",
       "21596  735521         2       0.75     2.0           0     0          3   \n",
       "\n",
       "       grade  sqft_above  sqft_basement  zipcode      lat     long  \\\n",
       "0          7        1180              0    98178  47.5112 -122.257   \n",
       "1          7        2170            400    98125  47.7210 -122.319   \n",
       "2          6         770              0    98028  47.7379 -122.233   \n",
       "3          7        1050            910    98136  47.5208 -122.393   \n",
       "4          8        1680              0    98074  47.6168 -122.045   \n",
       "...      ...         ...            ...      ...      ...      ...   \n",
       "21592      8        1530              0    98103  47.6993 -122.346   \n",
       "21593      8        2310              0    98146  47.5107 -122.362   \n",
       "21594      7        1020              0    98144  47.5944 -122.299   \n",
       "21595      8        1600              0    98027  47.5345 -122.069   \n",
       "21596      7        1020              0    98144  47.5941 -122.299   \n",
       "\n",
       "       sqft_living15  sqft_lot15 month quarter  \n",
       "0               1340        5650    10       4  \n",
       "1               1690        7639    12       4  \n",
       "2               2720        8062     2       1  \n",
       "3               1360        5000    12       4  \n",
       "4               1800        7503     2       1  \n",
       "...              ...         ...   ...     ...  \n",
       "21592           1530        1509     5       2  \n",
       "21593           1830        7200     2       1  \n",
       "21594           1020        2007     6       2  \n",
       "21595           1410        1287     1       1  \n",
       "21596           1020        1357    10       4  \n",
       "\n",
       "[21597 rows x 17 columns]"
      ]
     },
     "execution_count": 77,
     "metadata": {},
     "output_type": "execute_result"
    }
   ],
   "source": [
    "#define the predictor and the target variable \n",
    "X = data.drop(columns=['price'])\n",
    "Y = data['price']\n",
    "X\n"
   ]
  },
  {
   "cell_type": "code",
   "execution_count": 78,
   "id": "6152c2ef",
   "metadata": {},
   "outputs": [
    {
     "name": "stdout",
     "output_type": "stream",
     "text": [
      "X shape: (21597, 17)\n",
      "Y shape: (21597,)\n"
     ]
    }
   ],
   "source": [
    "#check the shapes of both X, Y (because should have both the same number of rows)\n",
    "print('X shape:', X.shape)\n",
    "print('Y shape:', Y.shape)\n"
   ]
  },
  {
   "cell_type": "markdown",
   "id": "615c9bc1",
   "metadata": {},
   "source": [
    "Split into train - test"
   ]
  },
  {
   "cell_type": "code",
   "execution_count": 79,
   "id": "e8594a26",
   "metadata": {},
   "outputs": [],
   "source": [
    "from sklearn.model_selection import train_test_split"
   ]
  },
  {
   "cell_type": "markdown",
   "id": "71448be9",
   "metadata": {},
   "source": [
    "We will use a random_state of 40, and a test_sizeof 0.40 ( 60% train, 40% test)"
   ]
  },
  {
   "cell_type": "code",
   "execution_count": 80,
   "id": "6fe212ca",
   "metadata": {},
   "outputs": [],
   "source": [
    "X_train, X_test, Y_train, Y_test = train_test_split(X, Y, test_size=0.4, random_state=40)"
   ]
  },
  {
   "cell_type": "code",
   "execution_count": 81,
   "id": "e02ea199",
   "metadata": {},
   "outputs": [],
   "source": [
    "#train the model\n",
    "model = lm.fit(X_train,Y_train)"
   ]
  },
  {
   "cell_type": "code",
   "execution_count": 82,
   "id": "4bb2e715",
   "metadata": {},
   "outputs": [],
   "source": [
    "#Fit over our train data and predict against X test features\n",
    "Y_pred= lm.predict(X_test)\n"
   ]
  },
  {
   "cell_type": "markdown",
   "id": "7c5cfa28",
   "metadata": {},
   "source": [
    "Evaluate our model accuracy over Y_test- with metrics such as :\n",
    "\n",
    "R2 : regression score function.\n",
    "MSE: Mean Squared Error\n",
    "RMSE : Root Mean Squared Error is the square root of Mean Squared error. It measures the standard deviation of residuals.\n",
    "MAE : Mean Absolute Error"
   ]
  },
  {
   "cell_type": "code",
   "execution_count": 83,
   "id": "901a8e9a",
   "metadata": {},
   "outputs": [
    {
     "name": "stdout",
     "output_type": "stream",
     "text": [
      "R2:  0.6833064126233885\n",
      "MSE: 43199501769.15031\n",
      "RMSE:  207844.89834766285\n",
      "MAE:  131070.15324397202\n"
     ]
    }
   ],
   "source": [
    "print('R2: ', r2_score(Y_test, Y_pred))\n",
    "print('MSE:', mean_squared_error(Y_test, Y_pred))\n",
    "print('RMSE: ', math.sqrt(mean_squared_error(Y_test, Y_pred)))\n",
    "print('MAE: ', mae(Y_test, Y_pred))"
   ]
  },
  {
   "cell_type": "markdown",
   "id": "564bca40",
   "metadata": {},
   "source": [
    "Our accuracy score R2 now is 68,33%, it is relatively close to 1, and the mean absolute error is 131,070 $ so the model performs well."
   ]
  },
  {
   "cell_type": "markdown",
   "id": "18b44003",
   "metadata": {},
   "source": [
    "Checking if we can improve close to 1"
   ]
  },
  {
   "cell_type": "markdown",
   "id": "21cad2fe",
   "metadata": {},
   "source": [
    "# 7. Pre-processing the data"
   ]
  },
  {
   "cell_type": "raw",
   "id": "9d0ce186",
   "metadata": {},
   "source": [
    "In order to improve our model and get more accurate results, we will apply some different pre-processing methods:\n",
    "\n",
    "Normalization: values are rescaled so that they end up ranging between 0 and 1.\n",
    "Standardization: values are centered around the mean with a unit standard deviation.\n",
    "Dealing with outliers\n",
    "We will now drop lat and long, as the same information is presented in zipcode."
   ]
  },
  {
   "cell_type": "code",
   "execution_count": 84,
   "id": "b7d46751",
   "metadata": {},
   "outputs": [],
   "source": [
    "data = data.drop(['lat', 'long'], axis=1)"
   ]
  },
  {
   "cell_type": "code",
   "execution_count": 85,
   "id": "4dc7db58",
   "metadata": {},
   "outputs": [
    {
     "data": {
      "text/html": [
       "<div>\n",
       "<style scoped>\n",
       "    .dataframe tbody tr th:only-of-type {\n",
       "        vertical-align: middle;\n",
       "    }\n",
       "\n",
       "    .dataframe tbody tr th {\n",
       "        vertical-align: top;\n",
       "    }\n",
       "\n",
       "    .dataframe thead th {\n",
       "        text-align: right;\n",
       "    }\n",
       "</style>\n",
       "<table border=\"1\" class=\"dataframe\">\n",
       "  <thead>\n",
       "    <tr style=\"text-align: right;\">\n",
       "      <th></th>\n",
       "      <th>date</th>\n",
       "      <th>bedrooms</th>\n",
       "      <th>bathrooms</th>\n",
       "      <th>floors</th>\n",
       "      <th>waterfront</th>\n",
       "      <th>view</th>\n",
       "      <th>condition</th>\n",
       "      <th>grade</th>\n",
       "      <th>sqft_above</th>\n",
       "      <th>sqft_basement</th>\n",
       "      <th>zipcode</th>\n",
       "      <th>sqft_living15</th>\n",
       "      <th>sqft_lot15</th>\n",
       "      <th>price</th>\n",
       "    </tr>\n",
       "  </thead>\n",
       "  <tbody>\n",
       "    <tr>\n",
       "      <th>count</th>\n",
       "      <td>21597.000000</td>\n",
       "      <td>21597.000000</td>\n",
       "      <td>21597.000000</td>\n",
       "      <td>21597.000000</td>\n",
       "      <td>21597.000000</td>\n",
       "      <td>21597.000000</td>\n",
       "      <td>21597.000000</td>\n",
       "      <td>21597.000000</td>\n",
       "      <td>21597.000000</td>\n",
       "      <td>21597.000000</td>\n",
       "      <td>21597.000000</td>\n",
       "      <td>21597.000000</td>\n",
       "      <td>21597.000000</td>\n",
       "      <td>2.159700e+04</td>\n",
       "    </tr>\n",
       "    <tr>\n",
       "      <th>mean</th>\n",
       "      <td>735535.180997</td>\n",
       "      <td>3.371811</td>\n",
       "      <td>2.115826</td>\n",
       "      <td>1.494096</td>\n",
       "      <td>0.007547</td>\n",
       "      <td>0.234292</td>\n",
       "      <td>3.409825</td>\n",
       "      <td>7.657915</td>\n",
       "      <td>1788.596842</td>\n",
       "      <td>291.725008</td>\n",
       "      <td>98077.951845</td>\n",
       "      <td>1986.620318</td>\n",
       "      <td>12758.283512</td>\n",
       "      <td>5.402966e+05</td>\n",
       "    </tr>\n",
       "    <tr>\n",
       "      <th>std</th>\n",
       "      <td>113.059987</td>\n",
       "      <td>0.904096</td>\n",
       "      <td>0.768984</td>\n",
       "      <td>0.539683</td>\n",
       "      <td>0.086549</td>\n",
       "      <td>0.766390</td>\n",
       "      <td>0.650546</td>\n",
       "      <td>1.173200</td>\n",
       "      <td>827.759761</td>\n",
       "      <td>442.667800</td>\n",
       "      <td>53.513072</td>\n",
       "      <td>685.230472</td>\n",
       "      <td>27274.441950</td>\n",
       "      <td>3.673681e+05</td>\n",
       "    </tr>\n",
       "    <tr>\n",
       "      <th>min</th>\n",
       "      <td>735355.000000</td>\n",
       "      <td>1.000000</td>\n",
       "      <td>0.500000</td>\n",
       "      <td>1.000000</td>\n",
       "      <td>0.000000</td>\n",
       "      <td>0.000000</td>\n",
       "      <td>1.000000</td>\n",
       "      <td>3.000000</td>\n",
       "      <td>370.000000</td>\n",
       "      <td>0.000000</td>\n",
       "      <td>98001.000000</td>\n",
       "      <td>399.000000</td>\n",
       "      <td>651.000000</td>\n",
       "      <td>7.800000e+04</td>\n",
       "    </tr>\n",
       "    <tr>\n",
       "      <th>25%</th>\n",
       "      <td>735436.000000</td>\n",
       "      <td>3.000000</td>\n",
       "      <td>1.750000</td>\n",
       "      <td>1.000000</td>\n",
       "      <td>0.000000</td>\n",
       "      <td>0.000000</td>\n",
       "      <td>3.000000</td>\n",
       "      <td>7.000000</td>\n",
       "      <td>1190.000000</td>\n",
       "      <td>0.000000</td>\n",
       "      <td>98033.000000</td>\n",
       "      <td>1490.000000</td>\n",
       "      <td>5100.000000</td>\n",
       "      <td>3.220000e+05</td>\n",
       "    </tr>\n",
       "    <tr>\n",
       "      <th>50%</th>\n",
       "      <td>735522.000000</td>\n",
       "      <td>3.000000</td>\n",
       "      <td>2.250000</td>\n",
       "      <td>1.500000</td>\n",
       "      <td>0.000000</td>\n",
       "      <td>0.000000</td>\n",
       "      <td>3.000000</td>\n",
       "      <td>7.000000</td>\n",
       "      <td>1560.000000</td>\n",
       "      <td>0.000000</td>\n",
       "      <td>98065.000000</td>\n",
       "      <td>1840.000000</td>\n",
       "      <td>7620.000000</td>\n",
       "      <td>4.500000e+05</td>\n",
       "    </tr>\n",
       "    <tr>\n",
       "      <th>75%</th>\n",
       "      <td>735646.000000</td>\n",
       "      <td>4.000000</td>\n",
       "      <td>2.500000</td>\n",
       "      <td>2.000000</td>\n",
       "      <td>0.000000</td>\n",
       "      <td>0.000000</td>\n",
       "      <td>4.000000</td>\n",
       "      <td>8.000000</td>\n",
       "      <td>2210.000000</td>\n",
       "      <td>560.000000</td>\n",
       "      <td>98118.000000</td>\n",
       "      <td>2360.000000</td>\n",
       "      <td>10083.000000</td>\n",
       "      <td>6.450000e+05</td>\n",
       "    </tr>\n",
       "    <tr>\n",
       "      <th>max</th>\n",
       "      <td>735745.000000</td>\n",
       "      <td>11.000000</td>\n",
       "      <td>8.000000</td>\n",
       "      <td>3.500000</td>\n",
       "      <td>1.000000</td>\n",
       "      <td>4.000000</td>\n",
       "      <td>5.000000</td>\n",
       "      <td>13.000000</td>\n",
       "      <td>9410.000000</td>\n",
       "      <td>4820.000000</td>\n",
       "      <td>98199.000000</td>\n",
       "      <td>6210.000000</td>\n",
       "      <td>871200.000000</td>\n",
       "      <td>7.700000e+06</td>\n",
       "    </tr>\n",
       "  </tbody>\n",
       "</table>\n",
       "</div>"
      ],
      "text/plain": [
       "                date      bedrooms     bathrooms        floors    waterfront  \\\n",
       "count   21597.000000  21597.000000  21597.000000  21597.000000  21597.000000   \n",
       "mean   735535.180997      3.371811      2.115826      1.494096      0.007547   \n",
       "std       113.059987      0.904096      0.768984      0.539683      0.086549   \n",
       "min    735355.000000      1.000000      0.500000      1.000000      0.000000   \n",
       "25%    735436.000000      3.000000      1.750000      1.000000      0.000000   \n",
       "50%    735522.000000      3.000000      2.250000      1.500000      0.000000   \n",
       "75%    735646.000000      4.000000      2.500000      2.000000      0.000000   \n",
       "max    735745.000000     11.000000      8.000000      3.500000      1.000000   \n",
       "\n",
       "               view     condition         grade    sqft_above  sqft_basement  \\\n",
       "count  21597.000000  21597.000000  21597.000000  21597.000000   21597.000000   \n",
       "mean       0.234292      3.409825      7.657915   1788.596842     291.725008   \n",
       "std        0.766390      0.650546      1.173200    827.759761     442.667800   \n",
       "min        0.000000      1.000000      3.000000    370.000000       0.000000   \n",
       "25%        0.000000      3.000000      7.000000   1190.000000       0.000000   \n",
       "50%        0.000000      3.000000      7.000000   1560.000000       0.000000   \n",
       "75%        0.000000      4.000000      8.000000   2210.000000     560.000000   \n",
       "max        4.000000      5.000000     13.000000   9410.000000    4820.000000   \n",
       "\n",
       "            zipcode  sqft_living15     sqft_lot15         price  \n",
       "count  21597.000000   21597.000000   21597.000000  2.159700e+04  \n",
       "mean   98077.951845    1986.620318   12758.283512  5.402966e+05  \n",
       "std       53.513072     685.230472   27274.441950  3.673681e+05  \n",
       "min    98001.000000     399.000000     651.000000  7.800000e+04  \n",
       "25%    98033.000000    1490.000000    5100.000000  3.220000e+05  \n",
       "50%    98065.000000    1840.000000    7620.000000  4.500000e+05  \n",
       "75%    98118.000000    2360.000000   10083.000000  6.450000e+05  \n",
       "max    98199.000000    6210.000000  871200.000000  7.700000e+06  "
      ]
     },
     "execution_count": 85,
     "metadata": {},
     "output_type": "execute_result"
    }
   ],
   "source": [
    "data.describe()"
   ]
  },
  {
   "cell_type": "markdown",
   "id": "6c76f8a2",
   "metadata": {},
   "source": [
    "We need to rescale, as we have different range of values in columns."
   ]
  },
  {
   "cell_type": "markdown",
   "id": "c71624f0",
   "metadata": {},
   "source": [
    "# Standardization"
   ]
  },
  {
   "cell_type": "markdown",
   "id": "afa4ff81",
   "metadata": {},
   "source": [
    "We want to standardise all numeric features so we need first to get the numeric features of the new df."
   ]
  },
  {
   "cell_type": "code",
   "execution_count": 86,
   "id": "b92ebd65",
   "metadata": {},
   "outputs": [],
   "source": [
    "num = data._get_numeric_data()\n",
    "X_num = num.drop(columns=['price'])"
   ]
  },
  {
   "cell_type": "code",
   "execution_count": 87,
   "id": "c87a3c66",
   "metadata": {},
   "outputs": [
    {
     "name": "stdout",
     "output_type": "stream",
     "text": [
      "(21597, 13)\n"
     ]
    }
   ],
   "source": [
    "# rescaling using Standard Scaler\n",
    "from sklearn.preprocessing import StandardScaler\n",
    "transformer = StandardScaler().fit(X_num)\n",
    "X_stan = transformer.transform(X_num)\n",
    "print(X_stan.shape)\n"
   ]
  },
  {
   "cell_type": "code",
   "execution_count": 88,
   "id": "fb58b4eb",
   "metadata": {},
   "outputs": [
    {
     "data": {
      "text/plain": [
       "array([[-0.143122  , -0.41126094, -1.45107268, ...,  1.86964543,\n",
       "        -0.94367562, -0.26062671],\n",
       "       [ 0.36104681, -0.41126094,  0.17448579, ...,  0.87921029,\n",
       "        -0.43288674, -0.18769961],\n",
       "       [ 1.05096203, -1.51736336, -1.45107268, ..., -0.93347288,\n",
       "         1.07029196, -0.17219022],\n",
       "       ...,\n",
       "       [-1.1337695 , -1.51736336, -1.77618438, ...,  1.23427195,\n",
       "        -1.41068259, -0.39419807],\n",
       "       [ 0.69715935, -0.41126094,  0.49959749, ..., -0.95216033,\n",
       "        -0.84151784, -0.42059702],\n",
       "       [-0.12543187, -1.51736336, -1.77618438, ...,  1.23427195,\n",
       "        -1.41068259, -0.41803046]])"
      ]
     },
     "execution_count": 88,
     "metadata": {},
     "output_type": "execute_result"
    }
   ],
   "source": [
    "X_stan"
   ]
  },
  {
   "cell_type": "markdown",
   "id": "5bb59063",
   "metadata": {},
   "source": [
    "# Normalization"
   ]
  },
  {
   "cell_type": "markdown",
   "id": "18ee5b5a",
   "metadata": {},
   "source": [
    "We will preprocess now the categoricals using the OneHotEncoder method"
   ]
  },
  {
   "cell_type": "code",
   "execution_count": 89,
   "id": "d24d6a50",
   "metadata": {},
   "outputs": [],
   "source": [
    "#store categorical features in a new X_cat\n",
    "X_cat = data.select_dtypes(include = np.object)"
   ]
  },
  {
   "cell_type": "code",
   "execution_count": 90,
   "id": "95afbe57",
   "metadata": {},
   "outputs": [
    {
     "data": {
      "text/plain": [
       "array([[0., 0., 0., ..., 0., 0., 1.],\n",
       "       [0., 0., 0., ..., 0., 0., 1.],\n",
       "       [1., 0., 0., ..., 0., 0., 0.],\n",
       "       ...,\n",
       "       [0., 0., 0., ..., 1., 0., 0.],\n",
       "       [0., 0., 0., ..., 0., 0., 0.],\n",
       "       [0., 0., 0., ..., 0., 0., 1.]])"
      ]
     },
     "execution_count": 90,
     "metadata": {},
     "output_type": "execute_result"
    }
   ],
   "source": [
    "from sklearn.preprocessing import OneHotEncoder\n",
    "X_enc = OneHotEncoder(handle_unknown='error', drop='first').fit(X_cat)\n",
    "X_enc = X_enc.transform(X_cat).toarray()\n",
    "X_enc"
   ]
  },
  {
   "cell_type": "markdown",
   "id": "662baa0e",
   "metadata": {},
   "source": [
    "# Second modelling, now after pre-processing"
   ]
  },
  {
   "cell_type": "markdown",
   "id": "a4b03480",
   "metadata": {},
   "source": [
    "Now we concatenate both standardized and encoded dataframes in order to get the X for the model."
   ]
  },
  {
   "cell_type": "code",
   "execution_count": 91,
   "id": "7926539c",
   "metadata": {},
   "outputs": [],
   "source": [
    "X = np.concatenate((X_stan, X_enc), axis= 1)"
   ]
  },
  {
   "cell_type": "markdown",
   "id": "4b08b6b5",
   "metadata": {},
   "source": [
    "Spliting the data into train and test randomly"
   ]
  },
  {
   "cell_type": "markdown",
   "id": "1e61662d",
   "metadata": {},
   "source": [
    "X_train, X_test, Y_train, Y_test = train_test_split(X, Y, test_size=0.3, random_state=40)"
   ]
  },
  {
   "cell_type": "code",
   "execution_count": 92,
   "id": "e5c6b171",
   "metadata": {},
   "outputs": [],
   "source": [
    "lm = LinearRegression()\n",
    "model = lm.fit(X_train,Y_train)\n",
    "Y_pred  = lm.predict(X_test)"
   ]
  },
  {
   "cell_type": "markdown",
   "id": "345d0d99",
   "metadata": {},
   "source": [
    "Additional Evaluation Metrics for LR"
   ]
  },
  {
   "cell_type": "code",
   "execution_count": 93,
   "id": "d5a80968",
   "metadata": {},
   "outputs": [
    {
     "name": "stdout",
     "output_type": "stream",
     "text": [
      "R2:  0.6833064126233885\n",
      "MSE: 43199501769.15031\n",
      "RMSE:  207844.89834766285\n",
      "MAE:  131070.15324397202\n"
     ]
    }
   ],
   "source": [
    "print('R2: ', r2_score(Y_test, Y_pred))\n",
    "print('MSE:', mean_squared_error(Y_test, Y_pred))\n",
    "print('RMSE: ', math.sqrt(mean_squared_error(Y_test, Y_pred)))\n",
    "print('MAE: ', mae(Y_test, Y_pred))\n"
   ]
  },
  {
   "cell_type": "markdown",
   "id": "544e0106",
   "metadata": {},
   "source": [
    "no changes"
   ]
  },
  {
   "cell_type": "code",
   "execution_count": 94,
   "id": "89796c5a",
   "metadata": {},
   "outputs": [
    {
     "data": {
      "image/png": "[encoded data removed]",
      "text/plain": [
       "<Figure size 720x576 with 1 Axes>"
      ]
     },
     "metadata": {
      "needs_background": "light"
     },
     "output_type": "display_data"
    }
   ],
   "source": [
    "# generating value pairs for an ideal model which predicts the exact same y-value for a given test-y-value\n",
    "line_x = line_y = np.linspace(min(Y_test), max(Y_test), num=len(Y_test))\n",
    "fig, ax = plt.subplots(figsize=(10,8))\n",
    "plt.plot(Y_test, Y_pred, ms=5, marker=\".\", ls='')\n",
    "# plot the ideal model together with our dots\n",
    "plt.plot(line_x, line_y, ms=0.1, marker=\".\", ls='-', c='r', label='ideal model')\n",
    "# show legend\n",
    "plt.legend();\n",
    "plt.xlabel('y_test (price in $)');\n",
    "plt.ylabel('y_predicted (price in $)');"
   ]
  },
  {
   "cell_type": "markdown",
   "id": "ce773c74",
   "metadata": {},
   "source": [
    "# Third model"
   ]
  },
  {
   "cell_type": "markdown",
   "id": "8eb60764",
   "metadata": {},
   "source": [
    "Another iteration now dealing with outliers. First, we will plot the numerical features to find the outliers."
   ]
  },
  {
   "cell_type": "code",
   "execution_count": 95,
   "id": "b0ee2b41",
   "metadata": {},
   "outputs": [],
   "source": [
    "#create a new df3 to apply in this part \n",
    "data = data\n",
    "num = data._get_numeric_data()\n",
    "X_num = num.drop(columns=['price'])\n"
   ]
  },
  {
   "cell_type": "code",
   "execution_count": 96,
   "id": "5d7e96a7",
   "metadata": {},
   "outputs": [
    {
     "data": {
      "image/png": "[encoded data removed]",
      "text/plain": [
       "<Figure size 432x288 with 1 Axes>"
      ]
     },
     "metadata": {
      "needs_background": "light"
     },
     "output_type": "display_data"
    },
    {
     "data": {
      "image/png": "[encoded data removed]",
      "text/plain": [
       "<Figure size 432x288 with 1 Axes>"
      ]
     },
     "metadata": {},
     "output_type": "display_data"
    },
    {
     "data": {
      "image/png": "[encoded data removed]",
      "text/plain": [
       "<Figure size 432x288 with 1 Axes>"
      ]
     },
     "metadata": {},
     "output_type": "display_data"
    },
    {
     "data": {
      "image/png": "[encoded data removed]",
      "text/plain": [
       "<Figure size 432x288 with 1 Axes>"
      ]
     },
     "metadata": {},
     "output_type": "display_data"
    },
    {
     "data": {
      "image/png": "[encoded data removed]",
      "text/plain": [
       "<Figure size 432x288 with 1 Axes>"
      ]
     },
     "metadata": {},
     "output_type": "display_data"
    },
    {
     "data": {
      "image/png": "[encoded data removed]",
      "text/plain": [
       "<Figure size 432x288 with 1 Axes>"
      ]
     },
     "metadata": {},
     "output_type": "display_data"
    },
    {
     "data": {
      "image/png": "[encoded data removed]",
      "text/plain": [
       "<Figure size 432x288 with 1 Axes>"
      ]
     },
     "metadata": {},
     "output_type": "display_data"
    },
    {
     "data": {
      "image/png": "[encoded data removed]",
      "text/plain": [
       "<Figure size 432x288 with 1 Axes>"
      ]
     },
     "metadata": {},
     "output_type": "display_data"
    },
    {
     "data": {
      "image/png": "[encoded data removed]",
      "text/plain": [
       "<Figure size 432x288 with 1 Axes>"
      ]
     },
     "metadata": {},
     "output_type": "display_data"
    },
    {
     "data": {
      "image/png": "[encoded data removed]",
      "text/plain": [
       "<Figure size 432x288 with 1 Axes>"
      ]
     },
     "metadata": {},
     "output_type": "display_data"
    },
    {
     "data": {
      "image/png": "[encoded data removed]",
      "text/plain": [
       "<Figure size 432x288 with 1 Axes>"
      ]
     },
     "metadata": {},
     "output_type": "display_data"
    },
    {
     "data": {
      "image/png": "[encoded data removed]",
      "text/plain": [
       "<Figure size 432x288 with 1 Axes>"
      ]
     },
     "metadata": {},
     "output_type": "display_data"
    },
    {
     "data": {
      "image/png": "[encoded data removed]",
      "text/plain": [
       "<Figure size 432x288 with 1 Axes>"
      ]
     },
     "metadata": {},
     "output_type": "display_data"
    },
    {
     "data": {
      "image/png": "[encoded data removed]",
      "text/plain": [
       "<Figure size 432x288 with 1 Axes>"
      ]
     },
     "metadata": {},
     "output_type": "display_data"
    }
   ],
   "source": [
    "#histogram for every numerical column\n",
    "for i, col in enumerate(num.columns):\n",
    "    plt.figure(i)\n",
    "    sns.set_theme(style=\"darkgrid\")\n",
    "    sns.histplot(data=num, x=col, kde=True)"
   ]
  },
  {
   "cell_type": "markdown",
   "id": "ae8f770d",
   "metadata": {},
   "source": [
    "Logarithm transformation"
   ]
  },
  {
   "cell_type": "code",
   "execution_count": 97,
   "id": "827cba35",
   "metadata": {},
   "outputs": [
    {
     "data": {
      "text/plain": [
       "<seaborn.axisgrid.FacetGrid at 0x23db32c4760>"
      ]
     },
     "execution_count": 97,
     "metadata": {},
     "output_type": "execute_result"
    },
    {
     "data": {
      "image/png": "[encoded data removed]",
      "text/plain": [
       "<Figure size 360x360 with 1 Axes>"
      ]
     },
     "metadata": {},
     "output_type": "display_data"
    }
   ],
   "source": [
    "sns.displot(data['sqft_above'])"
   ]
  },
  {
   "cell_type": "code",
   "execution_count": 98,
   "id": "1b242f67",
   "metadata": {},
   "outputs": [],
   "source": [
    "def log_transfom_clean_(x):\n",
    "    x = np.log(x)\n",
    "    if np.isfinite(x):\n",
    "        return x\n",
    "    else:\n",
    "        return np.NAN   "
   ]
  },
  {
   "cell_type": "code",
   "execution_count": 99,
   "id": "980baaf0",
   "metadata": {},
   "outputs": [],
   "source": [
    "#replace the NaN with the mean\n",
    "data['sqft_above_log'] = list(map(log_transfom_clean_, data['sqft_above']))\n",
    "data['sqft_above_log'] = data['sqft_above_log'].fillna(np.mean(data['sqft_above_log']))\n"
   ]
  },
  {
   "cell_type": "code",
   "execution_count": 100,
   "id": "826e3cb4",
   "metadata": {},
   "outputs": [
    {
     "data": {
      "image/png": "[encoded data removed]",
      "text/plain": [
       "<Figure size 360x360 with 1 Axes>"
      ]
     },
     "metadata": {},
     "output_type": "display_data"
    }
   ],
   "source": [
    "sns.displot(data['sqft_above_log'], kde=True);"
   ]
  },
  {
   "cell_type": "code",
   "execution_count": 101,
   "id": "5a80b9e7",
   "metadata": {},
   "outputs": [],
   "source": [
    "data['sqft_basement_log'] = list(map(log_transfom_clean_, data['sqft_basement']))\n",
    "data['sqft_basement_log'] = data['sqft_basement_log'].fillna(np.mean(data['sqft_basement_log']))\n"
   ]
  },
  {
   "cell_type": "code",
   "execution_count": 102,
   "id": "edf37540",
   "metadata": {},
   "outputs": [],
   "source": [
    "data['sqft_living15_log'] = list(map(log_transfom_clean_, data['sqft_living15']))\n",
    "data['sqft_living15_log'] = data['sqft_living15_log'].fillna(np.mean(data['sqft_living15_log']))"
   ]
  },
  {
   "cell_type": "code",
   "execution_count": 103,
   "id": "f1cf9464",
   "metadata": {},
   "outputs": [
    {
     "data": {
      "text/html": [
       "<div>\n",
       "<style scoped>\n",
       "    .dataframe tbody tr th:only-of-type {\n",
       "        vertical-align: middle;\n",
       "    }\n",
       "\n",
       "    .dataframe tbody tr th {\n",
       "        vertical-align: top;\n",
       "    }\n",
       "\n",
       "    .dataframe thead th {\n",
       "        text-align: right;\n",
       "    }\n",
       "</style>\n",
       "<table border=\"1\" class=\"dataframe\">\n",
       "  <thead>\n",
       "    <tr style=\"text-align: right;\">\n",
       "      <th></th>\n",
       "      <th>date</th>\n",
       "      <th>bedrooms</th>\n",
       "      <th>bathrooms</th>\n",
       "      <th>floors</th>\n",
       "      <th>waterfront</th>\n",
       "      <th>view</th>\n",
       "      <th>condition</th>\n",
       "      <th>grade</th>\n",
       "      <th>sqft_above</th>\n",
       "      <th>sqft_basement</th>\n",
       "      <th>zipcode</th>\n",
       "      <th>sqft_living15</th>\n",
       "      <th>sqft_lot15</th>\n",
       "      <th>price</th>\n",
       "      <th>month</th>\n",
       "      <th>quarter</th>\n",
       "      <th>sqft_above_log</th>\n",
       "      <th>sqft_basement_log</th>\n",
       "      <th>sqft_living15_log</th>\n",
       "    </tr>\n",
       "  </thead>\n",
       "  <tbody>\n",
       "    <tr>\n",
       "      <th>0</th>\n",
       "      <td>735519</td>\n",
       "      <td>3</td>\n",
       "      <td>1.00</td>\n",
       "      <td>1.0</td>\n",
       "      <td>0</td>\n",
       "      <td>0</td>\n",
       "      <td>3</td>\n",
       "      <td>7</td>\n",
       "      <td>1180</td>\n",
       "      <td>0</td>\n",
       "      <td>98178</td>\n",
       "      <td>1340</td>\n",
       "      <td>5650</td>\n",
       "      <td>221900</td>\n",
       "      <td>10</td>\n",
       "      <td>4</td>\n",
       "      <td>7.073270</td>\n",
       "      <td>6.439042</td>\n",
       "      <td>7.200425</td>\n",
       "    </tr>\n",
       "    <tr>\n",
       "      <th>1</th>\n",
       "      <td>735576</td>\n",
       "      <td>3</td>\n",
       "      <td>2.25</td>\n",
       "      <td>2.0</td>\n",
       "      <td>0</td>\n",
       "      <td>0</td>\n",
       "      <td>3</td>\n",
       "      <td>7</td>\n",
       "      <td>2170</td>\n",
       "      <td>400</td>\n",
       "      <td>98125</td>\n",
       "      <td>1690</td>\n",
       "      <td>7639</td>\n",
       "      <td>538000</td>\n",
       "      <td>12</td>\n",
       "      <td>4</td>\n",
       "      <td>7.682482</td>\n",
       "      <td>5.991465</td>\n",
       "      <td>7.432484</td>\n",
       "    </tr>\n",
       "    <tr>\n",
       "      <th>2</th>\n",
       "      <td>735654</td>\n",
       "      <td>2</td>\n",
       "      <td>1.00</td>\n",
       "      <td>1.0</td>\n",
       "      <td>0</td>\n",
       "      <td>0</td>\n",
       "      <td>3</td>\n",
       "      <td>6</td>\n",
       "      <td>770</td>\n",
       "      <td>0</td>\n",
       "      <td>98028</td>\n",
       "      <td>2720</td>\n",
       "      <td>8062</td>\n",
       "      <td>180000</td>\n",
       "      <td>2</td>\n",
       "      <td>1</td>\n",
       "      <td>6.646391</td>\n",
       "      <td>6.439042</td>\n",
       "      <td>7.908387</td>\n",
       "    </tr>\n",
       "    <tr>\n",
       "      <th>3</th>\n",
       "      <td>735576</td>\n",
       "      <td>4</td>\n",
       "      <td>3.00</td>\n",
       "      <td>1.0</td>\n",
       "      <td>0</td>\n",
       "      <td>0</td>\n",
       "      <td>5</td>\n",
       "      <td>7</td>\n",
       "      <td>1050</td>\n",
       "      <td>910</td>\n",
       "      <td>98136</td>\n",
       "      <td>1360</td>\n",
       "      <td>5000</td>\n",
       "      <td>604000</td>\n",
       "      <td>12</td>\n",
       "      <td>4</td>\n",
       "      <td>6.956545</td>\n",
       "      <td>6.813445</td>\n",
       "      <td>7.215240</td>\n",
       "    </tr>\n",
       "    <tr>\n",
       "      <th>4</th>\n",
       "      <td>735647</td>\n",
       "      <td>3</td>\n",
       "      <td>2.00</td>\n",
       "      <td>1.0</td>\n",
       "      <td>0</td>\n",
       "      <td>0</td>\n",
       "      <td>3</td>\n",
       "      <td>8</td>\n",
       "      <td>1680</td>\n",
       "      <td>0</td>\n",
       "      <td>98074</td>\n",
       "      <td>1800</td>\n",
       "      <td>7503</td>\n",
       "      <td>510000</td>\n",
       "      <td>2</td>\n",
       "      <td>1</td>\n",
       "      <td>7.426549</td>\n",
       "      <td>6.439042</td>\n",
       "      <td>7.495542</td>\n",
       "    </tr>\n",
       "  </tbody>\n",
       "</table>\n",
       "</div>"
      ],
      "text/plain": [
       "     date  bedrooms  bathrooms  floors  waterfront  view  condition  grade  \\\n",
       "0  735519         3       1.00     1.0           0     0          3      7   \n",
       "1  735576         3       2.25     2.0           0     0          3      7   \n",
       "2  735654         2       1.00     1.0           0     0          3      6   \n",
       "3  735576         4       3.00     1.0           0     0          5      7   \n",
       "4  735647         3       2.00     1.0           0     0          3      8   \n",
       "\n",
       "   sqft_above  sqft_basement  zipcode  sqft_living15  sqft_lot15   price  \\\n",
       "0        1180              0    98178           1340        5650  221900   \n",
       "1        2170            400    98125           1690        7639  538000   \n",
       "2         770              0    98028           2720        8062  180000   \n",
       "3        1050            910    98136           1360        5000  604000   \n",
       "4        1680              0    98074           1800        7503  510000   \n",
       "\n",
       "  month quarter  sqft_above_log  sqft_basement_log  sqft_living15_log  \n",
       "0    10       4        7.073270           6.439042           7.200425  \n",
       "1    12       4        7.682482           5.991465           7.432484  \n",
       "2     2       1        6.646391           6.439042           7.908387  \n",
       "3    12       4        6.956545           6.813445           7.215240  \n",
       "4     2       1        7.426549           6.439042           7.495542  "
      ]
     },
     "execution_count": 103,
     "metadata": {},
     "output_type": "execute_result"
    }
   ],
   "source": [
    "data.head()\n"
   ]
  },
  {
   "cell_type": "code",
   "execution_count": 104,
   "id": "2b8e41f9",
   "metadata": {},
   "outputs": [],
   "source": [
    "data = data.drop(['sqft_above'], axis=1)\n",
    "data = data.drop(['sqft_basement'], axis =1)\n",
    "data = data.drop(['sqft_living15'], axis=1)"
   ]
  },
  {
   "cell_type": "markdown",
   "id": "d5cec5dc",
   "metadata": {},
   "source": [
    "Normalizer"
   ]
  },
  {
   "cell_type": "code",
   "execution_count": 105,
   "id": "6f4c09a0",
   "metadata": {},
   "outputs": [],
   "source": [
    "X_num = data.select_dtypes(include = np.number)\n",
    "X_cat = data.select_dtypes(include = np.object)"
   ]
  },
  {
   "cell_type": "code",
   "execution_count": 106,
   "id": "4c1f4381",
   "metadata": {},
   "outputs": [],
   "source": [
    "X_num = X_num.drop(['price'], axis=1)"
   ]
  },
  {
   "cell_type": "code",
   "execution_count": 107,
   "id": "92386300",
   "metadata": {},
   "outputs": [
    {
     "data": {
      "text/html": [
       "<div>\n",
       "<style scoped>\n",
       "    .dataframe tbody tr th:only-of-type {\n",
       "        vertical-align: middle;\n",
       "    }\n",
       "\n",
       "    .dataframe tbody tr th {\n",
       "        vertical-align: top;\n",
       "    }\n",
       "\n",
       "    .dataframe thead th {\n",
       "        text-align: right;\n",
       "    }\n",
       "</style>\n",
       "<table border=\"1\" class=\"dataframe\">\n",
       "  <thead>\n",
       "    <tr style=\"text-align: right;\">\n",
       "      <th></th>\n",
       "      <th>month_2</th>\n",
       "      <th>month_3</th>\n",
       "      <th>month_4</th>\n",
       "      <th>month_5</th>\n",
       "      <th>month_6</th>\n",
       "      <th>month_7</th>\n",
       "      <th>month_8</th>\n",
       "      <th>month_9</th>\n",
       "      <th>month_10</th>\n",
       "      <th>month_11</th>\n",
       "      <th>month_12</th>\n",
       "      <th>quarter_2</th>\n",
       "      <th>quarter_3</th>\n",
       "      <th>quarter_4</th>\n",
       "    </tr>\n",
       "  </thead>\n",
       "  <tbody>\n",
       "    <tr>\n",
       "      <th>0</th>\n",
       "      <td>0</td>\n",
       "      <td>0</td>\n",
       "      <td>0</td>\n",
       "      <td>0</td>\n",
       "      <td>0</td>\n",
       "      <td>0</td>\n",
       "      <td>0</td>\n",
       "      <td>0</td>\n",
       "      <td>1</td>\n",
       "      <td>0</td>\n",
       "      <td>0</td>\n",
       "      <td>0</td>\n",
       "      <td>0</td>\n",
       "      <td>1</td>\n",
       "    </tr>\n",
       "    <tr>\n",
       "      <th>1</th>\n",
       "      <td>0</td>\n",
       "      <td>0</td>\n",
       "      <td>0</td>\n",
       "      <td>0</td>\n",
       "      <td>0</td>\n",
       "      <td>0</td>\n",
       "      <td>0</td>\n",
       "      <td>0</td>\n",
       "      <td>0</td>\n",
       "      <td>0</td>\n",
       "      <td>1</td>\n",
       "      <td>0</td>\n",
       "      <td>0</td>\n",
       "      <td>1</td>\n",
       "    </tr>\n",
       "    <tr>\n",
       "      <th>2</th>\n",
       "      <td>1</td>\n",
       "      <td>0</td>\n",
       "      <td>0</td>\n",
       "      <td>0</td>\n",
       "      <td>0</td>\n",
       "      <td>0</td>\n",
       "      <td>0</td>\n",
       "      <td>0</td>\n",
       "      <td>0</td>\n",
       "      <td>0</td>\n",
       "      <td>0</td>\n",
       "      <td>0</td>\n",
       "      <td>0</td>\n",
       "      <td>0</td>\n",
       "    </tr>\n",
       "    <tr>\n",
       "      <th>3</th>\n",
       "      <td>0</td>\n",
       "      <td>0</td>\n",
       "      <td>0</td>\n",
       "      <td>0</td>\n",
       "      <td>0</td>\n",
       "      <td>0</td>\n",
       "      <td>0</td>\n",
       "      <td>0</td>\n",
       "      <td>0</td>\n",
       "      <td>0</td>\n",
       "      <td>1</td>\n",
       "      <td>0</td>\n",
       "      <td>0</td>\n",
       "      <td>1</td>\n",
       "    </tr>\n",
       "    <tr>\n",
       "      <th>4</th>\n",
       "      <td>1</td>\n",
       "      <td>0</td>\n",
       "      <td>0</td>\n",
       "      <td>0</td>\n",
       "      <td>0</td>\n",
       "      <td>0</td>\n",
       "      <td>0</td>\n",
       "      <td>0</td>\n",
       "      <td>0</td>\n",
       "      <td>0</td>\n",
       "      <td>0</td>\n",
       "      <td>0</td>\n",
       "      <td>0</td>\n",
       "      <td>0</td>\n",
       "    </tr>\n",
       "  </tbody>\n",
       "</table>\n",
       "</div>"
      ],
      "text/plain": [
       "   month_2  month_3  month_4  month_5  month_6  month_7  month_8  month_9  \\\n",
       "0        0        0        0        0        0        0        0        0   \n",
       "1        0        0        0        0        0        0        0        0   \n",
       "2        1        0        0        0        0        0        0        0   \n",
       "3        0        0        0        0        0        0        0        0   \n",
       "4        1        0        0        0        0        0        0        0   \n",
       "\n",
       "   month_10  month_11  month_12  quarter_2  quarter_3  quarter_4  \n",
       "0         1         0         0          0          0          1  \n",
       "1         0         0         1          0          0          1  \n",
       "2         0         0         0          0          0          0  \n",
       "3         0         0         1          0          0          1  \n",
       "4         0         0         0          0          0          0  "
      ]
     },
     "execution_count": 107,
     "metadata": {},
     "output_type": "execute_result"
    }
   ],
   "source": [
    "X_enco=pd.get_dummies(X_cat, drop_first=True)\n",
    "X_enco.head()\n"
   ]
  },
  {
   "cell_type": "markdown",
   "id": "11fc7ffb",
   "metadata": {},
   "source": [
    "Concatenate\n",
    "\n"
   ]
  },
  {
   "cell_type": "code",
   "execution_count": 108,
   "id": "e40914d0",
   "metadata": {},
   "outputs": [
    {
     "name": "stdout",
     "output_type": "stream",
     "text": [
      "(21597, 27)\n",
      "(21597,)\n"
     ]
    }
   ],
   "source": [
    "X = np.concatenate((X_num, X_enco), axis= 1)\n",
    "Y = data['price']\n",
    "print(X.shape)\n",
    "print(Y.shape)\n"
   ]
  },
  {
   "cell_type": "code",
   "execution_count": 109,
   "id": "50d4a048",
   "metadata": {},
   "outputs": [],
   "source": [
    "#spliting the data into train and test\n",
    "X_train, X_test, Y_train, Y_test = train_test_split(X, Y, test_size=0.3, random_state=40)"
   ]
  },
  {
   "cell_type": "code",
   "execution_count": 110,
   "id": "b9ffca8b",
   "metadata": {},
   "outputs": [],
   "source": [
    "lm = LinearRegression()\n",
    "model = lm.fit(X_train,Y_train)\n",
    "Y_pred  = lm.predict(X_test)"
   ]
  },
  {
   "cell_type": "code",
   "execution_count": 111,
   "id": "b9d47b48",
   "metadata": {},
   "outputs": [
    {
     "name": "stdout",
     "output_type": "stream",
     "text": [
      "R2:  0.5712736040374553\n",
      "MSE: 57552620839.33104\n",
      "RMSE:  239901.2731090251\n",
      "MAE:  157768.76195675367\n"
     ]
    }
   ],
   "source": [
    "print('R2: ', r2_score(Y_test, Y_pred))\n",
    "print('MSE:', mean_squared_error(Y_test, Y_pred))\n",
    "print('RMSE: ', math.sqrt(mean_squared_error(Y_test, Y_pred)))\n",
    "print('MAE: ', mae(Y_test, Y_pred))\n"
   ]
  },
  {
   "cell_type": "markdown",
   "id": "918932bf",
   "metadata": {},
   "source": [
    "Applying the logarithm transformation the model performance has decreased slightly, to a R2 of 57% and a mean absolute error of 157768 $.\n",
    "\n",
    "Let's plot our model results."
   ]
  },
  {
   "cell_type": "code",
   "execution_count": 112,
   "id": "fd1b4b5c",
   "metadata": {},
   "outputs": [
    {
     "data": {
      "image/png": "[encoded data removed]",
      "text/plain": [
       "<Figure size 720x576 with 1 Axes>"
      ]
     },
     "metadata": {},
     "output_type": "display_data"
    }
   ],
   "source": [
    "# generating value pairs for an ideal model which predicts the exact same y-value for a given test-y-value\n",
    "line_x = line_y = np.linspace(min(Y_test), max(Y_test), num=len(Y_test))\n",
    "fig, ax = plt.subplots(figsize=(10,8))\n",
    "plt.plot(Y_test, Y_pred, ms=5, marker=\".\", ls='')\n",
    "# plot the ideal model together with our dots\n",
    "plt.plot(line_x, line_y, ms=0.1, marker=\".\", ls='-', c='r', label='ideal model')\n",
    "# show legend\n",
    "plt.legend();\n",
    "plt.xlabel('y_test (price in $)');\n",
    "plt.ylabel('y_predicted (price in $)');"
   ]
  },
  {
   "cell_type": "markdown",
   "id": "a72a56d6",
   "metadata": {},
   "source": [
    "# Fourth modelling: using KNN"
   ]
  },
  {
   "cell_type": "raw",
   "id": "2d49e348",
   "metadata": {},
   "source": [
    "KNN Model\n",
    "KNN or K-Nearest Neighbor works on Euclidean distance between the neighbor cordinates X and y to know how similar data is."
   ]
  },
  {
   "cell_type": "markdown",
   "id": "95d5fc83",
   "metadata": {},
   "source": [
    "Standardize numerical columns"
   ]
  },
  {
   "cell_type": "code",
   "execution_count": 146,
   "id": "e68882a4",
   "metadata": {},
   "outputs": [
    {
     "data": {
      "text/plain": [
       "dtype('int64')"
      ]
     },
     "execution_count": 146,
     "metadata": {},
     "output_type": "execute_result"
    }
   ],
   "source": [
    "categoricals = data.select_dtypes(np.object)\n",
    "numericals = data.select_dtypes(np.number)\n",
    "data.zipcode.dtypes"
   ]
  },
  {
   "cell_type": "code",
   "execution_count": 148,
   "id": "5bed26db",
   "metadata": {},
   "outputs": [
    {
     "data": {
      "text/plain": [
       "date                   int64\n",
       "bedrooms               int64\n",
       "bathrooms            float64\n",
       "floors               float64\n",
       "waterfront             int64\n",
       "view                   int64\n",
       "condition              int64\n",
       "grade                  int64\n",
       "zipcode                int64\n",
       "sqft_lot15             int64\n",
       "price                  int64\n",
       "sqft_above_log       float64\n",
       "sqft_basement_log    float64\n",
       "sqft_living15_log    float64\n",
       "dtype: object"
      ]
     },
     "execution_count": 148,
     "metadata": {},
     "output_type": "execute_result"
    }
   ],
   "source": [
    "categoricals = data.select_dtypes(np.object)\n",
    "numericals = data.select_dtypes(np.number)\n",
    "numericals.dtypes"
   ]
  },
  {
   "cell_type": "code",
   "execution_count": 149,
   "id": "232de3db",
   "metadata": {},
   "outputs": [
    {
     "data": {
      "text/plain": [
       "month      object\n",
       "quarter    object\n",
       "dtype: object"
      ]
     },
     "execution_count": 149,
     "metadata": {},
     "output_type": "execute_result"
    }
   ],
   "source": [
    "categoricals = data.select_dtypes(np.object)\n",
    "numericals = data.select_dtypes(np.number)\n",
    "categoricals.dtypes"
   ]
  },
  {
   "cell_type": "code",
   "execution_count": 120,
   "id": "bd82255d",
   "metadata": {},
   "outputs": [],
   "source": [
    "#Scaling to the numerical columns except the final column ('price')\n",
    "transformer = StandardScaler().fit(numericals.iloc[:,:-1])\n",
    "scaled_numericals = transformer.transform(numericals.iloc[:,:-1])"
   ]
  },
  {
   "cell_type": "code",
   "execution_count": 121,
   "id": "389b4685",
   "metadata": {},
   "outputs": [],
   "source": [
    "pdscaled_numericals= pd.DataFrame(scaled_numericals,columns=numericals.columns.tolist()[:-1])"
   ]
  },
  {
   "cell_type": "code",
   "execution_count": 122,
   "id": "4a47b5de",
   "metadata": {},
   "outputs": [
    {
     "data": {
      "text/html": [
       "<div>\n",
       "<style scoped>\n",
       "    .dataframe tbody tr th:only-of-type {\n",
       "        vertical-align: middle;\n",
       "    }\n",
       "\n",
       "    .dataframe tbody tr th {\n",
       "        vertical-align: top;\n",
       "    }\n",
       "\n",
       "    .dataframe thead th {\n",
       "        text-align: right;\n",
       "    }\n",
       "</style>\n",
       "<table border=\"1\" class=\"dataframe\">\n",
       "  <thead>\n",
       "    <tr style=\"text-align: right;\">\n",
       "      <th></th>\n",
       "      <th>date</th>\n",
       "      <th>bedrooms</th>\n",
       "      <th>bathrooms</th>\n",
       "      <th>floors</th>\n",
       "      <th>waterfront</th>\n",
       "      <th>view</th>\n",
       "      <th>condition</th>\n",
       "      <th>grade</th>\n",
       "      <th>zipcode</th>\n",
       "      <th>sqft_lot15</th>\n",
       "      <th>price</th>\n",
       "      <th>sqft_above_log</th>\n",
       "      <th>sqft_basement_log</th>\n",
       "    </tr>\n",
       "  </thead>\n",
       "  <tbody>\n",
       "    <tr>\n",
       "      <th>0</th>\n",
       "      <td>-0.143122</td>\n",
       "      <td>-0.411261</td>\n",
       "      <td>-1.451073</td>\n",
       "      <td>-0.915552</td>\n",
       "      <td>-0.087205</td>\n",
       "      <td>-0.305715</td>\n",
       "      <td>-0.629986</td>\n",
       "      <td>-0.560800</td>\n",
       "      <td>1.869645</td>\n",
       "      <td>-0.260627</td>\n",
       "      <td>-0.866716</td>\n",
       "      <td>-0.753583</td>\n",
       "      <td>0.000000</td>\n",
       "    </tr>\n",
       "    <tr>\n",
       "      <th>1</th>\n",
       "      <td>0.361047</td>\n",
       "      <td>-0.411261</td>\n",
       "      <td>0.174486</td>\n",
       "      <td>0.937431</td>\n",
       "      <td>-0.087205</td>\n",
       "      <td>-0.305715</td>\n",
       "      <td>-0.629986</td>\n",
       "      <td>-0.560800</td>\n",
       "      <td>0.879210</td>\n",
       "      <td>-0.187700</td>\n",
       "      <td>-0.006252</td>\n",
       "      <td>0.672709</td>\n",
       "      <td>-1.121310</td>\n",
       "    </tr>\n",
       "    <tr>\n",
       "      <th>2</th>\n",
       "      <td>1.050962</td>\n",
       "      <td>-1.517363</td>\n",
       "      <td>-1.451073</td>\n",
       "      <td>-0.915552</td>\n",
       "      <td>-0.087205</td>\n",
       "      <td>-0.305715</td>\n",
       "      <td>-0.629986</td>\n",
       "      <td>-1.413190</td>\n",
       "      <td>-0.933473</td>\n",
       "      <td>-0.172190</td>\n",
       "      <td>-0.980773</td>\n",
       "      <td>-1.752995</td>\n",
       "      <td>0.000000</td>\n",
       "    </tr>\n",
       "    <tr>\n",
       "      <th>3</th>\n",
       "      <td>0.361047</td>\n",
       "      <td>0.694841</td>\n",
       "      <td>1.149821</td>\n",
       "      <td>-0.915552</td>\n",
       "      <td>-0.087205</td>\n",
       "      <td>-0.305715</td>\n",
       "      <td>2.444427</td>\n",
       "      <td>-0.560800</td>\n",
       "      <td>1.084772</td>\n",
       "      <td>-0.284459</td>\n",
       "      <td>0.173409</td>\n",
       "      <td>-1.026858</td>\n",
       "      <td>0.937985</td>\n",
       "    </tr>\n",
       "    <tr>\n",
       "      <th>4</th>\n",
       "      <td>0.989047</td>\n",
       "      <td>-0.411261</td>\n",
       "      <td>-0.150626</td>\n",
       "      <td>-0.915552</td>\n",
       "      <td>-0.087205</td>\n",
       "      <td>-0.305715</td>\n",
       "      <td>-0.629986</td>\n",
       "      <td>0.291589</td>\n",
       "      <td>-0.073850</td>\n",
       "      <td>-0.192686</td>\n",
       "      <td>-0.082471</td>\n",
       "      <td>0.073516</td>\n",
       "      <td>0.000000</td>\n",
       "    </tr>\n",
       "  </tbody>\n",
       "</table>\n",
       "</div>"
      ],
      "text/plain": [
       "       date  bedrooms  bathrooms    floors  waterfront      view  condition  \\\n",
       "0 -0.143122 -0.411261  -1.451073 -0.915552   -0.087205 -0.305715  -0.629986   \n",
       "1  0.361047 -0.411261   0.174486  0.937431   -0.087205 -0.305715  -0.629986   \n",
       "2  1.050962 -1.517363  -1.451073 -0.915552   -0.087205 -0.305715  -0.629986   \n",
       "3  0.361047  0.694841   1.149821 -0.915552   -0.087205 -0.305715   2.444427   \n",
       "4  0.989047 -0.411261  -0.150626 -0.915552   -0.087205 -0.305715  -0.629986   \n",
       "\n",
       "      grade   zipcode  sqft_lot15     price  sqft_above_log  sqft_basement_log  \n",
       "0 -0.560800  1.869645   -0.260627 -0.866716       -0.753583           0.000000  \n",
       "1 -0.560800  0.879210   -0.187700 -0.006252        0.672709          -1.121310  \n",
       "2 -1.413190 -0.933473   -0.172190 -0.980773       -1.752995           0.000000  \n",
       "3 -0.560800  1.084772   -0.284459  0.173409       -1.026858           0.937985  \n",
       "4  0.291589 -0.073850   -0.192686 -0.082471        0.073516           0.000000  "
      ]
     },
     "execution_count": 122,
     "metadata": {},
     "output_type": "execute_result"
    }
   ],
   "source": [
    "pdscaled_numericals.head()"
   ]
  },
  {
   "cell_type": "markdown",
   "id": "4978acf0",
   "metadata": {},
   "source": [
    "Dummifying categorical columns"
   ]
  },
  {
   "cell_type": "code",
   "execution_count": 123,
   "id": "fd51baa0",
   "metadata": {},
   "outputs": [
    {
     "data": {
      "text/html": [
       "<div>\n",
       "<style scoped>\n",
       "    .dataframe tbody tr th:only-of-type {\n",
       "        vertical-align: middle;\n",
       "    }\n",
       "\n",
       "    .dataframe tbody tr th {\n",
       "        vertical-align: top;\n",
       "    }\n",
       "\n",
       "    .dataframe thead th {\n",
       "        text-align: right;\n",
       "    }\n",
       "</style>\n",
       "<table border=\"1\" class=\"dataframe\">\n",
       "  <thead>\n",
       "    <tr style=\"text-align: right;\">\n",
       "      <th></th>\n",
       "      <th>month_2</th>\n",
       "      <th>month_3</th>\n",
       "      <th>month_4</th>\n",
       "      <th>month_5</th>\n",
       "      <th>month_6</th>\n",
       "      <th>month_7</th>\n",
       "      <th>month_8</th>\n",
       "      <th>month_9</th>\n",
       "      <th>month_10</th>\n",
       "      <th>month_11</th>\n",
       "      <th>month_12</th>\n",
       "      <th>quarter_2</th>\n",
       "      <th>quarter_3</th>\n",
       "      <th>quarter_4</th>\n",
       "    </tr>\n",
       "  </thead>\n",
       "  <tbody>\n",
       "    <tr>\n",
       "      <th>0</th>\n",
       "      <td>0</td>\n",
       "      <td>0</td>\n",
       "      <td>0</td>\n",
       "      <td>0</td>\n",
       "      <td>0</td>\n",
       "      <td>0</td>\n",
       "      <td>0</td>\n",
       "      <td>0</td>\n",
       "      <td>1</td>\n",
       "      <td>0</td>\n",
       "      <td>0</td>\n",
       "      <td>0</td>\n",
       "      <td>0</td>\n",
       "      <td>1</td>\n",
       "    </tr>\n",
       "    <tr>\n",
       "      <th>1</th>\n",
       "      <td>0</td>\n",
       "      <td>0</td>\n",
       "      <td>0</td>\n",
       "      <td>0</td>\n",
       "      <td>0</td>\n",
       "      <td>0</td>\n",
       "      <td>0</td>\n",
       "      <td>0</td>\n",
       "      <td>0</td>\n",
       "      <td>0</td>\n",
       "      <td>1</td>\n",
       "      <td>0</td>\n",
       "      <td>0</td>\n",
       "      <td>1</td>\n",
       "    </tr>\n",
       "    <tr>\n",
       "      <th>2</th>\n",
       "      <td>1</td>\n",
       "      <td>0</td>\n",
       "      <td>0</td>\n",
       "      <td>0</td>\n",
       "      <td>0</td>\n",
       "      <td>0</td>\n",
       "      <td>0</td>\n",
       "      <td>0</td>\n",
       "      <td>0</td>\n",
       "      <td>0</td>\n",
       "      <td>0</td>\n",
       "      <td>0</td>\n",
       "      <td>0</td>\n",
       "      <td>0</td>\n",
       "    </tr>\n",
       "    <tr>\n",
       "      <th>3</th>\n",
       "      <td>0</td>\n",
       "      <td>0</td>\n",
       "      <td>0</td>\n",
       "      <td>0</td>\n",
       "      <td>0</td>\n",
       "      <td>0</td>\n",
       "      <td>0</td>\n",
       "      <td>0</td>\n",
       "      <td>0</td>\n",
       "      <td>0</td>\n",
       "      <td>1</td>\n",
       "      <td>0</td>\n",
       "      <td>0</td>\n",
       "      <td>1</td>\n",
       "    </tr>\n",
       "    <tr>\n",
       "      <th>4</th>\n",
       "      <td>1</td>\n",
       "      <td>0</td>\n",
       "      <td>0</td>\n",
       "      <td>0</td>\n",
       "      <td>0</td>\n",
       "      <td>0</td>\n",
       "      <td>0</td>\n",
       "      <td>0</td>\n",
       "      <td>0</td>\n",
       "      <td>0</td>\n",
       "      <td>0</td>\n",
       "      <td>0</td>\n",
       "      <td>0</td>\n",
       "      <td>0</td>\n",
       "    </tr>\n",
       "  </tbody>\n",
       "</table>\n",
       "</div>"
      ],
      "text/plain": [
       "   month_2  month_3  month_4  month_5  month_6  month_7  month_8  month_9  \\\n",
       "0        0        0        0        0        0        0        0        0   \n",
       "1        0        0        0        0        0        0        0        0   \n",
       "2        1        0        0        0        0        0        0        0   \n",
       "3        0        0        0        0        0        0        0        0   \n",
       "4        1        0        0        0        0        0        0        0   \n",
       "\n",
       "   month_10  month_11  month_12  quarter_2  quarter_3  quarter_4  \n",
       "0         1         0         0          0          0          1  \n",
       "1         0         0         1          0          0          1  \n",
       "2         0         0         0          0          0          0  \n",
       "3         0         0         1          0          0          1  \n",
       "4         0         0         0          0          0          0  "
      ]
     },
     "execution_count": 123,
     "metadata": {},
     "output_type": "execute_result"
    }
   ],
   "source": [
    "cat_encoded = pd.get_dummies(categoricals, drop_first=True)\n",
    "cat_encoded.head()"
   ]
  },
  {
   "cell_type": "markdown",
   "id": "dd6db42b",
   "metadata": {},
   "source": [
    "Concatenate\n",
    "\n"
   ]
  },
  {
   "cell_type": "code",
   "execution_count": 124,
   "id": "bfbcb1a0",
   "metadata": {},
   "outputs": [
    {
     "data": {
      "text/plain": [
       "(21597, 27)"
      ]
     },
     "execution_count": 124,
     "metadata": {},
     "output_type": "execute_result"
    }
   ],
   "source": [
    "full = pd.concat([pdscaled_numericals.iloc[:,:-1],cat_encoded,numericals.iloc[:,-1]],axis=1)\n",
    "full.shape"
   ]
  },
  {
   "cell_type": "code",
   "execution_count": 125,
   "id": "32d4c472",
   "metadata": {},
   "outputs": [
    {
     "data": {
      "text/html": [
       "<div>\n",
       "<style scoped>\n",
       "    .dataframe tbody tr th:only-of-type {\n",
       "        vertical-align: middle;\n",
       "    }\n",
       "\n",
       "    .dataframe tbody tr th {\n",
       "        vertical-align: top;\n",
       "    }\n",
       "\n",
       "    .dataframe thead th {\n",
       "        text-align: right;\n",
       "    }\n",
       "</style>\n",
       "<table border=\"1\" class=\"dataframe\">\n",
       "  <thead>\n",
       "    <tr style=\"text-align: right;\">\n",
       "      <th></th>\n",
       "      <th>date</th>\n",
       "      <th>bedrooms</th>\n",
       "      <th>bathrooms</th>\n",
       "      <th>floors</th>\n",
       "      <th>waterfront</th>\n",
       "      <th>view</th>\n",
       "      <th>condition</th>\n",
       "      <th>grade</th>\n",
       "      <th>zipcode</th>\n",
       "      <th>sqft_lot15</th>\n",
       "      <th>price</th>\n",
       "      <th>sqft_above_log</th>\n",
       "      <th>month_2</th>\n",
       "      <th>month_3</th>\n",
       "      <th>month_4</th>\n",
       "      <th>month_5</th>\n",
       "      <th>month_6</th>\n",
       "      <th>month_7</th>\n",
       "      <th>month_8</th>\n",
       "      <th>month_9</th>\n",
       "      <th>month_10</th>\n",
       "      <th>month_11</th>\n",
       "      <th>month_12</th>\n",
       "      <th>quarter_2</th>\n",
       "      <th>quarter_3</th>\n",
       "      <th>quarter_4</th>\n",
       "    </tr>\n",
       "  </thead>\n",
       "  <tbody>\n",
       "    <tr>\n",
       "      <th>0</th>\n",
       "      <td>-0.143122</td>\n",
       "      <td>-0.411261</td>\n",
       "      <td>-1.451073</td>\n",
       "      <td>-0.915552</td>\n",
       "      <td>-0.087205</td>\n",
       "      <td>-0.305715</td>\n",
       "      <td>-0.629986</td>\n",
       "      <td>-0.560800</td>\n",
       "      <td>1.869645</td>\n",
       "      <td>-0.260627</td>\n",
       "      <td>-0.866716</td>\n",
       "      <td>-0.753583</td>\n",
       "      <td>0</td>\n",
       "      <td>0</td>\n",
       "      <td>0</td>\n",
       "      <td>0</td>\n",
       "      <td>0</td>\n",
       "      <td>0</td>\n",
       "      <td>0</td>\n",
       "      <td>0</td>\n",
       "      <td>1</td>\n",
       "      <td>0</td>\n",
       "      <td>0</td>\n",
       "      <td>0</td>\n",
       "      <td>0</td>\n",
       "      <td>1</td>\n",
       "    </tr>\n",
       "    <tr>\n",
       "      <th>1</th>\n",
       "      <td>0.361047</td>\n",
       "      <td>-0.411261</td>\n",
       "      <td>0.174486</td>\n",
       "      <td>0.937431</td>\n",
       "      <td>-0.087205</td>\n",
       "      <td>-0.305715</td>\n",
       "      <td>-0.629986</td>\n",
       "      <td>-0.560800</td>\n",
       "      <td>0.879210</td>\n",
       "      <td>-0.187700</td>\n",
       "      <td>-0.006252</td>\n",
       "      <td>0.672709</td>\n",
       "      <td>0</td>\n",
       "      <td>0</td>\n",
       "      <td>0</td>\n",
       "      <td>0</td>\n",
       "      <td>0</td>\n",
       "      <td>0</td>\n",
       "      <td>0</td>\n",
       "      <td>0</td>\n",
       "      <td>0</td>\n",
       "      <td>0</td>\n",
       "      <td>1</td>\n",
       "      <td>0</td>\n",
       "      <td>0</td>\n",
       "      <td>1</td>\n",
       "    </tr>\n",
       "    <tr>\n",
       "      <th>2</th>\n",
       "      <td>1.050962</td>\n",
       "      <td>-1.517363</td>\n",
       "      <td>-1.451073</td>\n",
       "      <td>-0.915552</td>\n",
       "      <td>-0.087205</td>\n",
       "      <td>-0.305715</td>\n",
       "      <td>-0.629986</td>\n",
       "      <td>-1.413190</td>\n",
       "      <td>-0.933473</td>\n",
       "      <td>-0.172190</td>\n",
       "      <td>-0.980773</td>\n",
       "      <td>-1.752995</td>\n",
       "      <td>1</td>\n",
       "      <td>0</td>\n",
       "      <td>0</td>\n",
       "      <td>0</td>\n",
       "      <td>0</td>\n",
       "      <td>0</td>\n",
       "      <td>0</td>\n",
       "      <td>0</td>\n",
       "      <td>0</td>\n",
       "      <td>0</td>\n",
       "      <td>0</td>\n",
       "      <td>0</td>\n",
       "      <td>0</td>\n",
       "      <td>0</td>\n",
       "    </tr>\n",
       "    <tr>\n",
       "      <th>3</th>\n",
       "      <td>0.361047</td>\n",
       "      <td>0.694841</td>\n",
       "      <td>1.149821</td>\n",
       "      <td>-0.915552</td>\n",
       "      <td>-0.087205</td>\n",
       "      <td>-0.305715</td>\n",
       "      <td>2.444427</td>\n",
       "      <td>-0.560800</td>\n",
       "      <td>1.084772</td>\n",
       "      <td>-0.284459</td>\n",
       "      <td>0.173409</td>\n",
       "      <td>-1.026858</td>\n",
       "      <td>0</td>\n",
       "      <td>0</td>\n",
       "      <td>0</td>\n",
       "      <td>0</td>\n",
       "      <td>0</td>\n",
       "      <td>0</td>\n",
       "      <td>0</td>\n",
       "      <td>0</td>\n",
       "      <td>0</td>\n",
       "      <td>0</td>\n",
       "      <td>1</td>\n",
       "      <td>0</td>\n",
       "      <td>0</td>\n",
       "      <td>1</td>\n",
       "    </tr>\n",
       "    <tr>\n",
       "      <th>4</th>\n",
       "      <td>0.989047</td>\n",
       "      <td>-0.411261</td>\n",
       "      <td>-0.150626</td>\n",
       "      <td>-0.915552</td>\n",
       "      <td>-0.087205</td>\n",
       "      <td>-0.305715</td>\n",
       "      <td>-0.629986</td>\n",
       "      <td>0.291589</td>\n",
       "      <td>-0.073850</td>\n",
       "      <td>-0.192686</td>\n",
       "      <td>-0.082471</td>\n",
       "      <td>0.073516</td>\n",
       "      <td>1</td>\n",
       "      <td>0</td>\n",
       "      <td>0</td>\n",
       "      <td>0</td>\n",
       "      <td>0</td>\n",
       "      <td>0</td>\n",
       "      <td>0</td>\n",
       "      <td>0</td>\n",
       "      <td>0</td>\n",
       "      <td>0</td>\n",
       "      <td>0</td>\n",
       "      <td>0</td>\n",
       "      <td>0</td>\n",
       "      <td>0</td>\n",
       "    </tr>\n",
       "  </tbody>\n",
       "</table>\n",
       "</div>"
      ],
      "text/plain": [
       "       date  bedrooms  bathrooms    floors  waterfront      view  condition  \\\n",
       "0 -0.143122 -0.411261  -1.451073 -0.915552   -0.087205 -0.305715  -0.629986   \n",
       "1  0.361047 -0.411261   0.174486  0.937431   -0.087205 -0.305715  -0.629986   \n",
       "2  1.050962 -1.517363  -1.451073 -0.915552   -0.087205 -0.305715  -0.629986   \n",
       "3  0.361047  0.694841   1.149821 -0.915552   -0.087205 -0.305715   2.444427   \n",
       "4  0.989047 -0.411261  -0.150626 -0.915552   -0.087205 -0.305715  -0.629986   \n",
       "\n",
       "      grade   zipcode  sqft_lot15     price  sqft_above_log  month_2  month_3  \\\n",
       "0 -0.560800  1.869645   -0.260627 -0.866716       -0.753583        0        0   \n",
       "1 -0.560800  0.879210   -0.187700 -0.006252        0.672709        0        0   \n",
       "2 -1.413190 -0.933473   -0.172190 -0.980773       -1.752995        1        0   \n",
       "3 -0.560800  1.084772   -0.284459  0.173409       -1.026858        0        0   \n",
       "4  0.291589 -0.073850   -0.192686 -0.082471        0.073516        1        0   \n",
       "\n",
       "   month_4  month_5  month_6  month_7  month_8  month_9  month_10  month_11  \\\n",
       "0        0        0        0        0        0        0         1         0   \n",
       "1        0        0        0        0        0        0         0         0   \n",
       "2        0        0        0        0        0        0         0         0   \n",
       "3        0        0        0        0        0        0         0         0   \n",
       "4        0        0        0        0        0        0         0         0   \n",
       "\n",
       "   month_12  quarter_2  quarter_3  quarter_4  \n",
       "0         0          0          0          1  \n",
       "1         1          0          0          1  \n",
       "2         0          0          0          0  \n",
       "3         1          0          0          1  \n",
       "4         0          0          0          0  "
      ]
     },
     "execution_count": 125,
     "metadata": {},
     "output_type": "execute_result"
    }
   ],
   "source": [
    "full_x = pd.DataFrame(full,columns=full.columns.tolist()[:-1])\n",
    "full_x.head()\n"
   ]
  },
  {
   "cell_type": "code",
   "execution_count": 126,
   "id": "01bd87dc",
   "metadata": {},
   "outputs": [],
   "source": [
    "X = full_x\n",
    "y = data['price']"
   ]
  },
  {
   "cell_type": "markdown",
   "id": "c30f81be",
   "metadata": {},
   "source": [
    "Splitting data intro train and test sets.\n",
    "\n"
   ]
  },
  {
   "cell_type": "code",
   "execution_count": 127,
   "id": "62d3f8b2",
   "metadata": {},
   "outputs": [],
   "source": [
    "from sklearn.model_selection import train_test_split\n",
    "\n",
    "X_train, X_test, y_train, y_test = train_test_split(X, y, test_size=0.3, random_state=40)"
   ]
  },
  {
   "cell_type": "markdown",
   "id": "668bc19b",
   "metadata": {},
   "source": [
    "Training the K-NN model"
   ]
  },
  {
   "cell_type": "code",
   "execution_count": 128,
   "id": "513a9d70",
   "metadata": {},
   "outputs": [
    {
     "data": {
      "text/plain": [
       "KNeighborsRegressor(n_neighbors=8)"
      ]
     },
     "execution_count": 128,
     "metadata": {},
     "output_type": "execute_result"
    }
   ],
   "source": [
    "from sklearn.neighbors import KNeighborsRegressor\n",
    "\n",
    "knn_model = KNeighborsRegressor(n_neighbors=8) # The keyword \"n_neighbors\" is what sets the K.\n",
    "knn_model.fit(X_train, y_train) "
   ]
  },
  {
   "cell_type": "code",
   "execution_count": 129,
   "id": "257c2dc9",
   "metadata": {},
   "outputs": [
    {
     "data": {
      "text/plain": [
       "0.9127457443925724"
      ]
     },
     "execution_count": 129,
     "metadata": {},
     "output_type": "execute_result"
    }
   ],
   "source": [
    "knn_model.score(X_test,y_test)"
   ]
  },
  {
   "cell_type": "markdown",
   "id": "06886160",
   "metadata": {},
   "source": [
    "Getting our predictions and metrics"
   ]
  },
  {
   "cell_type": "code",
   "execution_count": 130,
   "id": "5e621e1c",
   "metadata": {},
   "outputs": [],
   "source": [
    "knn_pred = knn_model.predict(X_test)"
   ]
  },
  {
   "cell_type": "code",
   "execution_count": 131,
   "id": "7dc4fa9c",
   "metadata": {},
   "outputs": [
    {
     "name": "stdout",
     "output_type": "stream",
     "text": [
      "R2:  0.9127457443925724\n",
      "MSE: 11713090532.524797\n",
      "RMSE:  108227.03235571415\n",
      "MAE:  78370.17731481482\n"
     ]
    }
   ],
   "source": [
    "print('R2: ', r2_score(y_test, knn_pred))\n",
    "print('MSE:', mean_squared_error(y_test, knn_pred))\n",
    "print('RMSE: ', math.sqrt(mean_squared_error(y_test, knn_pred)))\n",
    "print('MAE: ', mae(y_test,knn_pred))"
   ]
  },
  {
   "cell_type": "markdown",
   "id": "6844d7fd",
   "metadata": {},
   "source": [
    "The R2 of the KNN model is around 91% with a mean absolute error of 78370 $, so this model performs better than the linear regression we did before.\n",
    "\n",
    "Plot our model results."
   ]
  },
  {
   "cell_type": "code",
   "execution_count": 132,
   "id": "5f1b2226",
   "metadata": {},
   "outputs": [
    {
     "data": {
      "image/png": "[encoded data removed]",
      "text/plain": [
       "<Figure size 720x576 with 1 Axes>"
      ]
     },
     "metadata": {},
     "output_type": "display_data"
    }
   ],
   "source": [
    "# generating value pairs for an ideal model which predicts the exact same y-value for a given test-y-value\n",
    "line_x = line_y = np.linspace(min(y_test), max(y_test), num=len(y_test))\n",
    "fig, ax = plt.subplots(figsize=(10,8))\n",
    "plt.plot(y_test, knn_pred, ms=5, marker=\".\", ls='')\n",
    "# plot the ideal model together with our dots\n",
    "plt.plot(line_x, line_y, ms=0.1, marker=\".\", ls='-', c='r', label='ideal model')\n",
    "# show legend\n",
    "plt.legend();\n",
    "plt.xlabel('y_test (price in $)');\n",
    "plt.ylabel('knn_predicted (price in $)');"
   ]
  },
  {
   "cell_type": "code",
   "execution_count": null,
   "id": "243df7c0",
   "metadata": {},
   "outputs": [],
   "source": []
  },
  {
   "cell_type": "code",
   "execution_count": null,
   "id": "fc014587",
   "metadata": {},
   "outputs": [],
   "source": []
  },
  {
   "cell_type": "code",
   "execution_count": null,
   "id": "1df12026",
   "metadata": {},
   "outputs": [],
   "source": []
  },
  {
   "cell_type": "code",
   "execution_count": null,
   "id": "9fb2761a",
   "metadata": {},
   "outputs": [],
   "source": []
  }
 ],
 "metadata": {
  "kernelspec": {
   "display_name": "Python 3 (ipykernel)",
   "language": "python",
   "name": "python3"
  },
  "language_info": {
   "codemirror_mode": {
    "name": "ipython",
    "version": 3
   },
   "file_extension": ".py",
   "mimetype": "text/x-python",
   "name": "python",
   "nbconvert_exporter": "python",
   "pygments_lexer": "ipython3",
   "version": "3.9.7"
  }
 },
 "nbformat": 4,
 "nbformat_minor": 5
}
